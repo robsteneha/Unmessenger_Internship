{
 "cells": [
  {
   "cell_type": "markdown",
   "id": "8b4fa04b",
   "metadata": {},
   "source": [
    "## Assignment 1\n",
    "**Deadline**: 23rd September 2024\n",
    "\n",
    "This assessment consists of 20 MongoDB queries, ranging from easy to hard. You are required to use the following sample data:\n",
    "\n",
    "```json\n",
    "{\n",
    "    \"students\": [\n",
    "        {\"name\": \"Rohit\", \"age\": 23, \"math_score\": 85, \"physics_score\": 90, \"city\": \"New York\"},\n",
    "        {\"name\": \"Eram\", \"age\": 22, \"math_score\": 78, \"physics_score\": 75, \"city\": \"Los Angeles\"},\n",
    "        {\"name\": \"Madan\", \"age\": 24, \"math_score\": 95, \"physics_score\": 88, \"city\": \"Chicago\"},\n",
    "        {\"name\": \"Uvaish\", \"age\": 21, \"math_score\": 60, \"physics_score\": 65, \"city\": \"Houston\"},\n",
    "        {\"name\": \"Neha\", \"age\": 23, \"math_score\": 72, \"physics_score\": 80, \"city\": \"Phoenix\"}\n",
    "    ]\n",
    "}\n",
    "\n",
    "```\n",
    "\n",
    "Please submit your solutions by the given deadline.\n"
   ]
  },
  {
   "cell_type": "markdown",
   "id": "3e733b76",
   "metadata": {},
   "source": [
    "1. Insert the given sample data into a MongoDB collection called 'students'."
   ]
  },
  {
   "cell_type": "code",
   "execution_count": 3,
   "id": "03d2d6e6",
   "metadata": {},
   "outputs": [],
   "source": [
    "# Importing package\n",
    "import pymongo\n",
    "\n",
    "# Connect to MongoDB\n",
    "client = pymongo.MongoClient(\"mongodb://localhost:27017/\")\n",
    "\n",
    "# Accessing the Database\n",
    "mydb = client[\"Unmessenger\"]\n",
    "\n",
    "# Creating Collection\n",
    "collection = mydb.Assignment\n",
    "\n",
    "# Accessing Collection\n",
    "collection = mydb[\"students\"]\n",
    "\n",
    "students = [\n",
    "        {\"name\": \"Rohit\", \"age\": 23, \"math_score\": 85, \"physics_score\": 90, \"city\": \"New York\"},\n",
    "        {\"name\": \"Eram\", \"age\": 22, \"math_score\": 78, \"physics_score\": 75, \"city\": \"Los Angeles\"},\n",
    "        {\"name\": \"Madan\", \"age\": 24, \"math_score\": 95, \"physics_score\": 88, \"city\": \"Chicago\"},\n",
    "        {\"name\": \"Uvaish\", \"age\": 21, \"math_score\": 60, \"physics_score\": 65, \"city\": \"Houston\"},\n",
    "        {\"name\": \"Neha\", \"age\": 23, \"math_score\": 72, \"physics_score\": 80, \"city\": \"Phoenix\"}\n",
    "    ]"
   ]
  },
  {
   "cell_type": "code",
   "execution_count": 4,
   "id": "d2bff7af",
   "metadata": {},
   "outputs": [
    {
     "data": {
      "text/plain": [
       "InsertManyResult([ObjectId('66f595151f7832391c385609'), ObjectId('66f595151f7832391c38560a'), ObjectId('66f595151f7832391c38560b'), ObjectId('66f595151f7832391c38560c'), ObjectId('66f595151f7832391c38560d')], acknowledged=True)"
      ]
     },
     "execution_count": 4,
     "metadata": {},
     "output_type": "execute_result"
    }
   ],
   "source": [
    "collection.insert_many(students)"
   ]
  },
  {
   "cell_type": "markdown",
   "id": "c63a46c2",
   "metadata": {},
   "source": [
    "2. Write a query to find all students who have a 'math_score' greater than 80."
   ]
  },
  {
   "cell_type": "code",
   "execution_count": 7,
   "id": "2a6ca4b7",
   "metadata": {},
   "outputs": [
    {
     "name": "stdout",
     "output_type": "stream",
     "text": [
      "{'_id': ObjectId('66f595151f7832391c385609'), 'name': 'Rohit', 'age': 23, 'math_score': 85, 'physics_score': 90, 'city': 'New York'}\n",
      "{'_id': ObjectId('66f595151f7832391c38560b'), 'name': 'Madan', 'age': 24, 'math_score': 95, 'physics_score': 88, 'city': 'Chicago'}\n"
     ]
    }
   ],
   "source": [
    "for student in collection.find({\"math_score\": {\"$gt\" : 80}}):\n",
    "    print(student)"
   ]
  },
  {
   "cell_type": "markdown",
   "id": "f965853a",
   "metadata": {},
   "source": [
    "3. Write a query to find students whose 'age' is less than 23."
   ]
  },
  {
   "cell_type": "code",
   "execution_count": 13,
   "id": "6140e412",
   "metadata": {},
   "outputs": [
    {
     "name": "stdout",
     "output_type": "stream",
     "text": [
      "{'_id': ObjectId('66f595151f7832391c38560a'), 'name': 'Eram', 'age': 22, 'math_score': 78, 'physics_score': 75, 'city': 'Los Angeles'}\n",
      "{'_id': ObjectId('66f595151f7832391c38560c'), 'name': 'Uvaish', 'age': 21, 'math_score': 60, 'physics_score': 65, 'city': 'Houston'}\n"
     ]
    }
   ],
   "source": [
    "for student in collection.find({\"age\": {\"$lt\" : 23}}):\n",
    "    print(student)"
   ]
  },
  {
   "cell_type": "markdown",
   "id": "88005dde",
   "metadata": {},
   "source": [
    "4. Write a query to return only the 'name' and 'math_score' of all students."
   ]
  },
  {
   "cell_type": "code",
   "execution_count": 12,
   "id": "b274135f",
   "metadata": {},
   "outputs": [
    {
     "name": "stdout",
     "output_type": "stream",
     "text": [
      "{'name': 'Rohit', 'math_score': 85}\n",
      "{'name': 'Eram', 'math_score': 78}\n",
      "{'name': 'Madan', 'math_score': 95}\n",
      "{'name': 'Uvaish', 'math_score': 60}\n",
      "{'name': 'Neha', 'math_score': 72}\n"
     ]
    }
   ],
   "source": [
    "for student in collection.find({}, {\"_id\": 0, \"name\": 1, \"math_score\": 1}):\n",
    "        print(student)"
   ]
  },
  {
   "cell_type": "markdown",
   "id": "7a148d48",
   "metadata": {},
   "source": [
    "5. Write a query to find students from the city 'New York'."
   ]
  },
  {
   "cell_type": "code",
   "execution_count": 16,
   "id": "2acedafc",
   "metadata": {},
   "outputs": [
    {
     "name": "stdout",
     "output_type": "stream",
     "text": [
      "{'_id': ObjectId('66f595151f7832391c385609'), 'name': 'Rohit', 'age': 23, 'math_score': 85, 'physics_score': 90, 'city': 'New York'}\n"
     ]
    }
   ],
   "source": [
    "for student in collection.find({\"city\" : \"New York\"}):\n",
    "    print(student)"
   ]
  },
  {
   "cell_type": "markdown",
   "id": "aaa6f033",
   "metadata": {},
   "source": [
    "6. Write a query to update the 'physics_score' of 'Neha' to 85."
   ]
  },
  {
   "cell_type": "code",
   "execution_count": 22,
   "id": "ae4d1f5f",
   "metadata": {},
   "outputs": [
    {
     "name": "stdout",
     "output_type": "stream",
     "text": [
      "{'name': 'Neha', 'physics_score': 80}\n",
      "{'name': 'Neha', 'physics_score': 85}\n"
     ]
    }
   ],
   "source": [
    "for student in collection.find({\"name\": \"Neha\"}, {\"_id\": 0, \"name\": 1, \"physics_score\": 1}):\n",
    "    print(student)\n",
    "\n",
    "collection.update_many({\"name\": \"Neha\"}, {\"$set\": {\"physics_score\": 85}})\n",
    "\n",
    "for student in collection.find({\"name\": \"Neha\"}, {\"_id\": 0, \"name\": 1, \"physics_score\": 1}):\n",
    "    print(student)"
   ]
  },
  {
   "cell_type": "markdown",
   "id": "1df67d31",
   "metadata": {},
   "source": [
    "7. Write a query to delete the student 'Uvaish' from the collection."
   ]
  },
  {
   "cell_type": "code",
   "execution_count": 23,
   "id": "293c2347",
   "metadata": {},
   "outputs": [
    {
     "data": {
      "text/plain": [
       "DeleteResult({'n': 1, 'ok': 1.0}, acknowledged=True)"
      ]
     },
     "execution_count": 23,
     "metadata": {},
     "output_type": "execute_result"
    }
   ],
   "source": [
    "collection.delete_one({\"name\": \"Uvaish\"})"
   ]
  },
  {
   "cell_type": "markdown",
   "id": "ad535a0b",
   "metadata": {},
   "source": [
    "8. Write a query to find all students where 'math_score' is between 70 and 90 (inclusive)."
   ]
  },
  {
   "cell_type": "code",
   "execution_count": 30,
   "id": "6a3c58a8",
   "metadata": {},
   "outputs": [
    {
     "name": "stdout",
     "output_type": "stream",
     "text": [
      "{'name': 'Rohit', 'math_score': 85}\n",
      "{'name': 'Eram', 'math_score': 78}\n",
      "{'name': 'Neha', 'math_score': 72}\n"
     ]
    }
   ],
   "source": [
    "query = {\"$and\" :\n",
    "            [ \n",
    "                {\"math_score\": {\"$gt\": 70}},\n",
    "                {\"math_score\": {\"$lte\": 90}}\n",
    "            ]\n",
    "        }\n",
    "for student in collection.find(query, {\"_id\":0, \"name\":1, \"math_score\":1}):\n",
    "    print(student)"
   ]
  },
  {
   "cell_type": "markdown",
   "id": "cfb2950f",
   "metadata": {},
   "source": [
    "9. Write a query to find students whose 'math_score' is greater than 'physics_score'."
   ]
  },
  {
   "cell_type": "code",
   "execution_count": 32,
   "id": "ac170ca2",
   "metadata": {},
   "outputs": [
    {
     "name": "stdout",
     "output_type": "stream",
     "text": [
      "{'_id': ObjectId('66f595151f7832391c38560a'), 'name': 'Eram', 'age': 22, 'math_score': 78, 'physics_score': 75, 'city': 'Los Angeles'}\n",
      "{'_id': ObjectId('66f595151f7832391c38560b'), 'name': 'Madan', 'age': 24, 'math_score': 95, 'physics_score': 88, 'city': 'Chicago'}\n"
     ]
    }
   ],
   "source": [
    "for student in collection.find({\"$where\": \"this.math_score > this.physics_score\"}):\n",
    "    print(student)"
   ]
  },
  {
   "cell_type": "markdown",
   "id": "cebc3d1a",
   "metadata": {},
   "source": [
    "10. Write a query to return students sorted by 'math_score' in descending order."
   ]
  },
  {
   "cell_type": "code",
   "execution_count": 38,
   "id": "1b44a3bd",
   "metadata": {},
   "outputs": [
    {
     "name": "stdout",
     "output_type": "stream",
     "text": [
      "{'_id': ObjectId('66f595151f7832391c38560a'), 'name': 'Eram', 'age': 22, 'math_score': 78, 'physics_score': 75, 'city': 'Los Angeles'}\n",
      "{'_id': ObjectId('66f595151f7832391c38560b'), 'name': 'Madan', 'age': 24, 'math_score': 95, 'physics_score': 88, 'city': 'Chicago'}\n",
      "{'_id': ObjectId('66f595151f7832391c38560d'), 'name': 'Neha', 'age': 23, 'math_score': 72, 'physics_score': 85, 'city': 'Phoenix'}\n",
      "{'_id': ObjectId('66f595151f7832391c385609'), 'name': 'Rohit', 'age': 23, 'math_score': 85, 'physics_score': 90, 'city': 'New York'}\n"
     ]
    }
   ],
   "source": [
    "for student in collection.find().sort({\"name\":1}):\n",
    "    print(student)"
   ]
  },
  {
   "cell_type": "markdown",
   "id": "be69f913",
   "metadata": {},
   "source": [
    "11. Write a query using the aggregation framework to calculate the average 'math_score' of all students."
   ]
  },
  {
   "cell_type": "code",
   "execution_count": 54,
   "id": "8041c7fb",
   "metadata": {},
   "outputs": [
    {
     "name": "stdout",
     "output_type": "stream",
     "text": [
      "{'avgMathScore': 82.5}\n"
     ]
    }
   ],
   "source": [
    "pipeline = [\n",
    "            {\n",
    "                \"$group\": {\n",
    "                    \"_id\": \"null\",\n",
    "                    \"avgMathScore\": {\"$avg\": \"$math_score\"}\n",
    "                }\n",
    "            },\n",
    "            {\n",
    "                \"$project\": {\n",
    "                    \"_id\": 0\n",
    "                }\n",
    "            }\n",
    "        ]\n",
    "\n",
    "for student in collection.aggregate(pipeline):\n",
    "    print(student)"
   ]
  },
  {
   "cell_type": "markdown",
   "id": "cf841104",
   "metadata": {},
   "source": [
    "12. Write a query to group students by 'city' and count the number of students in each city."
   ]
  },
  {
   "cell_type": "code",
   "execution_count": 60,
   "id": "11c79007",
   "metadata": {},
   "outputs": [
    {
     "name": "stdout",
     "output_type": "stream",
     "text": [
      "{'_id': 'Phoenix', 'count': 1}\n",
      "{'_id': 'New York', 'count': 1}\n",
      "{'_id': 'Los Angeles', 'count': 1}\n",
      "{'_id': 'Chicago', 'count': 1}\n"
     ]
    }
   ],
   "source": [
    "pipeline = [\n",
    "    {\n",
    "        \"$group\":\n",
    "        {\n",
    "            \"_id\": \"$city\",\n",
    "            \"count\": {\"$sum\": 1}\n",
    "        }\n",
    "    }\n",
    "]\n",
    "\n",
    "for student in collection.aggregate(pipeline):\n",
    "    print(student)"
   ]
  },
  {
   "cell_type": "markdown",
   "id": "422ec61c",
   "metadata": {},
   "source": [
    "13. Write a query to find students who either have 'math_score' greater than 80 or 'physics_score' greater than 85."
   ]
  },
  {
   "cell_type": "code",
   "execution_count": 62,
   "id": "260dcc6a",
   "metadata": {},
   "outputs": [
    {
     "name": "stdout",
     "output_type": "stream",
     "text": [
      "{'_id': ObjectId('66f595151f7832391c385609'), 'name': 'Rohit', 'age': 23, 'math_score': 85, 'physics_score': 90, 'city': 'New York'}\n",
      "{'_id': ObjectId('66f595151f7832391c38560b'), 'name': 'Madan', 'age': 24, 'math_score': 95, 'physics_score': 88, 'city': 'Chicago'}\n"
     ]
    }
   ],
   "source": [
    "query = {\n",
    "        \"$or\": [\n",
    "            {\"math_score\": {\"$gt\": 80} },\n",
    "            {\"physics_score\": {\"$gt\": 85} }\n",
    "        ]\n",
    "    }\n",
    "\n",
    "for student in collection.find(query):\n",
    "    print(student)"
   ]
  },
  {
   "cell_type": "markdown",
   "id": "ca4d6f63",
   "metadata": {},
   "source": [
    "14. Write a query to find students whose age is exactly 23 and live in 'Phoenix'."
   ]
  },
  {
   "cell_type": "code",
   "execution_count": 65,
   "id": "8743c54d",
   "metadata": {},
   "outputs": [
    {
     "name": "stdout",
     "output_type": "stream",
     "text": [
      "{'_id': ObjectId('66f595151f7832391c38560d'), 'name': 'Neha', 'age': 23, 'math_score': 72, 'physics_score': 85, 'city': 'Phoenix'}\n"
     ]
    }
   ],
   "source": [
    "query = {\n",
    "    \"$and\": [\n",
    "        {\"age\": {\"$eq\": 23} },\n",
    "        {\"city\": {\"$eq\": \"Phoenix\"} }\n",
    "    ]\n",
    "}\n",
    "\n",
    "for student in collection.find(query):\n",
    "    print(student)"
   ]
  },
  {
   "cell_type": "markdown",
   "id": "2f871c8d",
   "metadata": {},
   "source": [
    "15. Write a query to find students whose 'math_score' is not equal to 85."
   ]
  },
  {
   "cell_type": "code",
   "execution_count": 66,
   "id": "31dad59e",
   "metadata": {},
   "outputs": [
    {
     "name": "stdout",
     "output_type": "stream",
     "text": [
      "{'_id': ObjectId('66f595151f7832391c38560a'), 'name': 'Eram', 'age': 22, 'math_score': 78, 'physics_score': 75, 'city': 'Los Angeles'}\n",
      "{'_id': ObjectId('66f595151f7832391c38560b'), 'name': 'Madan', 'age': 24, 'math_score': 95, 'physics_score': 88, 'city': 'Chicago'}\n",
      "{'_id': ObjectId('66f595151f7832391c38560d'), 'name': 'Neha', 'age': 23, 'math_score': 72, 'physics_score': 85, 'city': 'Phoenix'}\n"
     ]
    }
   ],
   "source": [
    "for student in collection.find({\"math_score\": {\"$ne\": 85}}):\n",
    "    print(student)"
   ]
  },
  {
   "cell_type": "markdown",
   "id": "60ea1681",
   "metadata": {},
   "source": [
    "16. Write a query to find students whose 'name' starts with the letter 'A'."
   ]
  },
  {
   "cell_type": "code",
   "execution_count": 70,
   "id": "7bd53a1f",
   "metadata": {},
   "outputs": [],
   "source": [
    "for student in collection.find({\"name\": {\"$regex\": \"A.*\"}}):\n",
    "    print(student)"
   ]
  },
  {
   "cell_type": "markdown",
   "id": "ed20ebf4",
   "metadata": {},
   "source": [
    "17. Write a query to find students whose 'city' is neither 'New York' nor 'Los Angeles'."
   ]
  },
  {
   "cell_type": "code",
   "execution_count": 71,
   "id": "756b4281",
   "metadata": {},
   "outputs": [
    {
     "name": "stdout",
     "output_type": "stream",
     "text": [
      "{'_id': ObjectId('66f595151f7832391c38560b'), 'name': 'Madan', 'age': 24, 'math_score': 95, 'physics_score': 88, 'city': 'Chicago'}\n",
      "{'_id': ObjectId('66f595151f7832391c38560d'), 'name': 'Neha', 'age': 23, 'math_score': 72, 'physics_score': 85, 'city': 'Phoenix'}\n"
     ]
    }
   ],
   "source": [
    "for student in collection.find({\"city\": {\"$nin\": [\"New York\", \"Los Angeles\"]}}):\n",
    "    print(student)"
   ]
  },
  {
   "cell_type": "markdown",
   "id": "02cbae8c",
   "metadata": {},
   "source": [
    "18. Write a query to update all students with 'age' greater than 22 to add a new field 'graduated': true."
   ]
  },
  {
   "cell_type": "code",
   "execution_count": 81,
   "id": "24708ab9",
   "metadata": {},
   "outputs": [
    {
     "name": "stdout",
     "output_type": "stream",
     "text": [
      "Before: \n",
      "\n",
      "{'_id': ObjectId('66f595151f7832391c385609'), 'name': 'Rohit', 'age': 23, 'math_score': 85, 'physics_score': 90, 'city': 'New York'}\n",
      "{'_id': ObjectId('66f595151f7832391c38560a'), 'name': 'Eram', 'age': 22, 'math_score': 78, 'physics_score': 75, 'city': 'Los Angeles'}\n",
      "{'_id': ObjectId('66f595151f7832391c38560b'), 'name': 'Madan', 'age': 24, 'math_score': 95, 'physics_score': 88, 'city': 'Chicago'}\n",
      "{'_id': ObjectId('66f595151f7832391c38560d'), 'name': 'Neha', 'age': 23, 'math_score': 72, 'physics_score': 85, 'city': 'Phoenix'}\n",
      "\n",
      "After: \n",
      "\n",
      "{'_id': ObjectId('66f595151f7832391c385609'), 'name': 'Rohit', 'age': 23, 'math_score': 85, 'physics_score': 90, 'city': 'New York', 'graduated': True}\n",
      "{'_id': ObjectId('66f595151f7832391c38560a'), 'name': 'Eram', 'age': 22, 'math_score': 78, 'physics_score': 75, 'city': 'Los Angeles'}\n",
      "{'_id': ObjectId('66f595151f7832391c38560b'), 'name': 'Madan', 'age': 24, 'math_score': 95, 'physics_score': 88, 'city': 'Chicago', 'graduated': True}\n",
      "{'_id': ObjectId('66f595151f7832391c38560d'), 'name': 'Neha', 'age': 23, 'math_score': 72, 'physics_score': 85, 'city': 'Phoenix', 'graduated': True}\n"
     ]
    }
   ],
   "source": [
    "print(\"Before: \\n\")\n",
    "for student in collection.find():\n",
    "    print(student)\n",
    "\n",
    "collection.update_many({\"age\": {\"$gt\": 22}}, {\"$set\": {\"graduated\": True}})\n",
    "\n",
    "print(\"\\nAfter: \\n\")\n",
    "for student in collection.find():\n",
    "    print(student)"
   ]
  },
  {
   "cell_type": "markdown",
   "id": "d2212656",
   "metadata": {},
   "source": [
    "19. Write a query to remove the 'physics_score' field for students who live in 'Chicago'."
   ]
  },
  {
   "cell_type": "code",
   "execution_count": 82,
   "id": "eb52a26e",
   "metadata": {},
   "outputs": [
    {
     "name": "stdout",
     "output_type": "stream",
     "text": [
      "Before: \n",
      "\n",
      "{'_id': ObjectId('66f595151f7832391c385609'), 'name': 'Rohit', 'age': 23, 'math_score': 85, 'physics_score': 90, 'city': 'New York', 'graduated': True}\n",
      "{'_id': ObjectId('66f595151f7832391c38560a'), 'name': 'Eram', 'age': 22, 'math_score': 78, 'physics_score': 75, 'city': 'Los Angeles'}\n",
      "{'_id': ObjectId('66f595151f7832391c38560b'), 'name': 'Madan', 'age': 24, 'math_score': 95, 'physics_score': 88, 'city': 'Chicago', 'graduated': True}\n",
      "{'_id': ObjectId('66f595151f7832391c38560d'), 'name': 'Neha', 'age': 23, 'math_score': 72, 'physics_score': 85, 'city': 'Phoenix', 'graduated': True}\n",
      "\n",
      "After: \n",
      "\n",
      "{'_id': ObjectId('66f595151f7832391c385609'), 'name': 'Rohit', 'age': 23, 'math_score': 85, 'physics_score': 90, 'city': 'New York', 'graduated': True}\n",
      "{'_id': ObjectId('66f595151f7832391c38560a'), 'name': 'Eram', 'age': 22, 'math_score': 78, 'physics_score': 75, 'city': 'Los Angeles'}\n",
      "{'_id': ObjectId('66f595151f7832391c38560b'), 'name': 'Madan', 'age': 24, 'math_score': 95, 'city': 'Chicago', 'graduated': True}\n",
      "{'_id': ObjectId('66f595151f7832391c38560d'), 'name': 'Neha', 'age': 23, 'math_score': 72, 'physics_score': 85, 'city': 'Phoenix', 'graduated': True}\n"
     ]
    }
   ],
   "source": [
    "print(\"Before: \\n\")\n",
    "for student in collection.find():\n",
    "    print(student)\n",
    "\n",
    "collection.update_many({\"city\": {\"$eq\": \"Chicago\"}}, {\"$unset\": {\"physics_score\": \"\"}})\n",
    "\n",
    "print(\"\\nAfter: \\n\")\n",
    "for student in collection.find():\n",
    "    print(student)"
   ]
  },
  {
   "cell_type": "markdown",
   "id": "29fcb8f8",
   "metadata": {},
   "source": [
    "20. Write a query to find the student with the highest 'math_score'."
   ]
  },
  {
   "cell_type": "code",
   "execution_count": 96,
   "id": "23920a8c",
   "metadata": {},
   "outputs": [
    {
     "name": "stdout",
     "output_type": "stream",
     "text": [
      "{'_id': ObjectId('66f595151f7832391c38560b'), 'name': 'Madan', 'age': 24, 'math_score': 95, 'city': 'Chicago', 'graduated': True}\n"
     ]
    }
   ],
   "source": [
    "for student in collection.find().sort({\"math_score\":-1}).limit(1):\n",
    "    print(student)"
   ]
  },
  {
   "cell_type": "code",
   "execution_count": null,
   "id": "51e0fe0c",
   "metadata": {},
   "outputs": [],
   "source": []
  }
 ],
 "metadata": {
  "kernelspec": {
   "display_name": "Python 3",
   "language": "python",
   "name": "python3"
  },
  "language_info": {
   "codemirror_mode": {
    "name": "ipython",
    "version": 3
   },
   "file_extension": ".py",
   "mimetype": "text/x-python",
   "name": "python",
   "nbconvert_exporter": "python",
   "pygments_lexer": "ipython3",
   "version": "3.9.6"
  }
 },
 "nbformat": 4,
 "nbformat_minor": 5
}
