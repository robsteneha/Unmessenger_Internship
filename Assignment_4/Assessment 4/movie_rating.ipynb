{
 "cells": [
  {
   "cell_type": "code",
   "execution_count": 173,
   "metadata": {},
   "outputs": [],
   "source": [
    "import pandas as pd\n",
    "import numpy as np\n",
    "import matplotlib.pyplot as plt\n",
    "import seaborn as sns\n",
    "import re"
   ]
  },
  {
   "cell_type": "markdown",
   "metadata": {},
   "source": [
    "Setting display options"
   ]
  },
  {
   "cell_type": "code",
   "execution_count": 174,
   "metadata": {},
   "outputs": [],
   "source": [
    "pd.set_option('display.max_rows', 5000)\n",
    "pd.set_option('display.max_columns', 5000)\n",
    "pd.set_option('display.width', 10000)\n",
    "np.set_printoptions(threshold=np.inf)"
   ]
  },
  {
   "cell_type": "markdown",
   "metadata": {},
   "source": [
    "#### Task 1: Data Understanding"
   ]
  },
  {
   "cell_type": "code",
   "execution_count": 175,
   "metadata": {},
   "outputs": [
    {
     "data": {
      "text/html": [
       "<div>\n",
       "<style scoped>\n",
       "    .dataframe tbody tr th:only-of-type {\n",
       "        vertical-align: middle;\n",
       "    }\n",
       "\n",
       "    .dataframe tbody tr th {\n",
       "        vertical-align: top;\n",
       "    }\n",
       "\n",
       "    .dataframe thead th {\n",
       "        text-align: right;\n",
       "    }\n",
       "</style>\n",
       "<table border=\"1\" class=\"dataframe\">\n",
       "  <thead>\n",
       "    <tr style=\"text-align: right;\">\n",
       "      <th></th>\n",
       "      <th>ID</th>\n",
       "      <th>Movie Name</th>\n",
       "      <th>Year</th>\n",
       "      <th>Timing(min)</th>\n",
       "      <th>Rating(10)</th>\n",
       "      <th>Votes</th>\n",
       "      <th>Genre</th>\n",
       "      <th>Language</th>\n",
       "    </tr>\n",
       "  </thead>\n",
       "  <tbody>\n",
       "    <tr>\n",
       "      <th>49994</th>\n",
       "      <td>tt1620907</td>\n",
       "      <td>Na Ghar Ke Na Ghaat Ke</td>\n",
       "      <td>2010</td>\n",
       "      <td>-</td>\n",
       "      <td>6.1</td>\n",
       "      <td>269</td>\n",
       "      <td>Comedy, Drama</td>\n",
       "      <td>bhojpuri</td>\n",
       "    </tr>\n",
       "    <tr>\n",
       "      <th>13038</th>\n",
       "      <td>tt0238188</td>\n",
       "      <td>Don Ghadicha Daav</td>\n",
       "      <td>1958</td>\n",
       "      <td>-</td>\n",
       "      <td>-</td>\n",
       "      <td>-</td>\n",
       "      <td>-</td>\n",
       "      <td>marathi</td>\n",
       "    </tr>\n",
       "    <tr>\n",
       "      <th>16214</th>\n",
       "      <td>tt10626906</td>\n",
       "      <td>Shesher Golpo</td>\n",
       "      <td>2019</td>\n",
       "      <td>122 min</td>\n",
       "      <td>4.1</td>\n",
       "      <td>13</td>\n",
       "      <td>Drama, Romance</td>\n",
       "      <td>bengali</td>\n",
       "    </tr>\n",
       "    <tr>\n",
       "      <th>24356</th>\n",
       "      <td>tt12757130</td>\n",
       "      <td>Bager Baccha</td>\n",
       "      <td>2001</td>\n",
       "      <td>142 min</td>\n",
       "      <td>-</td>\n",
       "      <td>-</td>\n",
       "      <td>Action, Comedy, Drama</td>\n",
       "      <td>bengali</td>\n",
       "    </tr>\n",
       "    <tr>\n",
       "      <th>46832</th>\n",
       "      <td>tt14127388</td>\n",
       "      <td>Zabata</td>\n",
       "      <td>1993</td>\n",
       "      <td>155 min</td>\n",
       "      <td>-</td>\n",
       "      <td>-</td>\n",
       "      <td>Action</td>\n",
       "      <td>punjabi</td>\n",
       "    </tr>\n",
       "    <tr>\n",
       "      <th>50130</th>\n",
       "      <td>tt0269889</td>\n",
       "      <td>Sorathno Savaj</td>\n",
       "      <td>1985</td>\n",
       "      <td>-</td>\n",
       "      <td>-</td>\n",
       "      <td>-</td>\n",
       "      <td>Drama, Romance</td>\n",
       "      <td>gujarati</td>\n",
       "    </tr>\n",
       "    <tr>\n",
       "      <th>48408</th>\n",
       "      <td>tt8733898</td>\n",
       "      <td>U Turn</td>\n",
       "      <td>2018</td>\n",
       "      <td>128 min</td>\n",
       "      <td>7.0</td>\n",
       "      <td>2,773</td>\n",
       "      <td>Crime, Horror, Mystery</td>\n",
       "      <td>tamil</td>\n",
       "    </tr>\n",
       "    <tr>\n",
       "      <th>17270</th>\n",
       "      <td>tt2387419</td>\n",
       "      <td>Chanti</td>\n",
       "      <td>2004</td>\n",
       "      <td>-</td>\n",
       "      <td>3.2</td>\n",
       "      <td>58</td>\n",
       "      <td>Family</td>\n",
       "      <td>telugu</td>\n",
       "    </tr>\n",
       "    <tr>\n",
       "      <th>3661</th>\n",
       "      <td>tt0242853</td>\n",
       "      <td>Sardar</td>\n",
       "      <td>1967</td>\n",
       "      <td>-</td>\n",
       "      <td>7.3</td>\n",
       "      <td>10</td>\n",
       "      <td>Action, History</td>\n",
       "      <td>hindi</td>\n",
       "    </tr>\n",
       "    <tr>\n",
       "      <th>21791</th>\n",
       "      <td>tt10976582</td>\n",
       "      <td>Last Chance (Gujarati)</td>\n",
       "      <td>2017</td>\n",
       "      <td>-</td>\n",
       "      <td>-</td>\n",
       "      <td>-</td>\n",
       "      <td>Comedy</td>\n",
       "      <td>gujarati</td>\n",
       "    </tr>\n",
       "  </tbody>\n",
       "</table>\n",
       "</div>"
      ],
      "text/plain": [
       "               ID              Movie Name  Year Timing(min) Rating(10)  Votes                               Genre  Language\n",
       "49994   tt1620907  Na Ghar Ke Na Ghaat Ke  2010           -        6.1    269           Comedy, Drama              bhojpuri\n",
       "13038   tt0238188       Don Ghadicha Daav  1958           -          -      -                                   -   marathi\n",
       "16214  tt10626906           Shesher Golpo  2019     122 min        4.1     13          Drama, Romance               bengali\n",
       "24356  tt12757130            Bager Baccha  2001     142 min          -      -   Action, Comedy, Drama               bengali\n",
       "46832  tt14127388                  Zabata  1993     155 min          -      -                  Action               punjabi\n",
       "50130   tt0269889          Sorathno Savaj  1985           -          -      -          Drama, Romance              gujarati\n",
       "48408   tt8733898                  U Turn  2018     128 min        7.0  2,773  Crime, Horror, Mystery                 tamil\n",
       "17270   tt2387419                  Chanti  2004           -        3.2     58                  Family                telugu\n",
       "3661    tt0242853                  Sardar  1967           -        7.3     10         Action, History                 hindi\n",
       "21791  tt10976582  Last Chance (Gujarati)  2017           -          -      -                  Comedy              gujarati"
      ]
     },
     "execution_count": 175,
     "metadata": {},
     "output_type": "execute_result"
    }
   ],
   "source": [
    "df_movie = pd.read_csv(\"/Users/neha.p/Desktop/Unmessenger_Internship/Assignment_4/Assessment 4/Dataset.csv\")\n",
    "df_movie.sample(10)"
   ]
  },
  {
   "cell_type": "markdown",
   "metadata": {},
   "source": [
    "There are some missing values marked as \"-\". We'll need to convert those to NaN\n",
    "It also seems like the Gengre column has multiple values."
   ]
  },
  {
   "cell_type": "code",
   "execution_count": 176,
   "metadata": {},
   "outputs": [],
   "source": [
    "#replacing the null i.e. \"-\" values to NaN\n",
    "df_movie = df_movie.apply(lambda x: x.str.strip()).replace('-', np.nan)"
   ]
  },
  {
   "cell_type": "code",
   "execution_count": 177,
   "metadata": {},
   "outputs": [
    {
     "data": {
      "text/html": [
       "<div>\n",
       "<style scoped>\n",
       "    .dataframe tbody tr th:only-of-type {\n",
       "        vertical-align: middle;\n",
       "    }\n",
       "\n",
       "    .dataframe tbody tr th {\n",
       "        vertical-align: top;\n",
       "    }\n",
       "\n",
       "    .dataframe thead th {\n",
       "        text-align: right;\n",
       "    }\n",
       "</style>\n",
       "<table border=\"1\" class=\"dataframe\">\n",
       "  <thead>\n",
       "    <tr style=\"text-align: right;\">\n",
       "      <th></th>\n",
       "      <th>ID</th>\n",
       "      <th>Movie Name</th>\n",
       "      <th>Year</th>\n",
       "      <th>Timing(min)</th>\n",
       "      <th>Rating(10)</th>\n",
       "      <th>Votes</th>\n",
       "      <th>Genre</th>\n",
       "      <th>Language</th>\n",
       "    </tr>\n",
       "  </thead>\n",
       "  <tbody>\n",
       "    <tr>\n",
       "      <th>16495</th>\n",
       "      <td>tt0325215</td>\n",
       "      <td>Daag</td>\n",
       "      <td>I 2001</td>\n",
       "      <td>140 min</td>\n",
       "      <td>7.8</td>\n",
       "      <td>6</td>\n",
       "      <td>NaN</td>\n",
       "      <td>nepali</td>\n",
       "    </tr>\n",
       "    <tr>\n",
       "      <th>28719</th>\n",
       "      <td>tt4471488</td>\n",
       "      <td>Mythri</td>\n",
       "      <td>2015</td>\n",
       "      <td>137 min</td>\n",
       "      <td>7.4</td>\n",
       "      <td>300</td>\n",
       "      <td>Drama</td>\n",
       "      <td>malayalam</td>\n",
       "    </tr>\n",
       "    <tr>\n",
       "      <th>16683</th>\n",
       "      <td>tt1582526</td>\n",
       "      <td>Kotha Bandham</td>\n",
       "      <td>2010</td>\n",
       "      <td>NaN</td>\n",
       "      <td>NaN</td>\n",
       "      <td>NaN</td>\n",
       "      <td>Family</td>\n",
       "      <td>telugu</td>\n",
       "    </tr>\n",
       "    <tr>\n",
       "      <th>44246</th>\n",
       "      <td>tt0352915</td>\n",
       "      <td>Theruvu Narthaki</td>\n",
       "      <td>1988</td>\n",
       "      <td>71 min</td>\n",
       "      <td>NaN</td>\n",
       "      <td>NaN</td>\n",
       "      <td>NaN</td>\n",
       "      <td>malayalam</td>\n",
       "    </tr>\n",
       "    <tr>\n",
       "      <th>8343</th>\n",
       "      <td>tt9761238</td>\n",
       "      <td>Avathara Vettai</td>\n",
       "      <td>2019</td>\n",
       "      <td>NaN</td>\n",
       "      <td>NaN</td>\n",
       "      <td>NaN</td>\n",
       "      <td>Drama</td>\n",
       "      <td>tamil</td>\n",
       "    </tr>\n",
       "    <tr>\n",
       "      <th>1271</th>\n",
       "      <td>tt5954586</td>\n",
       "      <td>Deiva Thirumagal</td>\n",
       "      <td>1967</td>\n",
       "      <td>125 min</td>\n",
       "      <td>NaN</td>\n",
       "      <td>NaN</td>\n",
       "      <td>NaN</td>\n",
       "      <td>tamil</td>\n",
       "    </tr>\n",
       "    <tr>\n",
       "      <th>31999</th>\n",
       "      <td>tt7044754</td>\n",
       "      <td>Parineeta</td>\n",
       "      <td>1986</td>\n",
       "      <td>123 min</td>\n",
       "      <td>NaN</td>\n",
       "      <td>NaN</td>\n",
       "      <td>Drama, Family, Romance</td>\n",
       "      <td>bengali</td>\n",
       "    </tr>\n",
       "    <tr>\n",
       "      <th>8091</th>\n",
       "      <td>tt1442481</td>\n",
       "      <td>#73, Shaanthi Nivaasa</td>\n",
       "      <td>2007</td>\n",
       "      <td>157 min</td>\n",
       "      <td>7.1</td>\n",
       "      <td>185</td>\n",
       "      <td>Drama, Family, Musical</td>\n",
       "      <td>kannada</td>\n",
       "    </tr>\n",
       "    <tr>\n",
       "      <th>6460</th>\n",
       "      <td>tt9048688</td>\n",
       "      <td>Maindhan</td>\n",
       "      <td>1994</td>\n",
       "      <td>125 min</td>\n",
       "      <td>NaN</td>\n",
       "      <td>NaN</td>\n",
       "      <td>Drama</td>\n",
       "      <td>tamil</td>\n",
       "    </tr>\n",
       "    <tr>\n",
       "      <th>4270</th>\n",
       "      <td>tt3680720</td>\n",
       "      <td>Mother of Desert</td>\n",
       "      <td>2004 TV Movie</td>\n",
       "      <td>56 min</td>\n",
       "      <td>NaN</td>\n",
       "      <td>NaN</td>\n",
       "      <td>Action, Drama</td>\n",
       "      <td>urdu</td>\n",
       "    </tr>\n",
       "  </tbody>\n",
       "</table>\n",
       "</div>"
      ],
      "text/plain": [
       "              ID             Movie Name           Year Timing(min) Rating(10) Votes                   Genre   Language\n",
       "16495  tt0325215                   Daag         I 2001     140 min        7.8     6                     NaN     nepali\n",
       "28719  tt4471488                 Mythri           2015     137 min        7.4   300                   Drama  malayalam\n",
       "16683  tt1582526          Kotha Bandham           2010         NaN        NaN   NaN                  Family     telugu\n",
       "44246  tt0352915       Theruvu Narthaki           1988      71 min        NaN   NaN                     NaN  malayalam\n",
       "8343   tt9761238        Avathara Vettai           2019         NaN        NaN   NaN                   Drama      tamil\n",
       "1271   tt5954586       Deiva Thirumagal           1967     125 min        NaN   NaN                     NaN      tamil\n",
       "31999  tt7044754              Parineeta           1986     123 min        NaN   NaN  Drama, Family, Romance    bengali\n",
       "8091   tt1442481  #73, Shaanthi Nivaasa           2007     157 min        7.1   185  Drama, Family, Musical    kannada\n",
       "6460   tt9048688               Maindhan           1994     125 min        NaN   NaN                   Drama      tamil\n",
       "4270   tt3680720       Mother of Desert  2004 TV Movie      56 min        NaN   NaN           Action, Drama       urdu"
      ]
     },
     "execution_count": 177,
     "metadata": {},
     "output_type": "execute_result"
    }
   ],
   "source": [
    "#verifying if '-' have been properly changed to NaN\n",
    "\n",
    "df_movie.sample(10)"
   ]
  },
  {
   "cell_type": "code",
   "execution_count": 178,
   "metadata": {},
   "outputs": [
    {
     "data": {
      "text/plain": [
       "(50602, 8)"
      ]
     },
     "execution_count": 178,
     "metadata": {},
     "output_type": "execute_result"
    }
   ],
   "source": [
    "df_movie.shape"
   ]
  },
  {
   "cell_type": "markdown",
   "metadata": {},
   "source": [
    "The dataset has 8 columns and 50602 rows."
   ]
  },
  {
   "cell_type": "code",
   "execution_count": 179,
   "metadata": {},
   "outputs": [
    {
     "data": {
      "text/plain": [
       "Index(['ID', 'Movie Name', 'Year', 'Timing(min)', 'Rating(10)', 'Votes', 'Genre', 'Language'], dtype='object')"
      ]
     },
     "execution_count": 179,
     "metadata": {},
     "output_type": "execute_result"
    }
   ],
   "source": [
    "df_movie.columns"
   ]
  },
  {
   "cell_type": "code",
   "execution_count": 180,
   "metadata": {},
   "outputs": [
    {
     "name": "stdout",
     "output_type": "stream",
     "text": [
      "<class 'pandas.core.frame.DataFrame'>\n",
      "RangeIndex: 50602 entries, 0 to 50601\n",
      "Data columns (total 8 columns):\n",
      " #   Column       Non-Null Count  Dtype \n",
      "---  ------       --------------  ----- \n",
      " 0   ID           48094 non-null  object\n",
      " 1   Movie Name   50602 non-null  object\n",
      " 2   Year         49041 non-null  object\n",
      " 3   Timing(min)  24710 non-null  object\n",
      " 4   Rating(10)   23676 non-null  object\n",
      " 5   Votes        23677 non-null  object\n",
      " 6   Genre        42021 non-null  object\n",
      " 7   Language     50602 non-null  object\n",
      "dtypes: object(8)\n",
      "memory usage: 3.1+ MB\n"
     ]
    }
   ],
   "source": [
    "#let's see the count of null values and the various data types of each column\n",
    "\n",
    "df_movie.info()"
   ]
  },
  {
   "cell_type": "markdown",
   "metadata": {},
   "source": [
    "The columns \"Timing(min), Rating(10) and Votes\" seem to have a lot of null values. Also it seems like the data type of Year should be int, Timing should be int, Rating should be float and Votes should be int as well."
   ]
  },
  {
   "cell_type": "code",
   "execution_count": 181,
   "metadata": {},
   "outputs": [
    {
     "data": {
      "text/html": [
       "<div>\n",
       "<style scoped>\n",
       "    .dataframe tbody tr th:only-of-type {\n",
       "        vertical-align: middle;\n",
       "    }\n",
       "\n",
       "    .dataframe tbody tr th {\n",
       "        vertical-align: top;\n",
       "    }\n",
       "\n",
       "    .dataframe thead th {\n",
       "        text-align: right;\n",
       "    }\n",
       "</style>\n",
       "<table border=\"1\" class=\"dataframe\">\n",
       "  <thead>\n",
       "    <tr style=\"text-align: right;\">\n",
       "      <th></th>\n",
       "      <th>ID</th>\n",
       "      <th>Movie Name</th>\n",
       "      <th>Year</th>\n",
       "      <th>Timing(min)</th>\n",
       "      <th>Rating(10)</th>\n",
       "      <th>Votes</th>\n",
       "      <th>Genre</th>\n",
       "      <th>Language</th>\n",
       "    </tr>\n",
       "  </thead>\n",
       "  <tbody>\n",
       "    <tr>\n",
       "      <th>count</th>\n",
       "      <td>48094</td>\n",
       "      <td>50602</td>\n",
       "      <td>49041</td>\n",
       "      <td>24710</td>\n",
       "      <td>23676</td>\n",
       "      <td>23677</td>\n",
       "      <td>42021</td>\n",
       "      <td>50602</td>\n",
       "    </tr>\n",
       "    <tr>\n",
       "      <th>unique</th>\n",
       "      <td>46105</td>\n",
       "      <td>42425</td>\n",
       "      <td>579</td>\n",
       "      <td>258</td>\n",
       "      <td>91</td>\n",
       "      <td>2950</td>\n",
       "      <td>717</td>\n",
       "      <td>19</td>\n",
       "    </tr>\n",
       "    <tr>\n",
       "      <th>top</th>\n",
       "      <td>tt3040964</td>\n",
       "      <td>Alif Laila</td>\n",
       "      <td>2018</td>\n",
       "      <td>120 min</td>\n",
       "      <td>7.2</td>\n",
       "      <td>6</td>\n",
       "      <td>Drama</td>\n",
       "      <td>hindi</td>\n",
       "    </tr>\n",
       "    <tr>\n",
       "      <th>freq</th>\n",
       "      <td>11</td>\n",
       "      <td>172</td>\n",
       "      <td>1934</td>\n",
       "      <td>835</td>\n",
       "      <td>769</td>\n",
       "      <td>836</td>\n",
       "      <td>13529</td>\n",
       "      <td>14350</td>\n",
       "    </tr>\n",
       "  </tbody>\n",
       "</table>\n",
       "</div>"
      ],
      "text/plain": [
       "               ID  Movie Name   Year Timing(min) Rating(10)  Votes  Genre Language\n",
       "count       48094       50602  49041       24710      23676  23677  42021    50602\n",
       "unique      46105       42425    579         258         91   2950    717       19\n",
       "top     tt3040964  Alif Laila   2018     120 min        7.2      6  Drama    hindi\n",
       "freq           11         172   1934         835        769    836  13529    14350"
      ]
     },
     "execution_count": 181,
     "metadata": {},
     "output_type": "execute_result"
    }
   ],
   "source": [
    "df_movie.describe()"
   ]
  },
  {
   "cell_type": "markdown",
   "metadata": {},
   "source": [
    "Seems like the Movie names are mostly unique.\n",
    "The unique count of ID doesn't match the unique count of movie name and seems to be higher. This means that there are different IDs for the same movie name, we can check later why this is the case."
   ]
  },
  {
   "cell_type": "code",
   "execution_count": 182,
   "metadata": {},
   "outputs": [
    {
     "name": "stdout",
     "output_type": "stream",
     "text": [
      "Count of null values in ID = 2508\n",
      "Count of null values in Movie Name = 0\n",
      "Count of null values in Year = 1561\n",
      "Count of null values in Timing(min) = 25892\n",
      "Count of null values in Rating(10) = 26926\n",
      "Count of null values in Votes = 26925\n",
      "Count of null values in Genre = 8581\n",
      "Count of null values in Language = 0\n"
     ]
    }
   ],
   "source": [
    "for column in df_movie.columns:\n",
    "    print(\"Count of null values in {0} = {1}\".format(column,df_movie[column].isna().sum()))"
   ]
  },
  {
   "cell_type": "markdown",
   "metadata": {},
   "source": [
    "Movie name and language seem to have zero null values whereas timing, rating and votes column seems to have a lot of null values."
   ]
  },
  {
   "cell_type": "markdown",
   "metadata": {},
   "source": [
    "Let's check the number of duplicate rows in the dataset. We can later remove such rows."
   ]
  },
  {
   "cell_type": "code",
   "execution_count": 183,
   "metadata": {},
   "outputs": [
    {
     "data": {
      "text/plain": [
       "np.int64(1)"
      ]
     },
     "execution_count": 183,
     "metadata": {},
     "output_type": "execute_result"
    }
   ],
   "source": [
    "df_movie.duplicated().sum()"
   ]
  },
  {
   "cell_type": "markdown",
   "metadata": {},
   "source": [
    "There is 1 duplicate row in the dataset. Let's check what it is."
   ]
  },
  {
   "cell_type": "code",
   "execution_count": 184,
   "metadata": {},
   "outputs": [
    {
     "data": {
      "text/html": [
       "<div>\n",
       "<style scoped>\n",
       "    .dataframe tbody tr th:only-of-type {\n",
       "        vertical-align: middle;\n",
       "    }\n",
       "\n",
       "    .dataframe tbody tr th {\n",
       "        vertical-align: top;\n",
       "    }\n",
       "\n",
       "    .dataframe thead th {\n",
       "        text-align: right;\n",
       "    }\n",
       "</style>\n",
       "<table border=\"1\" class=\"dataframe\">\n",
       "  <thead>\n",
       "    <tr style=\"text-align: right;\">\n",
       "      <th></th>\n",
       "      <th>ID</th>\n",
       "      <th>Movie Name</th>\n",
       "      <th>Year</th>\n",
       "      <th>Timing(min)</th>\n",
       "      <th>Rating(10)</th>\n",
       "      <th>Votes</th>\n",
       "      <th>Genre</th>\n",
       "      <th>Language</th>\n",
       "    </tr>\n",
       "  </thead>\n",
       "  <tbody>\n",
       "    <tr>\n",
       "      <th>37213</th>\n",
       "      <td>NaN</td>\n",
       "      <td>Mohabbat Tum Se Nafrat Hai</td>\n",
       "      <td>NaN</td>\n",
       "      <td>NaN</td>\n",
       "      <td>NaN</td>\n",
       "      <td>NaN</td>\n",
       "      <td>Crime, Drama, Family</td>\n",
       "      <td>urdu</td>\n",
       "    </tr>\n",
       "  </tbody>\n",
       "</table>\n",
       "</div>"
      ],
      "text/plain": [
       "        ID                  Movie Name Year Timing(min) Rating(10) Votes                 Genre Language\n",
       "37213  NaN  Mohabbat Tum Se Nafrat Hai  NaN         NaN        NaN   NaN  Crime, Drama, Family     urdu"
      ]
     },
     "execution_count": 184,
     "metadata": {},
     "output_type": "execute_result"
    }
   ],
   "source": [
    "df_movie[df_movie.duplicated()]"
   ]
  },
  {
   "cell_type": "code",
   "execution_count": 185,
   "metadata": {},
   "outputs": [
    {
     "data": {
      "text/html": [
       "<div>\n",
       "<style scoped>\n",
       "    .dataframe tbody tr th:only-of-type {\n",
       "        vertical-align: middle;\n",
       "    }\n",
       "\n",
       "    .dataframe tbody tr th {\n",
       "        vertical-align: top;\n",
       "    }\n",
       "\n",
       "    .dataframe thead th {\n",
       "        text-align: right;\n",
       "    }\n",
       "</style>\n",
       "<table border=\"1\" class=\"dataframe\">\n",
       "  <thead>\n",
       "    <tr style=\"text-align: right;\">\n",
       "      <th></th>\n",
       "      <th>ID</th>\n",
       "      <th>Movie Name</th>\n",
       "      <th>Year</th>\n",
       "      <th>Timing(min)</th>\n",
       "      <th>Rating(10)</th>\n",
       "      <th>Votes</th>\n",
       "      <th>Genre</th>\n",
       "      <th>Language</th>\n",
       "    </tr>\n",
       "  </thead>\n",
       "  <tbody>\n",
       "    <tr>\n",
       "      <th>23818</th>\n",
       "      <td>NaN</td>\n",
       "      <td>Mohabbat Tum Se Nafrat Hai</td>\n",
       "      <td>NaN</td>\n",
       "      <td>NaN</td>\n",
       "      <td>NaN</td>\n",
       "      <td>NaN</td>\n",
       "      <td>Crime, Drama, Family</td>\n",
       "      <td>urdu</td>\n",
       "    </tr>\n",
       "    <tr>\n",
       "      <th>37213</th>\n",
       "      <td>NaN</td>\n",
       "      <td>Mohabbat Tum Se Nafrat Hai</td>\n",
       "      <td>NaN</td>\n",
       "      <td>NaN</td>\n",
       "      <td>NaN</td>\n",
       "      <td>NaN</td>\n",
       "      <td>Crime, Drama, Family</td>\n",
       "      <td>urdu</td>\n",
       "    </tr>\n",
       "  </tbody>\n",
       "</table>\n",
       "</div>"
      ],
      "text/plain": [
       "        ID                  Movie Name Year Timing(min) Rating(10) Votes                 Genre Language\n",
       "23818  NaN  Mohabbat Tum Se Nafrat Hai  NaN         NaN        NaN   NaN  Crime, Drama, Family     urdu\n",
       "37213  NaN  Mohabbat Tum Se Nafrat Hai  NaN         NaN        NaN   NaN  Crime, Drama, Family     urdu"
      ]
     },
     "execution_count": 185,
     "metadata": {},
     "output_type": "execute_result"
    }
   ],
   "source": [
    "df_movie[df_movie[\"Movie Name\"]==\"Mohabbat Tum Se Nafrat Hai\"]"
   ]
  },
  {
   "cell_type": "markdown",
   "metadata": {},
   "source": [
    "It's not just that this row is duplicated but it also doesn't have a lot of meaningful data. It has more than half of it's rows as empty."
   ]
  },
  {
   "cell_type": "markdown",
   "metadata": {},
   "source": [
    "#### Task 2: Data Cleaning"
   ]
  },
  {
   "cell_type": "markdown",
   "metadata": {},
   "source": [
    "#### Removing duplicates"
   ]
  },
  {
   "cell_type": "code",
   "execution_count": 186,
   "metadata": {},
   "outputs": [],
   "source": [
    "df_movie.drop_duplicates(inplace = True)"
   ]
  },
  {
   "cell_type": "code",
   "execution_count": 187,
   "metadata": {},
   "outputs": [
    {
     "data": {
      "text/plain": [
       "(50601, 8)"
      ]
     },
     "execution_count": 187,
     "metadata": {},
     "output_type": "execute_result"
    }
   ],
   "source": [
    "df_movie.shape"
   ]
  },
  {
   "cell_type": "markdown",
   "metadata": {},
   "source": [
    "1 Duplicate row has been removed"
   ]
  },
  {
   "cell_type": "markdown",
   "metadata": {},
   "source": [
    "#### Handling missing data"
   ]
  },
  {
   "cell_type": "markdown",
   "metadata": {},
   "source": [
    "Now let's remove rows with half or more missing columns"
   ]
  },
  {
   "cell_type": "code",
   "execution_count": 188,
   "metadata": {},
   "outputs": [
    {
     "data": {
      "text/plain": [
       "array([4, 0, 2, 1, 3, 5, 6])"
      ]
     },
     "execution_count": 188,
     "metadata": {},
     "output_type": "execute_result"
    }
   ],
   "source": [
    "df_movie.isna().sum(axis=1).unique()"
   ]
  },
  {
   "cell_type": "markdown",
   "metadata": {},
   "source": [
    "There are some rows with 0 null values whereas there are rows with more upto 6 missing column values. Let's get a count of each distribution and drop the values with half and more missing column values"
   ]
  },
  {
   "cell_type": "code",
   "execution_count": 189,
   "metadata": {},
   "outputs": [
    {
     "name": "stdout",
     "output_type": "stream",
     "text": [
      "Rows with 0 missing rows = 16356 \ti.e. 32.32%\n",
      "Rows with 1 missing rows = 6216 \ti.e. 12.28%\n",
      "Rows with 2 missing rows = 7518 \ti.e. 14.86%\n",
      "Rows with 3 missing rows = 12215 \ti.e. 24.14%\n",
      "Rows with 4 missing rows = 7088 \ti.e. 14.01%\n",
      "Rows with 5 missing rows = 1109 \ti.e. 2.19%\n",
      "Rows with 6 missing rows = 99 \ti.e. 0.2%\n",
      "Rows with 7 missing rows = 0 \ti.e. 0.0%\n",
      "Rows with 8 missing rows = 0 \ti.e. 0.0%\n"
     ]
    }
   ],
   "source": [
    "for missing_count in range(df_movie.shape[1]+1):\n",
    "    print(\"Rows with {0} missing rows = {1} \\ti.e. {2}%\".format(missing_count, df_movie[df_movie.isna().sum(axis=1)==missing_count].shape[0], round(df_movie[df_movie.isna().sum(axis=1)==missing_count].shape[0]*100/df_movie.shape[0],2)))"
   ]
  },
  {
   "cell_type": "markdown",
   "metadata": {},
   "source": [
    "Let's remove rows with 4 or more missing column values"
   ]
  },
  {
   "cell_type": "code",
   "execution_count": 190,
   "metadata": {},
   "outputs": [],
   "source": [
    "df_less_sparse = df_movie.dropna(axis=0, thresh=5)"
   ]
  },
  {
   "cell_type": "code",
   "execution_count": 191,
   "metadata": {},
   "outputs": [
    {
     "name": "stdout",
     "output_type": "stream",
     "text": [
      "Rows with 0 missing rows = 16356 \ti.e. 38.66%\n",
      "Rows with 1 missing rows = 6216 \ti.e. 14.69%\n",
      "Rows with 2 missing rows = 7518 \ti.e. 17.77%\n",
      "Rows with 3 missing rows = 12215 \ti.e. 28.87%\n",
      "Rows with 4 missing rows = 0 \ti.e. 0.0%\n",
      "Rows with 5 missing rows = 0 \ti.e. 0.0%\n",
      "Rows with 6 missing rows = 0 \ti.e. 0.0%\n",
      "Rows with 7 missing rows = 0 \ti.e. 0.0%\n",
      "Rows with 8 missing rows = 0 \ti.e. 0.0%\n"
     ]
    }
   ],
   "source": [
    "for missing_count in range(df_less_sparse.shape[1]+1):\n",
    "    print(\"Rows with {0} missing rows = {1} \\ti.e. {2}%\".format(missing_count, df_less_sparse[df_less_sparse.isna().sum(axis=1)==missing_count].shape[0], round(df_less_sparse[df_less_sparse.isna().sum(axis=1)==missing_count].shape[0]*100/df_less_sparse.shape[0],2)))"
   ]
  },
  {
   "cell_type": "code",
   "execution_count": 192,
   "metadata": {},
   "outputs": [
    {
     "name": "stdout",
     "output_type": "stream",
     "text": [
      "Number of rows deleted:  8296\n",
      "% of rows deleted:  16.39\n"
     ]
    }
   ],
   "source": [
    "print(\"Number of rows deleted: \", df_movie.shape[0]-df_less_sparse.shape[0])\n",
    "print(\"% of rows deleted: \", round((df_movie.shape[0]-df_less_sparse.shape[0])*100/df_movie.shape[0],2))"
   ]
  },
  {
   "cell_type": "code",
   "execution_count": 193,
   "metadata": {},
   "outputs": [],
   "source": [
    "df_movie = df_less_sparse.copy(deep=True)"
   ]
  },
  {
   "cell_type": "markdown",
   "metadata": {},
   "source": [
    "Let's check a final unique count for all columns"
   ]
  },
  {
   "cell_type": "code",
   "execution_count": 194,
   "metadata": {},
   "outputs": [
    {
     "data": {
      "text/html": [
       "<div>\n",
       "<style scoped>\n",
       "    .dataframe tbody tr th:only-of-type {\n",
       "        vertical-align: middle;\n",
       "    }\n",
       "\n",
       "    .dataframe tbody tr th {\n",
       "        vertical-align: top;\n",
       "    }\n",
       "\n",
       "    .dataframe thead th {\n",
       "        text-align: right;\n",
       "    }\n",
       "</style>\n",
       "<table border=\"1\" class=\"dataframe\">\n",
       "  <thead>\n",
       "    <tr style=\"text-align: right;\">\n",
       "      <th></th>\n",
       "      <th>ID</th>\n",
       "      <th>Movie Name</th>\n",
       "      <th>Year</th>\n",
       "      <th>Timing(min)</th>\n",
       "      <th>Rating(10)</th>\n",
       "      <th>Votes</th>\n",
       "      <th>Genre</th>\n",
       "      <th>Language</th>\n",
       "    </tr>\n",
       "  </thead>\n",
       "  <tbody>\n",
       "    <tr>\n",
       "      <th>count</th>\n",
       "      <td>42149</td>\n",
       "      <td>42305</td>\n",
       "      <td>42304</td>\n",
       "      <td>24339</td>\n",
       "      <td>23676</td>\n",
       "      <td>23677</td>\n",
       "      <td>39788</td>\n",
       "      <td>42305</td>\n",
       "    </tr>\n",
       "    <tr>\n",
       "      <th>unique</th>\n",
       "      <td>40192</td>\n",
       "      <td>35812</td>\n",
       "      <td>541</td>\n",
       "      <td>257</td>\n",
       "      <td>91</td>\n",
       "      <td>2950</td>\n",
       "      <td>701</td>\n",
       "      <td>19</td>\n",
       "    </tr>\n",
       "    <tr>\n",
       "      <th>top</th>\n",
       "      <td>tt3040964</td>\n",
       "      <td>Alif Laila</td>\n",
       "      <td>2018</td>\n",
       "      <td>120 min</td>\n",
       "      <td>7.2</td>\n",
       "      <td>6</td>\n",
       "      <td>Drama</td>\n",
       "      <td>hindi</td>\n",
       "    </tr>\n",
       "    <tr>\n",
       "      <th>freq</th>\n",
       "      <td>11</td>\n",
       "      <td>170</td>\n",
       "      <td>1889</td>\n",
       "      <td>808</td>\n",
       "      <td>769</td>\n",
       "      <td>836</td>\n",
       "      <td>12786</td>\n",
       "      <td>12116</td>\n",
       "    </tr>\n",
       "  </tbody>\n",
       "</table>\n",
       "</div>"
      ],
      "text/plain": [
       "               ID  Movie Name   Year Timing(min) Rating(10)  Votes  Genre Language\n",
       "count       42149       42305  42304       24339      23676  23677  39788    42305\n",
       "unique      40192       35812    541         257         91   2950    701       19\n",
       "top     tt3040964  Alif Laila   2018     120 min        7.2      6  Drama    hindi\n",
       "freq           11         170   1889         808        769    836  12786    12116"
      ]
     },
     "execution_count": 194,
     "metadata": {},
     "output_type": "execute_result"
    }
   ],
   "source": [
    "df_movie.describe()"
   ]
  },
  {
   "cell_type": "markdown",
   "metadata": {},
   "source": [
    "#### Handling incorrect data/ correct data types"
   ]
  },
  {
   "cell_type": "markdown",
   "metadata": {},
   "source": [
    "#### Cleaning year column"
   ]
  },
  {
   "cell_type": "code",
   "execution_count": 195,
   "metadata": {},
   "outputs": [
    {
     "data": {
      "text/plain": [
       "array(['2006', '1987', '1956', '2008', '2019', '2007', '1939', '1992',\n",
       "       '1997', '2018 Video', '2016', '1986', '2013', '2017 Video', '1988',\n",
       "       '2012', '2017', '1974', '1991', '2020', '2009', '1978', '1999',\n",
       "       '1970', '1985', '1981', '2000', '2003', '1967', '1933', '1996',\n",
       "       '2010', 'II 2017', '1995', '1973', '2015', 'I 2008', '1966',\n",
       "       '2021', '1994', '1989', '1938', '1969', '1952', 'II 1976', '2018',\n",
       "       '1977', '1957', 'I 2014', '1990', '2005', '2014', '1950', 'I 2016',\n",
       "       '1982', '1983', '2019 Video', '1984', '2013 TV Movie', '2004',\n",
       "       '1959', '2011', '2020–', '1961', 'I 2010', '1971', '1968', '2002',\n",
       "       '1940', '2002–2003', '2018–', '1976', 'I 2020', '2018 TV Movie',\n",
       "       '1979', '2001', '2014 TV Short', '1997–2002', '1958', '1947',\n",
       "       'I 2018', '1953', '1998', '2014–', '1963', '2004–', '1954', '1980',\n",
       "       '1965', 'I 2019', '1964', '1937', '1943', '1932', '1949', '1951',\n",
       "       '1960', '1972', '2010–', '2010 Video', 'IV 2014', '1935', '2011–',\n",
       "       '1962', 'II 1975', '2016–2017', '1934', 'II 2013', 'II', '1975',\n",
       "       '2008–', '1941', 'II 2021', '2015 Video', '2017–', '2014–2019',\n",
       "       'III 1938', '1993', '2018–2019', 'II 2016', '2005–2006', '1999–',\n",
       "       '1995 TV Movie', 'I 2015', 'III 2020', '2008 TV Movie', 'II 2002',\n",
       "       '2003–', 'V 2012', '2013–2016', '2015 TV Movie', '1955',\n",
       "       '2007 Video', '2019–', '2021 TV Special', 'III 2017', '2017–2018',\n",
       "       'I 2021', '2007 TV Movie', '2019 TV Special', '2011–2020',\n",
       "       'VI 2015', 'II 2014', 'II 2015', 'II 1957', '2011–2012', 'I 2013',\n",
       "       'III 2021', '2009 Video Game', 'III 1971', 'I 1990', 'IV 2010',\n",
       "       'V 2015', 'III 1995', 'II 2010', '2021–', '1948', '2019 TV Movie',\n",
       "       '2013–2014', 'I 2017', '1991 TV Movie', 'II 1954', '2016 TV Movie',\n",
       "       'II 1943', '2004–2007', '2016–', 'II 1989', '1931',\n",
       "       '2007 TV Short', 'II 1938', '1942', '1995–1996', 'II 1937',\n",
       "       'II 1996', 'III 2019', 'II 2018', '1993–', '1990–', '1946', '1945',\n",
       "       '2005–', '1936', '2014–2015', 'I 1958', 'II 1988', 'II 2020',\n",
       "       'II 2007', '1994–', 'II 2004', 'III 2015', 'V', '2009–', 'I 1959',\n",
       "       'I 2012', '2016 Video', '2015–', '1990–1991', '2013–',\n",
       "       '1992 TV Movie', 'I 2002', 'IX', '2020 Video', 'II 1990', 'I 2011',\n",
       "       '2015 TV Special', 'I 2005', '1920', '2011 TV Movie', '2007–',\n",
       "       '1944', 'I 1960', 'VI', 'VI 2018', 'II 2011', '2012–2013',\n",
       "       '2000 TV Movie', 'I 2004', '2003–2013', 'III 2011', '1985–2011',\n",
       "       '1919', '1998–2000', '1993–1996', 'I 1938', '2006 Video',\n",
       "       '2013 Video', 'V 2019', 'II 2006', '2012 TV Movie',\n",
       "       '2005 TV Short', '1996 TV Movie', 'III 2016', '2004 TV Movie',\n",
       "       '2015 TV Short', '2021 Video', '2021 TV Movie', 'II 1961',\n",
       "       'II 1993', 'V 2013', 'VII 2014', 'I 2009', '2008 TV Short',\n",
       "       'VI 2016', 'I 1996', '1994–1996', '2008–2010', 'II 2012', 'I 1986',\n",
       "       'XII 2012', 'I 1983', 'II 2009', '2000–2002', 'II 2008', 'IV 2016',\n",
       "       '2015–2016', 'I 1980', 'I 1989', 'II 1934', '2008 Video',\n",
       "       'II 1948', 'XII 2013', 'I 1940', '2009–2013', 'I 1991', 'II 2019',\n",
       "       '2012–', '2014–2016', 'I 1934', '1997 Video', 'II 1992',\n",
       "       '2003 Video', 'II 1939', 'I 1988', 'II 1979', 'III 2009',\n",
       "       '2009–2010', '1998–', '1997–', 'III 2018', '2014 TV Movie',\n",
       "       'III 2005', 'I 2007', 'I 1976', 'I 2006', 'II 1964', 'IV',\n",
       "       'I 1944', 'I 1982', '2019–2020', 'I 1957', 'III 2012', 'II 2000',\n",
       "       'III 1949', 'III 2013', 'I 1941', 'I 2016–2017', 'II 1940',\n",
       "       '2007–2009', 'I 1931', '2020 TV Movie', 'III 2007', '2005 Video',\n",
       "       'I', 'VII 2016', 'I 1975', '2012–2016', 'I 2001', 'I 2000',\n",
       "       'VII 2017', '1994–2009', 'III 2014', 'I 1963', 'I 1992', 'II 1959',\n",
       "       'III', 'I 1977', '2005 TV Movie', '2001–2008', '2009 Video',\n",
       "       'II 2001', '2013–2018', '1998 TV Movie', '1917', '2010 TV Special',\n",
       "       '2012 Video', '1929', '2017 TV Special', 'VII 2018', 'VIII 2014',\n",
       "       '2008 TV Special', 'I 1962', 'IV 2019', 'I 1937', 'I 1948',\n",
       "       'VII 2019', 'IV 2017', 'III 2008', '2014 Video', '2002 Video',\n",
       "       'I 1973', '2020–2021', 'I 1943', '2022', 'VII 2015',\n",
       "       '2010 TV Movie', '2013–2020', '2009 TV Movie', 'I 1979', 'I 1993',\n",
       "       '2011–2013', '1999 Video', '2001 TV Special', 'I 1954',\n",
       "       '2011 Video', 'II 1986', '1999–2000', '2006 TV Movie', '1995–',\n",
       "       'I 1936', '2008–2011', 'II 1956', 'I 1987', '2000–', 'II 1994',\n",
       "       'V 2017', 'I 1994', '2016–2020', 'II 2020 Video', '2010–2011',\n",
       "       'II 1953', 'I 1949', 'II 1987', 'II 1960', 'IV 2018', 'II 1983',\n",
       "       'II 1977', 'I 1964', 'X 2016', 'II 1932', '1930', '2006–',\n",
       "       '2013 TV Short', 'VI 2012', '2020 TV Special', '2005 TV Special',\n",
       "       'IV 2015', 'I 1984', 'I 1942', 'VI 2013', 'I 1961', 'II 1971',\n",
       "       'II 1942', '2018 TV Special', '2002 TV Movie', '1986–1987',\n",
       "       'I 1968', '2007 TV Special', '2011–2014', 'I 1953', 'I 1972',\n",
       "       '2008–2009', 'I 1967', 'VIII 2018', '2007–2008', '2004–2005',\n",
       "       '2002 TV Special', '2012–2014', 'II 1972', 'II 2005', '1988–',\n",
       "       'II 1999', 'X 2018', 'I 1995', '2016 TV Special', '2017 TV Movie',\n",
       "       'XVII 2016', 'V 2010', 'II 1970', '2002 TV Short', 'I 2019–',\n",
       "       'X 2013', 'IV 2012', 'V 2011', 'I 1969', 'II 1936', '2002–',\n",
       "       'V 2016', 'II 1980', 'VI 2017', 'XIV', 'VIII 2019', 'II 1963',\n",
       "       'XXI 2015', 'I 1935', 'II 1978', '2012–2019', '2006 TV Special',\n",
       "       '1991–1992', '2001–2002', '2000 TV Special', 'VI 2020', 'II 2003',\n",
       "       'III 2004', 'I 1970', 'II 1935', '2001–', 'II 1995', '1983–',\n",
       "       '2006–2007', '1977–1987', '1996–1997', 'I 1965', 'II 1998',\n",
       "       '2004 Video', 'I 2003', '1992 Video', 'IV 2013', '2017 TV Short',\n",
       "       '1996–2000', '1974 Video', 'II 1984', '1998–1999', 'II 1981',\n",
       "       'VII 2013', 'I 1999', 'I 1952', '2001–2003', 'II 1967',\n",
       "       'VIII 2011', 'II 1991', '2003 TV Movie', 'II 1974', 'I 1956',\n",
       "       'II 1982', 'II 1941', 'IX 2018', '1968 TV Movie', 'I 1985',\n",
       "       '2014–2018', 'I 1955', 'XVI 2015', 'II 1944', 'I 1971', 'IX 2020',\n",
       "       'IX 2019', 'VIII 2020', '2016 TV Short', 'II 1965', 'I 1939',\n",
       "       '2009 TV Special', '1988 TV Movie', 'IV 2020', 'VIII 2017',\n",
       "       '1999 TV Movie', 'II 1968', 'I 1932', 'IX 2014', '2004–2009',\n",
       "       '2012 TV Short', 'I 1966', 'VIII 2015', '2012 TV Special', '1992–',\n",
       "       '2015–2018', 'VII 2020', 'III 1989', 'V 2018', 'V 2014', 'I 2017–',\n",
       "       'TV Movie', 'V 2020', '2004–2008', '2000–2001', 'I 2020 Video',\n",
       "       '1979–', '2017–2019', 'XIV 2020', 'II 2019–2021', 'V 2021',\n",
       "       '1992–1993', '1987–', 'XI 2017', 'II 2013–', 'II 1958',\n",
       "       '1993–2012', 'II 1985', '1987–1988', 'II 2016–2017', '2001 Video',\n",
       "       'IV 2008', 'XIII 2020', '1977 TV Movie', 'X 2019', 'I 1998',\n",
       "       'II 1962', 'II 1997', 'IV 2011', 'I 1946', 'XV 2020', 'I 1997',\n",
       "       nan, 'VII 2021'], dtype=object)"
      ]
     },
     "execution_count": 195,
     "metadata": {},
     "output_type": "execute_result"
    }
   ],
   "source": [
    "df_movie[\"Year\"].unique()"
   ]
  },
  {
   "cell_type": "markdown",
   "metadata": {},
   "source": [
    "The year data seems to have some invalid column values. let's keep only the year value and convert it to int.\n",
    "\n",
    "\n",
    "In cases of continuous values we can either remove them or keep the first value. for ex: if data is \"2017–2019\" keep only 2017"
   ]
  },
  {
   "cell_type": "code",
   "execution_count": 196,
   "metadata": {},
   "outputs": [],
   "source": [
    "def clean_year(x):\n",
    "    if(type(x)==int):\n",
    "        return x\n",
    "    else:\n",
    "        clean_str = \"\"\n",
    "        for c in x:\n",
    "            # print(c)\n",
    "            if(c.isnumeric()):\n",
    "                clean_str += c\n",
    "            elif(c==\"–\"):\n",
    "                clean_str += c\n",
    "            else:\n",
    "                pass\n",
    "        if(clean_str==\"\"):\n",
    "            return 0\n",
    "        else:\n",
    "            return int(clean_str.split(\"–\")[0])\n",
    "\n",
    "\n",
    "df_movie[\"Year\"] = df_movie[\"Year\"].fillna(0)\n",
    "df_movie[\"Year\"] = df_movie[\"Year\"].apply(clean_year)\n"
   ]
  },
  {
   "cell_type": "code",
   "execution_count": 197,
   "metadata": {},
   "outputs": [
    {
     "data": {
      "text/plain": [
       "array([2006, 1987, 1956, 2008, 2019, 2007, 1939, 1992, 1997, 2018, 2016,\n",
       "       1986, 2013, 2017, 1988, 2012, 1974, 1991, 2020, 2009, 1978, 1999,\n",
       "       1970, 1985, 1981, 2000, 2003, 1967, 1933, 1996, 2010, 1995, 1973,\n",
       "       2015, 1966, 2021, 1994, 1989, 1938, 1969, 1952, 1976, 1977, 1957,\n",
       "       2014, 1990, 2005, 1950, 1982, 1983, 1984, 2004, 1959, 2011, 1961,\n",
       "       1971, 1968, 2002, 1940, 1979, 2001, 1958, 1947, 1953, 1998, 1963,\n",
       "       1954, 1980, 1965, 1964, 1937, 1943, 1932, 1949, 1951, 1960, 1972,\n",
       "       1935, 1962, 1975, 1934,    0, 1941, 1993, 1955, 1948, 1931, 1942,\n",
       "       1946, 1945, 1936, 1920, 1944, 1919, 1917, 1929, 2022, 1930])"
      ]
     },
     "execution_count": 197,
     "metadata": {},
     "output_type": "execute_result"
    }
   ],
   "source": [
    "df_movie[\"Year\"].unique()"
   ]
  },
  {
   "cell_type": "code",
   "execution_count": 198,
   "metadata": {},
   "outputs": [
    {
     "name": "stdout",
     "output_type": "stream",
     "text": [
      "<class 'pandas.core.frame.DataFrame'>\n",
      "Index: 42305 entries, 2 to 50601\n",
      "Data columns (total 8 columns):\n",
      " #   Column       Non-Null Count  Dtype \n",
      "---  ------       --------------  ----- \n",
      " 0   ID           42149 non-null  object\n",
      " 1   Movie Name   42305 non-null  object\n",
      " 2   Year         42305 non-null  int64 \n",
      " 3   Timing(min)  24339 non-null  object\n",
      " 4   Rating(10)   23676 non-null  object\n",
      " 5   Votes        23677 non-null  object\n",
      " 6   Genre        39788 non-null  object\n",
      " 7   Language     42305 non-null  object\n",
      "dtypes: int64(1), object(7)\n",
      "memory usage: 2.9+ MB\n"
     ]
    }
   ],
   "source": [
    "df_movie.info()"
   ]
  },
  {
   "cell_type": "markdown",
   "metadata": {},
   "source": [
    "Year column has been successfully converted to int."
   ]
  },
  {
   "cell_type": "markdown",
   "metadata": {},
   "source": [
    "#### Cleaning Timing column to int"
   ]
  },
  {
   "cell_type": "code",
   "execution_count": 199,
   "metadata": {},
   "outputs": [
    {
     "data": {
      "text/plain": [
       "array(['134 min', nan, '112 min', '108 min', '175 min', '138 min',\n",
       "       '90 min', '141 min', '5 min', '156 min', '122 min', '57 min',\n",
       "       '92 min', '158 min', '170 min', '145 min', '120 min', '12 min',\n",
       "       '135 min', '113 min', '161 min', '140 min', '127 min', '142 min',\n",
       "       '132 min', '129 min', '121 min', '133 min', '125 min', '167 min',\n",
       "       '104 min', '168 min', '30 min', '97 min', '143 min', '149 min',\n",
       "       '124 min', '118 min', '150 min', '98 min', '144 min', '117 min',\n",
       "       '22 min', '126 min', '190 min', '166 min', '91 min', '85 min',\n",
       "       '159 min', '28 min', '87 min', '188 min', '147 min', '66 min',\n",
       "       '65 min', '154 min', '23 min', '78 min', '115 min', '151 min',\n",
       "       '49 min', '109 min', '45 min', '157 min', '13 min', '103 min',\n",
       "       '100 min', '21 min', '131 min', '116 min', '162 min', '26 min',\n",
       "       '95 min', '146 min', '137 min', '139 min', '123 min', '19 min',\n",
       "       '181 min', '195 min', '153 min', '164 min', '81 min', '102 min',\n",
       "       '101 min', '114 min', '14 min', '10 min', '136 min', '130 min',\n",
       "       '182 min', '99 min', '160 min', '69 min', '58 min', '171 min',\n",
       "       '70 min', '128 min', '46 min', '210 min', '680 min', '107 min',\n",
       "       '155 min', '172 min', '93 min', '106 min', '179 min', '165 min',\n",
       "       '105 min', '82 min', '88 min', '15 min', '3 min', '180 min',\n",
       "       '152 min', '52 min', '192 min', '47 min', '94 min', '148 min',\n",
       "       '84 min', '223 min', '43 min', '169 min', '27 min', '1,040 min',\n",
       "       '40 min', '110 min', '163 min', '7 min', '96 min', '63 min',\n",
       "       '83 min', '6 min', '86 min', '111 min', '221 min', '174 min',\n",
       "       '18 min', '89 min', '360 min', '255 min', '41 min', '20 min',\n",
       "       '119 min', '4 min', '185 min', '186 min', '80 min', '25 min',\n",
       "       '42 min', '8 min', '17 min', '38 min', '24 min', '9 min', '56 min',\n",
       "       '11 min', '191 min', '219 min', '199 min', '184 min', '35 min',\n",
       "       '72 min', '79 min', '197 min', '176 min', '2,565 min', '60 min',\n",
       "       '54 min', '222 min', '74 min', '254 min', '44 min', '75 min',\n",
       "       '39 min', '62 min', '187 min', '61 min', '16 min', '215 min',\n",
       "       '173 min', '55 min', '211 min', '68 min', '178 min', '183 min',\n",
       "       '177 min', '77 min', '71 min', '1 min', '59 min', '50 min',\n",
       "       '76 min', '37 min', '700 min', '1,008 min', '1,716 min', '29 min',\n",
       "       '2,288 min', '201 min', '194 min', '248 min', '198 min', '73 min',\n",
       "       '34 min', '213 min', '32 min', '480 min', '51 min', '2 min',\n",
       "       '209 min', '214 min', '224 min', '189 min', '193 min', '33 min',\n",
       "       '216 min', '220 min', '48 min', '36 min', '31 min', '67 min',\n",
       "       '207 min', '53 min', '572 min', '341 min', '202 min', '624 min',\n",
       "       '204 min', '315 min', '1,170 min', '240 min', '64 min', '200 min',\n",
       "       '238 min', '300 min', '208 min', '640 min', '233 min', '235 min',\n",
       "       '218 min', '232 min', '217 min', '203 min', '936 min', '250 min',\n",
       "       '196 min', '468 min', '1,260 min', '321 min', '247 min', '206 min',\n",
       "       '840 min', '226 min', '338 min', '267 min', '212 min'],\n",
       "      dtype=object)"
      ]
     },
     "execution_count": 199,
     "metadata": {},
     "output_type": "execute_result"
    }
   ],
   "source": [
    "df_movie[\"Timing(min)\"].unique()"
   ]
  },
  {
   "cell_type": "markdown",
   "metadata": {},
   "source": [
    "Let's remove the min and convert all values to int.\n",
    "Also convert all Nan values to 0"
   ]
  },
  {
   "cell_type": "code",
   "execution_count": 200,
   "metadata": {},
   "outputs": [],
   "source": [
    "df_movie[\"Timing(min)\"] = df_movie[\"Timing(min)\"].apply(lambda x: int(\"\".join(x.split(\"min\")[0].strip().split(\",\"))) if x==x else 0)"
   ]
  },
  {
   "cell_type": "code",
   "execution_count": 201,
   "metadata": {},
   "outputs": [
    {
     "data": {
      "text/plain": [
       "array([ 134,    0,  112,  108,  175,  138,   90,  141,    5,  156,  122,\n",
       "         57,   92,  158,  170,  145,  120,   12,  135,  113,  161,  140,\n",
       "        127,  142,  132,  129,  121,  133,  125,  167,  104,  168,   30,\n",
       "         97,  143,  149,  124,  118,  150,   98,  144,  117,   22,  126,\n",
       "        190,  166,   91,   85,  159,   28,   87,  188,  147,   66,   65,\n",
       "        154,   23,   78,  115,  151,   49,  109,   45,  157,   13,  103,\n",
       "        100,   21,  131,  116,  162,   26,   95,  146,  137,  139,  123,\n",
       "         19,  181,  195,  153,  164,   81,  102,  101,  114,   14,   10,\n",
       "        136,  130,  182,   99,  160,   69,   58,  171,   70,  128,   46,\n",
       "        210,  680,  107,  155,  172,   93,  106,  179,  165,  105,   82,\n",
       "         88,   15,    3,  180,  152,   52,  192,   47,   94,  148,   84,\n",
       "        223,   43,  169,   27, 1040,   40,  110,  163,    7,   96,   63,\n",
       "         83,    6,   86,  111,  221,  174,   18,   89,  360,  255,   41,\n",
       "         20,  119,    4,  185,  186,   80,   25,   42,    8,   17,   38,\n",
       "         24,    9,   56,   11,  191,  219,  199,  184,   35,   72,   79,\n",
       "        197,  176, 2565,   60,   54,  222,   74,  254,   44,   75,   39,\n",
       "         62,  187,   61,   16,  215,  173,   55,  211,   68,  178,  183,\n",
       "        177,   77,   71,    1,   59,   50,   76,   37,  700, 1008, 1716,\n",
       "         29, 2288,  201,  194,  248,  198,   73,   34,  213,   32,  480,\n",
       "         51,    2,  209,  214,  224,  189,  193,   33,  216,  220,   48,\n",
       "         36,   31,   67,  207,   53,  572,  341,  202,  624,  204,  315,\n",
       "       1170,  240,   64,  200,  238,  300,  208,  640,  233,  235,  218,\n",
       "        232,  217,  203,  936,  250,  196,  468, 1260,  321,  247,  206,\n",
       "        840,  226,  338,  267,  212])"
      ]
     },
     "execution_count": 201,
     "metadata": {},
     "output_type": "execute_result"
    }
   ],
   "source": [
    "df_movie[\"Timing(min)\"].unique()"
   ]
  },
  {
   "cell_type": "markdown",
   "metadata": {},
   "source": [
    "#### Cleaning Rating column "
   ]
  },
  {
   "cell_type": "code",
   "execution_count": 202,
   "metadata": {},
   "outputs": [
    {
     "data": {
      "text/plain": [
       "array(['5.3', '2.2', '7.4', nan, '7.9', '6.6', '6.3', '5.6', '6.2', '6.9',\n",
       "       '4.5', '7.3', '6.0', '4.1', '7.1', '5.4', '4.4', '7.6', '5.1',\n",
       "       '8.1', '8.2', '1.3', '5.5', '5.2', '6.4', '4.9', '5.9', '7.2',\n",
       "       '6.1', '6.5', '6.8', '8.3', '3.0', '7.0', '9.0', '7.5', '2.7',\n",
       "       '2.1', '4.8', '5.0', '4.7', '8.9', '7.7', '4.3', '6.7', '8.4',\n",
       "       '8.0', '5.7', '8.5', '3.4', '7.8', '5.8', '3.2', '3.6', '3.8',\n",
       "       '4.0', '4.2', '3.7', '3.9', '2.8', '4.6', '8.7', '8.6', '9.2',\n",
       "       '3.3', '9.9', '3.1', '2.4', '2.5', '8.8', '2.9', '9.1', '9.4',\n",
       "       '3.5', '2.3', '9.3', '2.0', '9.5', '2.6', '1.9', '9.8', '9.6',\n",
       "       '1.6', '9.7', '1.8', '1.4', '10.0', '1.0', '1.7', '1.2', '1.1',\n",
       "       '1.5'], dtype=object)"
      ]
     },
     "execution_count": 202,
     "metadata": {},
     "output_type": "execute_result"
    }
   ],
   "source": [
    "df_movie[\"Rating(10)\"].unique()"
   ]
  },
  {
   "cell_type": "markdown",
   "metadata": {},
   "source": [
    "Rating column doesn't seem to have any invalid data, we can just convert all str values to float and NaN values to 0."
   ]
  },
  {
   "cell_type": "code",
   "execution_count": 203,
   "metadata": {},
   "outputs": [],
   "source": [
    "df_movie[\"Rating(10)\"] = df_movie[\"Rating(10)\"].apply(lambda x: float(x) if not x!=x else 0)"
   ]
  },
  {
   "cell_type": "code",
   "execution_count": 204,
   "metadata": {},
   "outputs": [
    {
     "data": {
      "text/plain": [
       "array([ 5.3,  2.2,  7.4,  0. ,  7.9,  6.6,  6.3,  5.6,  6.2,  6.9,  4.5,\n",
       "        7.3,  6. ,  4.1,  7.1,  5.4,  4.4,  7.6,  5.1,  8.1,  8.2,  1.3,\n",
       "        5.5,  5.2,  6.4,  4.9,  5.9,  7.2,  6.1,  6.5,  6.8,  8.3,  3. ,\n",
       "        7. ,  9. ,  7.5,  2.7,  2.1,  4.8,  5. ,  4.7,  8.9,  7.7,  4.3,\n",
       "        6.7,  8.4,  8. ,  5.7,  8.5,  3.4,  7.8,  5.8,  3.2,  3.6,  3.8,\n",
       "        4. ,  4.2,  3.7,  3.9,  2.8,  4.6,  8.7,  8.6,  9.2,  3.3,  9.9,\n",
       "        3.1,  2.4,  2.5,  8.8,  2.9,  9.1,  9.4,  3.5,  2.3,  9.3,  2. ,\n",
       "        9.5,  2.6,  1.9,  9.8,  9.6,  1.6,  9.7,  1.8,  1.4, 10. ,  1. ,\n",
       "        1.7,  1.2,  1.1,  1.5])"
      ]
     },
     "execution_count": 204,
     "metadata": {},
     "output_type": "execute_result"
    }
   ],
   "source": [
    "df_movie[\"Rating(10)\"].unique()"
   ]
  },
  {
   "cell_type": "markdown",
   "metadata": {},
   "source": [
    "#### Cleaning votes column"
   ]
  },
  {
   "cell_type": "code",
   "execution_count": 205,
   "metadata": {},
   "outputs": [
    {
     "data": {
      "text/plain": [
       "array(['1,892', '20', '21', nan, '16', '26,885', '12', '218', '379', '63',\n",
       "       '11', '231', '459', '98', '160', '7', '6', '1,312', '8,284', '118',\n",
       "       '110', '40', '25', '2,592', '406', '805', '286', '427', '82',\n",
       "       '337', '101', '259', '434', '120', '19', '73', '26,801', '8',\n",
       "       '402', '471', '10', '15', '47', '123', '1,601', '282', '1,360',\n",
       "       '51', '102', '39', '5', '267', '1,567', '32', '437', '1,017', '76',\n",
       "       '316', '14', '260', '1,068', '106', '167', '13', '65', '18', '507',\n",
       "       '7,115', '35', '4,954', '758', '14,626', '183', '1,392', '896',\n",
       "       '55', '9', '23', '59', '44', '492', '38', '3,574', '1,583', '134',\n",
       "       '10,905', '2,406', '1,115', '27', '214', '77', '30', '4,681',\n",
       "       '275', '1,024', '319', '1,816', '26', '926', '125', '478', '56',\n",
       "       '840', '57', '239', '58,037', '187', '37', '135', '967', '533',\n",
       "       '136', '8,815', '740', '17', '31', '21,192', '5,030', '75', '49',\n",
       "       '103', '50', '198', '269', '1,591', '6,698', '1,309', '148', '186',\n",
       "       '114', '1,004', '1,985', '440', '306', '352', '257', '954,861',\n",
       "       '22', '48', '43', '1,066', '177', '54', '81', '41', '15,444',\n",
       "       '407', '14,265', '133', '483', '197', '145', '184', '852', '79',\n",
       "       '28', '34', '789', '1,807', '129', '939', '595', '209', '83',\n",
       "       '3,276', '493', '29', '367', '191', '631', '494', '413', '1,150',\n",
       "       '217', '60', '52', '24', '371', '237', '143', '4,423', '113', '91',\n",
       "       '64', '34,691', '970', '415', '62', '255', '863', '80', '9,698',\n",
       "       '68', '1,149', '119', '335', '228', '45', '100', '448', '190',\n",
       "       '301', '327', '174', '624', '324', '138', '272', '309', '1,614',\n",
       "       '33', '180', '458', '8,222', '1,145', '53', '14,676', '151', '200',\n",
       "       '1,474', '6,288', '3,307', '1,551', '36', '562', '2,330', '2,996',\n",
       "       '484', '58', '475', '2,449', '1,088', '99', '221', '1,181', '241',\n",
       "       '122', '1,045', '46', '175', '6,508', '254', '42', '12,948', '899',\n",
       "       '521', '3,687', '212', '116', '5,306', '3,153', '92', '296', '376',\n",
       "       '2,355', '731', '1,624', '154', '2,674', '428', '1,332', '86',\n",
       "       '111', '554', '69', '640', '1,047', '1,361', '2,551', '3,191',\n",
       "       '67', '107', '5,310', '804', '3,024', '1,944', '935', '264', '764',\n",
       "       '2,022', '3,931', '222', '85', '157', '84', '88', '6,985', '94',\n",
       "       '3,941', '465', '223', '627', '2,264', '71', '21,467', '948',\n",
       "       '444', '589', '524', '153', '248', '171', '311', '797', '3,623',\n",
       "       '582', '10,102', '528', '2,007', '141', '279', '1,721', '6,017',\n",
       "       '580', '117', '1,470', '1,421', '72', '57,025', '716', '342',\n",
       "       '989', '97', '14,632', '39,455', '4,215', '487', '131', '289',\n",
       "       '1,243', '940', '722', '2,957', '2,059', '115', '894', '981',\n",
       "       '3,066', '89', '283', '66', '132', '6,694', '4,953', '112', '383',\n",
       "       '169', '391', '105', '5,716', '1,414', '403', '287', '429', '236',\n",
       "       '277', '320', '5,233', '234', '532', '70', '96', '2,942', '11,119',\n",
       "       '229', '3,808', '7,409', '2,196', '3,285', '159', '498', '733',\n",
       "       '2,081', '537', '1,720', '5,951', '51,634', '529', '291', '1,844',\n",
       "       '2,341', '230', '773', '509', '250', '6,455', '87', '322', '1,962',\n",
       "       '20,008', '317', '95', '787', '583', '4,029', '261,319', '2,326',\n",
       "       '127', '1,140', '630', '503', '664', '5,058', '1,504', '276',\n",
       "       '1,320', '182', '270', '2,378', '305', '365', '349', '173', '628',\n",
       "       '2,185', '1,350', '238', '2,748', '9,994', '164', '811', '9,874',\n",
       "       '216', '707', '2,290', '331', '1,652', '1,530', '2,965', '384',\n",
       "       '109', '417', '6,903', '795', '5,109', '5,445', '61', '158',\n",
       "       '2,621', '10,427', '211', '996', '571', '738', '2,646', '1,202',\n",
       "       '3,983', '18,313', '3,508', '227', '93', '292', '985', '1,090',\n",
       "       '1,873', '1,713', '1,225', '104', '4,800', '1,154', '890', '3,631',\n",
       "       '1,461', '4,970', '1,758', '438', '523', '310', '208', '142',\n",
       "       '2,300', '1,305', '3,638', '836', '2,684', '370', '247', '547',\n",
       "       '1,476', '432', '2,870', '168', '1,000', '201', '390', '363',\n",
       "       '1,183', '424', '1,735', '1,035', '1,192', '2,396', '232', '5,487',\n",
       "       '137', '5,357', '454', '271', '262', '7,695', '2,030', '730',\n",
       "       '385', '2,473', '2,927', '2,328', '215', '37,325', '382', '1,408',\n",
       "       '23,083', '334', '1,528', '698', '329', '6,359', '140', '743',\n",
       "       '8,947', '90', '178', '1,165', '1,389', '181', '876', '625', '450',\n",
       "       '2,943', '2,913', '7,603', '203', '858', '705', '1,688', '416',\n",
       "       '313', '163', '20,048', '7,126', '687', '936', '294', '1,315',\n",
       "       '17,241', '960', '293', '15,377', '21,675', '2,181', '285', '479',\n",
       "       '108', '1,164', '243', '1,540', '31,167', '1,118', '126', '712',\n",
       "       '1,902', '9,587', '558', '1,847', '139', '651', '202', '194',\n",
       "       '446', '152', '1,278', '6,140', '17,437', '559', '1,059', '641',\n",
       "       '130', '10,417', '1,013', '205', '782', '8,651', '156', '1,439',\n",
       "       '24,161', '24,203', '7,554', '3,333', '645', '162', '23,912',\n",
       "       '1,645', '128', '166', '41,380', '1,025', '161', '920', '1,143',\n",
       "       '2,959', '4,924', '1,472', '3,856', '2,219', '508', '328', '155',\n",
       "       '930', '1,453', '258', '1,064', '15,361', '362', '563', '195',\n",
       "       '584', '1,049', '2,683', '265', '4,961', '4,730', '4,378', '2,691',\n",
       "       '2,519', '517', '1,415', '441', '1,324', '21,877', '7,439',\n",
       "       '7,372', '2,853', '2,497', '2,933', '7,600', '2,364', '1,622',\n",
       "       '29,393', '545', '552', '2,358', '534', '2,166', '1,128', '24,883',\n",
       "       '220', '224', '330', '11,882', '544', '1,811', '1,223', '1,725',\n",
       "       '295', '564', '697', '261', '4,018', '1,724', '8,899', '1,106',\n",
       "       '937', '281', '1,728', '6,661', '170', '150', '1,529', '816',\n",
       "       '225', '408', '5,093', '59,198', '2,121', '2,547', '361', '2,602',\n",
       "       '1,462', '419', '1,426', '678', '3,350', '923', '5,729', '1,958',\n",
       "       '734', '485', '74,911', '10,616', '1,834', '266', '2,189',\n",
       "       '25,739', '1,242', '535', '616', '3,951', '460', '7,139', '783',\n",
       "       '499', '2,778', '1,026', '504', '656', '1,348', '74', '2,883',\n",
       "       '1,031', '1,686', '1,940', '505', '147', '825', '1,434', '179',\n",
       "       '3,141', '579', '4,719', '1,436', '855', '775', '20,744', '1,856',\n",
       "       '290', '1,509', '124', '1,281', '7,244', '11,351', '7,062', '333',\n",
       "       '902', '146', '3,453', '252', '3,073', '3,829', '1,653', '17,724',\n",
       "       '1,908', '196', '13,051', '1,108', '1,608', '10,727', '2,093',\n",
       "       '410', '1,261', '490', '213', '189', '314', '752', '822', '1,091',\n",
       "       '826', '3,009', '47,854', '908', '590', '984', '422', '4,976',\n",
       "       '525', '149', '662', '607', '11,838', '288', '511', '551', '395',\n",
       "       '20,956', '52,399', '121', '14,641', '3,013', '663', '473', '557',\n",
       "       '650', '646', '245', '916', '501', '2,067', '1,860', '1,997',\n",
       "       '343', '307', '838', '144', '6,934', '16,481', '447', '375',\n",
       "       '13,480', '502', '1,373', '345', '2,032', '199', '2,057', '864',\n",
       "       '1,405', '1,193', '568', '988', '256', '2,603', '308', '883',\n",
       "       '1,590', '2,250', '755', '353', '2,387', '2,432', '8,624', '1,460',\n",
       "       '20,328', '188', '11,827', '2,507', '246', '1,521', '1,387', '739',\n",
       "       '4,313', '497', '910', '2,599', '3,463', '652', '321', '670',\n",
       "       '3,742', '1,255', '9,445', '634', '2,095', '4,331', '887', '404',\n",
       "       '576', '1,003', '5,163', '2,058', '2,622', '1,500', '299', '418',\n",
       "       '20,707', '1,094', '268', '971', '1,918', '5,720', '4,210',\n",
       "       '1,667', '621', '455', '1,685', '273', '278', '219', '1,783',\n",
       "       '1,838', '4,091', '1,097', '790', '608', '13,361', '3,840', '226',\n",
       "       '355', '31,731', '425', '2,953', '356', '14,106', '1,334', '597',\n",
       "       '339', '30,303', '4,619', '462', '11,667', '7,172', '1,560',\n",
       "       '22,602', '766', '3,564', '5,968', '586', '1,723', '377', '2,818',\n",
       "       '841', '1,898', '522', '344', '2,351', '888', '591', '1,536',\n",
       "       '1,446', '17,359', '2,572', '15,716', '336', '1,307', '2,085',\n",
       "       '548', '113,715', '9,277', '5,155', '172', '4,225', '11,519',\n",
       "       '593', '2,034', '784', '207', '47,197', '578', '2,498', '14,357',\n",
       "       '699', '2,466', '412', '751', '1,218', '372', '2,535', '9,115',\n",
       "       '7,300', '13,365', '326', '3,954', '788', '11,634', '25,824',\n",
       "       '3,701', '19,078', '451', '13,849', '351', '7,351', '500', '1,204',\n",
       "       '21,553', '5,245', '303', '358', '206', '2,304', '2,612', '1,100',\n",
       "       '3,467', '1,366', '1,613', '1,208', '3,116', '3,154', '1,260',\n",
       "       '193', '15,265', '2,868', '21,522', '51,930', '421', '2,077',\n",
       "       '17,166', '1,492', '3,173', '9,461', '737', '2,587', '1,569',\n",
       "       '1,206', '1,773', '871', '665', '1,630', '778', '2,415', '14,495',\n",
       "       '8,081', '185', '615', '2,753', '2,532', '359', '1,102', '1,767',\n",
       "       '176', '1,904', '1,585', '1,993', '660', '1,256', '2,078', '2,529',\n",
       "       '6,972', '1,263', '556', '3,345', '3,031', '667', '9,707',\n",
       "       '16,802', '1,951', '3,831', '963', '480', '1,751', '1,162', '677',\n",
       "       '13,479', '15,661', '718', '780', '3,122', '5,254', '368', '577',\n",
       "       '4,190', '614', '1,082', '1,083', '3,264', '9,880', '5,580', '952',\n",
       "       '1,383', '513', '78', '1,611', '1,935', '4,503', '1,092', '9,483',\n",
       "       '1,973', '1,036', '681', '13,022', '165', '1,717', '861', '443',\n",
       "       '691', '4,122', '6,328', '431', '1,167', '843', '1,079', '302',\n",
       "       '464', '27,654', '5,973', '1,549', '394', '4,569', '204', '1,299',\n",
       "       '242', '1,662', '1,897', '612', '2,049', '364', '958', '3,748',\n",
       "       '2,043', '10,158', '1,730', '5,258', '4,472', '2,298', '2,742',\n",
       "       '907', '33,127', '111,934', '694', '1,759', '6,314', '2,938',\n",
       "       '42,606', '61,761', '304', '388', '1,351', '676', '4,319', '1,125',\n",
       "       '496', '7,902', '1,052', '1,019', '1,784', '18,069', '1,393',\n",
       "       '720', '648', '9,230', '669', '3,197', '3,718', '2,713', '263',\n",
       "       '2,866', '1,942', '5,076', '461', '433', '2,068', '1,075', '602',\n",
       "       '1,542', '13,406', '9,609', '495', '546', '210', '6,561', '397',\n",
       "       '761', '706', '426', '1,852', '909', '3,912', '7,540', '1,316',\n",
       "       '1,356', '618', '405', '2,968', '4,325', '1,182', '541', '386',\n",
       "       '1,194', '7,110', '2,016', '671', '66,061', '2,588', '43,471',\n",
       "       '3,128', '64,102', '1,785', '549', '1,395', '2,596', '449',\n",
       "       '1,269', '1,114', '987', '21,770', '15,720', '514', '240', '827',\n",
       "       '785', '1,254', '1,486', '10,196', '711', '251', '284', '791',\n",
       "       '230,284', '1,074', '5,904', '3,644', '5,627', '393', '18,177',\n",
       "       '3,696', '274', '4,682', '623', '12,867', '850', '924', '19,383',\n",
       "       '990', '5,719', '1,846', '4,799', '354', '21,334', '10,541', '399',\n",
       "       '2,828', '506', '325', '2,510', '7,100', '2,478', '1,741', '929',\n",
       "       '1,733', '800', '2,962', '2,781', '2,468', '2,213', '828', '3,739',\n",
       "       '977', '2,463', '486', '4,253', '1,792', '4,039', '2,011', '2,650',\n",
       "       '261,312', '392', '542', '280', '753', '742', '183,367', '32,807',\n",
       "       '7,969', '516', '31,300', '740,452', '45,655', '57,023', '4,794',\n",
       "       '725', '1,705', '24,064', '3,627', '1,507', '5,540', '6,670',\n",
       "       '3,274', '10,006', '469', '1,727', '9,305', '877', '346', '1,284',\n",
       "       '348', '1,467', '1,169', '619', '643', '1,863', '756', '52,431',\n",
       "       '8,805', '4,803', '3,267', '9,736', '49,822', '2,540', '1,231',\n",
       "       '1,138', '818', '332', '944', '6,468', '904', '6,413', '1,881',\n",
       "       '759', '2,109', '1,245', '2,249', '2,260', '10,251', '1,107',\n",
       "       '2,005', '2,973', '2,737', '1,955', '10,408', '6,426', '1,906',\n",
       "       '1,095', '414', '1,005', '3,850', '592', '9,451', '244', '3,391',\n",
       "       '3,271', '7,178', '38,991', '9,777', '1,482', '1,264', '849',\n",
       "       '2,356', '713', '24,829', '22,161', '3,549', '588', '922', '1,282',\n",
       "       '9,044', '853', '1,441', '7,404', '398', '905', '1,832', '1,357',\n",
       "       '2,729', '253', '12,526', '833', '5,259', '482', '1,189', '1,475',\n",
       "       '5,462', '350', '889', '2,001', '530', '8,268', '839', '997',\n",
       "       '2,156', '22,337', '2,215', '1,137', '1,048', '75,009', '1,650',\n",
       "       '58,964', '8,334', '312', '4,141', '4,345', '123,297', '7,158',\n",
       "       '2,191', '1,071', '6,113', '10,604', '3,616', '1,932', '8,420',\n",
       "       '3,225', '688', '49,588', '21,038', '1,669', '575', '192', '519',\n",
       "       '69,012', '463', '4,183', '476', '3,036', '8,733', '14,399',\n",
       "       '2,714', '9,003', '527', '1,861', '1,516', '6,947', '11,658',\n",
       "       '7,023', '24,491', '4,621', '1,909', '661', '338', '1,018',\n",
       "       '73,410', '1,037', '4,475', '769', '3,733', '834', '9,073',\n",
       "       '2,160', '420', '845', '3,443', '585', '7,167', '4,771', '11,771',\n",
       "       '3,588', '5,700', '8,394', '4,510', '6,177', '1,589', '1,212',\n",
       "       '708', '8,913', '830', '2,038', '468', '2,425', '439', '24,320',\n",
       "       '1,289', '466', '17,950', '1,606', '43,375', '673', '12,141',\n",
       "       '550', '8,755', '1,576', '489', '633', '3,539', '617', '2,698',\n",
       "       '12,386', '16,484', '950', '5,261', '750', '911', '9,234', '4,939',\n",
       "       '635', '2,184', '8,754', '11,797', '401', '3,670', '1,423',\n",
       "       '1,432', '235', '1,199', '1,077', '690', '11,426', '76,549',\n",
       "       '7,628', '3,988', '2,190', '8,788', '2,743', '1,230', '1,934',\n",
       "       '1,456', '3,510', '298', '1,214', '2,268', '2,065', '2,438',\n",
       "       '3,253', '13,066', '436', '3,902', '1,815', '938', '1,116',\n",
       "       '199,575', '4,951', '1,857', '3,134', '1,742', '4,249', '472',\n",
       "       '3,425', '396', '2,048', '1,851', '1,920', '1,657', '1,055',\n",
       "       '1,597', '1,093', '611', '1,011', '10,920', '11,480', '1,054',\n",
       "       '570', '653', '18,904', '1,085', '1,124', '1,200', '14,497', '366',\n",
       "       '6,703', '1,867', '1,599', '1,099', '2,094', '682', '445', '2,246',\n",
       "       '1,508', '599', '1,553', '1,895', '9,233', '26,193', '4,300',\n",
       "       '5,323', '4,045', '400', '39,806', '297', '2,108', '2,024',\n",
       "       '1,894', '1,459', '435', '1,819', '2,723', '9,778', '561', '4,707',\n",
       "       '1,379', '2,299', '1,135', '233', '5,850', '10,557', '2,251',\n",
       "       '10,683', '1,034', '13,511', '4,755', '430', '3,503', '3,875',\n",
       "       '6,193', '4,933', '793', '8,176', '684', '555', '17,621', '1,763',\n",
       "       '724', '29,340', '1,562', '1,268', '10,746', '3,695', '1,370',\n",
       "       '477', '622', '45,015', '7,548', '4,202', '4,051', '1,921',\n",
       "       '2,817', '792', '3,372', '3,119', '55,197', '4,913', '1,029',\n",
       "       '655', '5,013', '807', '1,158', '657', '38,926', '5,672', '1,067',\n",
       "       '24,797', '249', '2,696', '2,838', '1,042', '42,742', '1,006',\n",
       "       '859', '994', '14,593', '609', '1,040', '3,337', '10,537', '2,255',\n",
       "       '4,522', '1,144', '12,683', '3,865', '1,531', '2,384', '1,566',\n",
       "       '11,293', '2,986', '1,127', '3,770', '442', '381', '11,140', '560',\n",
       "       '4,282', '49,430', '3,329', '728', '1,478', '1,519', '779',\n",
       "       '1,023', '2,070', '3,986', '947', '2,301', '776', '5,287', '1,839',\n",
       "       '2,399', '340', '1,327', '2,322', '456', '1,515', '1,111', '5,644',\n",
       "       '2,609', '1,377', '2,207', '757', '2,103', '14,621', '5,910',\n",
       "       '20,121', '323', '1,069', '832', '5,320', '9,117', '1,588',\n",
       "       '5,056', '573', '1,595', '1,178', '474', '27,615', '3,905',\n",
       "       '7,487', '719', '14,115', '10,934', '1,565', '1,690', '846',\n",
       "       '5,671', '891', '378', '4,670', '1,252', '6,479', '11,176', '928',\n",
       "       '21,674', '1,286', '3,775', '10,791', '4,318', '9,100', '28,050',\n",
       "       '3,438', '1,319', '22,461', '983', '2,245', '6,230', '745',\n",
       "       '5,266', '315', '1,541', '7,693', '881', '857', '1,660', '4,711',\n",
       "       '1,326', '4,661', '161,162', '6,682', '300', '1,051', '3,316',\n",
       "       '1,776', '781', '5,313', '77,732', '767', '40,026', '1,701', '689',\n",
       "       '457', '1,342', '806', '5,542', '6,249', '7,054', '5,269', '7,032',\n",
       "       '4,909', '4,795', '39,457', '581', '411', '3,548', '3,932', '974',\n",
       "       '2,072', '1,213', '2,369', '51,357', '6,081', '2,140', '7,008',\n",
       "       '918', '357', '1,983', '1,823', '4,727', '1,722', '1,957', '1,431',\n",
       "       '2,312', '4,712', '26,949', '21,624', '8,526', '1,878', '2,381',\n",
       "       '644', '3,744', '808', '12,065', '1,403', '866', '1,820', '14,319',\n",
       "       '1,744', '2,146', '717', '2,946', '2,392', '8,542', '510', '993',\n",
       "       '512', '20,957', '4,386', '4,589', '32,596', '1,012', '1,098',\n",
       "       '543', '15,554', '3,885', '113,442', '205,758', '770', '2,777',\n",
       "       '10,477', '467', '600', '369', '1,007', '1,388', '2,393', '6,233',\n",
       "       '347', '7,254', '5,446', '17,261', '1,394', '389', '2,762',\n",
       "       '10,806', '25,248', '5,763', '605', '709', '2,135', '5,418',\n",
       "       '1,103', '2,763', '2,826', '3,396', '820', '1,142', '2,278',\n",
       "       '1,663', '1,694', '854', '31,886', '1,929', '6,532', '29,628',\n",
       "       '1,136', '955', '5,918', '5,654', '1,572', '4,195', '1,617',\n",
       "       '2,442', '2,800', '37,685', '1,752', '5,639', '22,033', '3,068',\n",
       "       '7,963', '3,436', '4,123', '13,836', '5,467', '1,584', '172,948',\n",
       "       '4,692', '6,352', '5,179', '868', '632', '867', '700', '11,025',\n",
       "       '4,844', '3,187', '2,628', '113,190', '1,062', '842', '423',\n",
       "       '3,923', '569', '2,441', '2,820', '4,346', '919', '33,611',\n",
       "       '104,399', '452', '2,541', '4,179', '649', '8,064', '3,849',\n",
       "       '48,211', '3,148', '2,581', '772', '1,914', '553', '951', '642',\n",
       "       '21,355', '11,862', '2,398', '5,613', '1,977', '18,931', '11,825',\n",
       "       '19,804', '1,233', '373', '831', '4,453', '5,582', '4,740',\n",
       "       '13,444', '9,535', '4,281', '10,883', '1,692', '318', '1,376',\n",
       "       '1,417', '10,398', '2,914', '1,306', '3,971', '1,919', '16,834',\n",
       "       '639', '51,574', '4,474', '1,781', '73,169', '9,229', '3,297',\n",
       "       '5,971', '749', '1,272', '2,042', '5,629', '26,904', '10,792',\n",
       "       '932', '8,306', '3,976', '23,555', '933', '2,785', '4,109',\n",
       "       '1,602', '574', '1,422', '714', '18,122', '7,591', '2,163',\n",
       "       '15,066', '1,915', '92,640', '610', '695', '2,023', '6,345',\n",
       "       '229,488', '1,956', '65,524', '5,299', '22,536', '2,759', '538',\n",
       "       '1,251', '8,664', '49,431', '921', '4,001', '453', '873', '5,390',\n",
       "       '3,728', '1,241', '2,151', '49,735', '4,991', '598', '16,008',\n",
       "       '2,083', '12,255', '4,983', '1,266', '696', '3,215', '2,558',\n",
       "       '7,654', '1,053', '11,499', '8,631', '1,505', '701', '7,272',\n",
       "       '1,262', '1,964', '5,843', '2,212', '2,937', '4,972', '13,635',\n",
       "       '2,071', '8,014', '2,876', '1,369', '13,616', '1,930', '1,001',\n",
       "       '6,998', '1,440', '809', '5,752', '6,396', '409', '7,035', '746',\n",
       "       '19,325', '1,948', '1,738', '1,837', '1,799', '1,247', '10,814',\n",
       "       '1,890', '17,573', '15,413', '16,501', '636', '17,005', '470',\n",
       "       '4,436', '13,046', '7,472', '11,937', '5,846', '6,789', '5,018',\n",
       "       '1,129', '8,791', '2,773', '2,467', '76,689', '1,134', '24,205',\n",
       "       '3,924', '16,986', '3,852', '1,173', '2,709', '44,315', '1,916',\n",
       "       '1,205', '15,075', '5,783', '3,277', '2,647', '659', '1,015',\n",
       "       '43,571', '2,767', '9,963', '12,595', '2,794', '10,749', '8,262',\n",
       "       '14,946', '1,371', '374', '6,020', '15,049', '3,987', '1,793',\n",
       "       '2,481', '1,484', '1,513', '531', '15,197', '1,385', '596', '572',\n",
       "       '3,403', '8,814', '1,355', '2,906', '5,537', '4,980', '275,912',\n",
       "       '1,464', '13,185', '956', '50,882', '814', '1,756', '1,554',\n",
       "       '1,502', '1,057', '3,351', '360', '1,413', '2,259', '3,882',\n",
       "       '1,105', '15,852', '959', '3,322', '1,197', '894,336', '9,238',\n",
       "       '1,185', '565', '969', '3,535', '1,498', '856', '380', '9,782',\n",
       "       '3,393', '4,858', '7,242', '1,257', '2,385', '2,834', '74,422',\n",
       "       '18,533', '10,229', '8,571', '3,213', '9,290', '2,013', '2,688',\n",
       "       '2,755', '1,886', '24,531', '2,643', '7,713', '3,668', '2,235',\n",
       "       '13,194', '3,091', '10,190', '729', '2,296', '763', '3,993',\n",
       "       '1,517', '1,871', '29,333', '2,054', '1,749', '7,661', '5,509',\n",
       "       '2,655', '5,291', '1,693', '1,499', '2,313', '799', '6,825',\n",
       "       '3,570', '566', '879', '8,723', '3,465', '1,996', '1,634', '2,187',\n",
       "       '3,003', '9,428', '980', '5,405', '6,859', '3,204', '620', '2,527',\n",
       "       '6,569', '835', '14,772', '613', '72,760', '23,813', '2,856',\n",
       "       '83,925', '7,130', '13,368', '1,943', '606', '33,990', '675',\n",
       "       '2,325', '2,574', '1,911', '601', '21,008', '13,217', '2,424',\n",
       "       '1,386', '1,293', '1,503', '2,873', '19,673', '6,902', '3,776',\n",
       "       '1,076', '44,391', '4,709', '3,142', '2,287', '7,445', '3,012',\n",
       "       '5,940', '2,174', '22,352', '819', '1,191', '2,977', '2,480',\n",
       "       '6,103', '6,578', '1,274', '40,066', '4,549', '1,030', '3,317',\n",
       "       '693', '40,082', '3,096', '3,837', '912', '2,701', '1,270',\n",
       "       '2,053', '4,216', '1,535', '1,510', '4,931', '2,699', '33,582',\n",
       "       '5,244', '3,800', '626', '1,328', '1,775', '3,694', '18,688',\n",
       "       '1,450', '11,295', '914', '6,818', '2,518', '801', '7,070',\n",
       "       '1,070', '931', '979', '536', '15,006', '4,705', '1,768', '1,581',\n",
       "       '2,553', '1,465', '6,605', '2,610', '3,547', '261,311', '3,490',\n",
       "       '1,518', '45,185', '1,207', '1,032', '13,456', '9,899', '5,176',\n",
       "       '30,179', '8,259', '1,681', '3,826', '2,857', '1,468', '10,112',\n",
       "       '6,429', '1,858', '22,223', '2,426', '2,559', '3,947', '6,301',\n",
       "       '1,869', '3,430', '12,587', '7,705', '2,105', '897', '1,520',\n",
       "       '17,924', '518', '6,907', '2,389', '4,344', '999', '2,503',\n",
       "       '4,866', '1,211', '1,770', '13,390', '654', '726', '703', '715',\n",
       "       '2,314', '1,833', '1,276', '2,976', '1,491', '9,348', '58,387',\n",
       "       '1,195', '8,396', '1,396', '20,925', '1,171', '2,912', '4,938',\n",
       "       '692', '24,153', '2,675', '11,600', '5,139', '658', '3,411',\n",
       "       '2,091', '11,580', '878', '11,553', '51,830', '10,122', '2,597',\n",
       "       '3,112', '2,277', '481', '5,579', '5,616', '2,886', '965', '794',\n",
       "       '5,229', '26,967', '1,636', '5,980', '3,477', '2,803', '26,510',\n",
       "       '18,687', '3,450', '1,683', '1,430', '3,072', '2,127', '3,903',\n",
       "       '15,028', '3,936', '1,804', '18,412', '1,010', '2,712', '5,391',\n",
       "       '66,057', '25,608', '5,583', '3,011', '38,544', '4,117', '4,283',\n",
       "       '4,753', '22,950', '4,869', '1,228', '8,946', '3,437', '6,285',\n",
       "       '680', '13,330', '126,553', '5,128', '2,100', '2,808', '6,291',\n",
       "       '2,531', '1,891', '515', '3,004', '9,624', '1,148', '1,039',\n",
       "       '8,073', '2,352', '1,677', '3,995', '2,668', '2,265', '4,339',\n",
       "       '4,635', '1,153', '1,616', '2,846', '1,190', '2,128', '2,807',\n",
       "       '28,662', '24,385', '668', '4,047', '1,668', '28,705', '860',\n",
       "       '3,819', '3,606', '2,173', '8,736', '13,622', '2,239', '488',\n",
       "       '771', '11,210', '2,862', '2,772', '25,905', '1,684', '9,981',\n",
       "       '6,263', '1,406', '1,853', '22,852', '13,550', '3,953', '15,048',\n",
       "       '674', '3,021', '949', '40,702', '5,154', '1,155', '11,885', '540',\n",
       "       '2,689', '1,579', '4,391', '351,187', '2,534', '11,566', '2,221',\n",
       "       '2,348', '10,405', '4,069', '1,050', '14,406', '4,552', '943',\n",
       "       '4,742', '526', '8,879', '36,521', '8,511', '2,530', '1,830',\n",
       "       '1,184', '73,408', '1,824', '2,593', '1,201', '14,638', '8,853',\n",
       "       '19,427', '2,477', '2,445', '15,071', '3,736', '4,783', '12,272',\n",
       "       '1,056', '6,656', '38,913', '2,967', '5,878', '1,112', '1,249',\n",
       "       '3,921', '1,907', '2,062', '4,689', '1,787', '84,087', '2,514',\n",
       "       '13,994', '4,829', '7,509', '7,259', '2,217', '5,080', '851',\n",
       "       '9,795', '8,694', '13,549', '710', '2,751', '7,195', '5,067',\n",
       "       '11,859', '3,970', '1,333', '3,464', '862', '2,376', '672',\n",
       "       '1,365', '18,909', '14,070', '1,550', '19,134', '1,753', '5,640',\n",
       "       '53,259', '3,530', '23,680', '2,715', '28,998', '847', '2,657',\n",
       "       '1,021', '17,172', '24,296', '3,008', '5,994', '1,875', '4,798',\n",
       "       '735', '892', '6,992', '2,584', '2,835', '1,224', '2,999', '973',\n",
       "       '1,900', '9,287', '3,824', '2,638', '2,044', '7,097', '817',\n",
       "       '7,128', '4,816', '3,693', '341', '6,130', '4,929', '823',\n",
       "       '10,419', '8,455', '1,295', '7,521', '21,904', '1,244', '4,340',\n",
       "       '7,298', '28,048', '23,557', '1,571', '6,660', '48,292', '4,877',\n",
       "       '34,442', '2,014', '10,426', '2,309', '4,113', '3,604', '1,941',\n",
       "       '1,695', '520', '4,623', '12,901', '29,746', '4,928', '12,142',\n",
       "       '2,848', '4,126', '7,828', '1,290', '2,949', '11,638', '1,648',\n",
       "       '1,927', '1,209', '11,393', '1,358', '2,286', '982', '2,050',\n",
       "       '1,301', '5,824', '1,627', '1,978', '1,170', '5,096', '1,104',\n",
       "       '1,731', '3,517', '1,643', '15,271', '1,558', '9,273', '9,783',\n",
       "       '1,133', '1,109', '2,216', '2,047', '7,948', '1,675', '765',\n",
       "       '1,060', '8,940', '34,672', '12,410', '2,331', '986', '1,661',\n",
       "       '3,649', '3,181', '6,461', '18,976', '1,176', '946', '1,203',\n",
       "       '872', '1,984', '1,800', '7,772', '2,629', '2,861', '7,911',\n",
       "       '2,546', '4,302', '2,073', '5,669', '1,748', '3,492', '6,004',\n",
       "       '15,584', '1,600', '2,074', '28,124', '2,361', '1,772', '11,308',\n",
       "       '2,732', '11,662', '4,175', '2,607', '16,546', '13,945', '5,202',\n",
       "       '7,967', '968', '11,768', '991', '12,903', '2,253', '12,585',\n",
       "       '2,061', '5,865', '774', '8,078', '2,214', '1,089', '15,913',\n",
       "       '22,484', '17,042', '2,119', '48,588', '17,051', '4,579', '1,654',\n",
       "       '4,948', '106,128', '925', '2,395', '99,537', '2,003', '57,938',\n",
       "       '3,920', '3,064', '11,954', '6,297', '1,632', '19,252', '1,556',\n",
       "       '29,858', '2,363', '32,628', '13,680', '2,454', '5,870', '4,078',\n",
       "       '874', '2,845', '3,762', '1,641', '629', '2,579', '2,226', '8,200',\n",
       "       '12,571', '1,364', '1,073', '1,609', '1,564', '1,821', '760',\n",
       "       '1,179', '1,765', '10,223', '26,196', '5,774', '6,398', '6,181',\n",
       "       '1,563', '61,263', '15,351', '4,410', '2,761', '927', '16,540',\n",
       "       '1,046', '4,061', '1,747', '6,499', '2,039', '1,905', '74,793',\n",
       "       '3,726', '3,377', '885', '2,990', '5,017', '3,017', '1,479',\n",
       "       '18,524', '67,444', '2,564', '1,876', '28,969', '2,203', '2,979',\n",
       "       '768', '13,517', '1,280', '18,471', '2,405', '2,198', '8,321',\n",
       "       '1,375', '27,533', '105,140', '10,446', '5,734', '10,546', '3,891',\n",
       "       '1,524', '1,447', '12,002', '3,050', '34,723', '22,205', '20,418',\n",
       "       '5,975', '4,184', '786', '1,338', '8,550', '2,006', '21,458',\n",
       "       '3,853', '1,341', '1,745', '12,447', '4,636', '387', '3,288',\n",
       "       '1,397', '1,096', '3,542', '2,702', '11,093', '4,458', '6,896',\n",
       "       '3,255', '2,232', '4,211', '35,428', '13,993', '1,219', '1,889',\n",
       "       '3,575', '7,102', '5,203', '4,646', '3,156', '2,110', '3,167',\n",
       "       '2,790', '2,126', '165,617', '1,335', '3,675', '2,972', '6,323',\n",
       "       '744', '8,845', '3,344', '1,903', '1,714', '31,663', '1,457',\n",
       "       '2,745', '754', '8,314', '1,933', '1,910', '3,404', '18,433',\n",
       "       '5,892', '11,019', '1,497', '2,178', '975', '961', '1,831',\n",
       "       '7,483', '2,008', '2,276', '1,802', '903', '1,734', '4,432',\n",
       "       '4,271', '2,606', '821', '1,253', '5,548', '1,314', '9,538',\n",
       "       '2,645', '55,387', '45,536', '21,461', '4,605', '16,829', '2,324',\n",
       "       '152,301', '1,014', '18,556', '10,947', '13,007', '4,988',\n",
       "       '10,682', '1,372', '3,030', '5,961', '567', '1,321', '1,557',\n",
       "       '11,950', '2,018', '884', '1,628', '1,186', '2,305', '19,102',\n",
       "       '6,186', '2,616', '23,723', '2,795', '6,526', '12,812', '4,304',\n",
       "       '2,220', '2,017', '1,716', '1,180', '3,046', '603', '2,542', '978',\n",
       "       '2,357', '4,762', '3,801', '1,130', '7,525', '2,443', '882',\n",
       "       '4,950', '813', '1,849', '798', '5,071', '3,341', '1,812', '4,693',\n",
       "       '1,304', '1,119', '2,123', '2,145', '3,611', '8,470', '1,644',\n",
       "       '2,475', '11,616', '4,293', '4,558', '17,728', '2,176', '1,664',\n",
       "       '3,967', '844', '13,929', '6,205', '13,747', '2,086', '796',\n",
       "       '4,467', '64,195', '3,093', '5,574', '1,297', '2,774', '1,655',\n",
       "       '13,363', '1,674', '7,183', '1,317', '2,586', '6,707', '$5.16M',\n",
       "       '802', '4,097', '23,977', '23,116', '14,083', '2,458', '1,359',\n",
       "       '1,912', '1,273', '6,839', '5,178', '9,615', '3,171', '2,600',\n",
       "       '1,177', '2,528', '27,030', '1,999', '53,247', '4,521', '11,621',\n",
       "       '1,687', '1,514', '6,088', '848', '3,871', '38,690', '4,820',\n",
       "       '20,587', '1,923', '16,102'], dtype=object)"
      ]
     },
     "execution_count": 205,
     "metadata": {},
     "output_type": "execute_result"
    }
   ],
   "source": [
    "df_movie[\"Votes\"].unique()"
   ]
  },
  {
   "cell_type": "markdown",
   "metadata": {},
   "source": [
    "The votes column has int values with \",\" in between which can be removed and cleaned.\n",
    "\n",
    "It also has nan values and one invalid value \"$5.16M\", we'll convert all this to 0."
   ]
  },
  {
   "cell_type": "code",
   "execution_count": 206,
   "metadata": {},
   "outputs": [],
   "source": [
    "df_movie[\"Votes\"] = df_movie[\"Votes\"].apply(lambda x: \"\".join(x.strip().split(\",\")) if x==x else '0')"
   ]
  },
  {
   "cell_type": "code",
   "execution_count": 207,
   "metadata": {},
   "outputs": [],
   "source": [
    "df_movie[\"Votes\"] = df_movie[\"Votes\"].apply(lambda x: int(x) if re.search('^\\d*$', x) else 0)"
   ]
  },
  {
   "cell_type": "code",
   "execution_count": 208,
   "metadata": {},
   "outputs": [
    {
     "data": {
      "text/plain": [
       "array([  1892,     20,     21,      0,     16,  26885,     12,    218,\n",
       "          379,     63,     11,    231,    459,     98,    160,      7,\n",
       "            6,   1312,   8284,    118,    110,     40,     25,   2592,\n",
       "          406,    805,    286,    427,     82,    337,    101,    259,\n",
       "          434,    120,     19,     73,  26801,      8,    402,    471,\n",
       "           10,     15,     47,    123,   1601,    282,   1360,     51,\n",
       "          102,     39,      5,    267,   1567,     32,    437,   1017,\n",
       "           76,    316,     14,    260,   1068,    106,    167,     13,\n",
       "           65,     18,    507,   7115,     35,   4954,    758,  14626,\n",
       "          183,   1392,    896,     55,      9,     23,     59,     44,\n",
       "          492,     38,   3574,   1583,    134,  10905,   2406,   1115,\n",
       "           27,    214,     77,     30,   4681,    275,   1024,    319,\n",
       "         1816,     26,    926,    125,    478,     56,    840,     57,\n",
       "          239,  58037,    187,     37,    135,    967,    533,    136,\n",
       "         8815,    740,     17,     31,  21192,   5030,     75,     49,\n",
       "          103,     50,    198,    269,   1591,   6698,   1309,    148,\n",
       "          186,    114,   1004,   1985,    440,    306,    352,    257,\n",
       "       954861,     22,     48,     43,   1066,    177,     54,     81,\n",
       "           41,  15444,    407,  14265,    133,    483,    197,    145,\n",
       "          184,    852,     79,     28,     34,    789,   1807,    129,\n",
       "          939,    595,    209,     83,   3276,    493,     29,    367,\n",
       "          191,    631,    494,    413,   1150,    217,     60,     52,\n",
       "           24,    371,    237,    143,   4423,    113,     91,     64,\n",
       "        34691,    970,    415,     62,    255,    863,     80,   9698,\n",
       "           68,   1149,    119,    335,    228,     45,    100,    448,\n",
       "          190,    301,    327,    174,    624,    324,    138,    272,\n",
       "          309,   1614,     33,    180,    458,   8222,   1145,     53,\n",
       "        14676,    151,    200,   1474,   6288,   3307,   1551,     36,\n",
       "          562,   2330,   2996,    484,     58,    475,   2449,   1088,\n",
       "           99,    221,   1181,    241,    122,   1045,     46,    175,\n",
       "         6508,    254,     42,  12948,    899,    521,   3687,    212,\n",
       "          116,   5306,   3153,     92,    296,    376,   2355,    731,\n",
       "         1624,    154,   2674,    428,   1332,     86,    111,    554,\n",
       "           69,    640,   1047,   1361,   2551,   3191,     67,    107,\n",
       "         5310,    804,   3024,   1944,    935,    264,    764,   2022,\n",
       "         3931,    222,     85,    157,     84,     88,   6985,     94,\n",
       "         3941,    465,    223,    627,   2264,     71,  21467,    948,\n",
       "          444,    589,    524,    153,    248,    171,    311,    797,\n",
       "         3623,    582,  10102,    528,   2007,    141,    279,   1721,\n",
       "         6017,    580,    117,   1470,   1421,     72,  57025,    716,\n",
       "          342,    989,     97,  14632,  39455,   4215,    487,    131,\n",
       "          289,   1243,    940,    722,   2957,   2059,    115,    894,\n",
       "          981,   3066,     89,    283,     66,    132,   6694,   4953,\n",
       "          112,    383,    169,    391,    105,   5716,   1414,    403,\n",
       "          287,    429,    236,    277,    320,   5233,    234,    532,\n",
       "           70,     96,   2942,  11119,    229,   3808,   7409,   2196,\n",
       "         3285,    159,    498,    733,   2081,    537,   1720,   5951,\n",
       "        51634,    529,    291,   1844,   2341,    230,    773,    509,\n",
       "          250,   6455,     87,    322,   1962,  20008,    317,     95,\n",
       "          787,    583,   4029, 261319,   2326,    127,   1140,    630,\n",
       "          503,    664,   5058,   1504,    276,   1320,    182,    270,\n",
       "         2378,    305,    365,    349,    173,    628,   2185,   1350,\n",
       "          238,   2748,   9994,    164,    811,   9874,    216,    707,\n",
       "         2290,    331,   1652,   1530,   2965,    384,    109,    417,\n",
       "         6903,    795,   5109,   5445,     61,    158,   2621,  10427,\n",
       "          211,    996,    571,    738,   2646,   1202,   3983,  18313,\n",
       "         3508,    227,     93,    292,    985,   1090,   1873,   1713,\n",
       "         1225,    104,   4800,   1154,    890,   3631,   1461,   4970,\n",
       "         1758,    438,    523,    310,    208,    142,   2300,   1305,\n",
       "         3638,    836,   2684,    370,    247,    547,   1476,    432,\n",
       "         2870,    168,   1000,    201,    390,    363,   1183,    424,\n",
       "         1735,   1035,   1192,   2396,    232,   5487,    137,   5357,\n",
       "          454,    271,    262,   7695,   2030,    730,    385,   2473,\n",
       "         2927,   2328,    215,  37325,    382,   1408,  23083,    334,\n",
       "         1528,    698,    329,   6359,    140,    743,   8947,     90,\n",
       "          178,   1165,   1389,    181,    876,    625,    450,   2943,\n",
       "         2913,   7603,    203,    858,    705,   1688,    416,    313,\n",
       "          163,  20048,   7126,    687,    936,    294,   1315,  17241,\n",
       "          960,    293,  15377,  21675,   2181,    285,    479,    108,\n",
       "         1164,    243,   1540,  31167,   1118,    126,    712,   1902,\n",
       "         9587,    558,   1847,    139,    651,    202,    194,    446,\n",
       "          152,   1278,   6140,  17437,    559,   1059,    641,    130,\n",
       "        10417,   1013,    205,    782,   8651,    156,   1439,  24161,\n",
       "        24203,   7554,   3333,    645,    162,  23912,   1645,    128,\n",
       "          166,  41380,   1025,    161,    920,   1143,   2959,   4924,\n",
       "         1472,   3856,   2219,    508,    328,    155,    930,   1453,\n",
       "          258,   1064,  15361,    362,    563,    195,    584,   1049,\n",
       "         2683,    265,   4961,   4730,   4378,   2691,   2519,    517,\n",
       "         1415,    441,   1324,  21877,   7439,   7372,   2853,   2497,\n",
       "         2933,   7600,   2364,   1622,  29393,    545,    552,   2358,\n",
       "          534,   2166,   1128,  24883,    220,    224,    330,  11882,\n",
       "          544,   1811,   1223,   1725,    295,    564,    697,    261,\n",
       "         4018,   1724,   8899,   1106,    937,    281,   1728,   6661,\n",
       "          170,    150,   1529,    816,    225,    408,   5093,  59198,\n",
       "         2121,   2547,    361,   2602,   1462,    419,   1426,    678,\n",
       "         3350,    923,   5729,   1958,    734,    485,  74911,  10616,\n",
       "         1834,    266,   2189,  25739,   1242,    535,    616,   3951,\n",
       "          460,   7139,    783,    499,   2778,   1026,    504,    656,\n",
       "         1348,     74,   2883,   1031,   1686,   1940,    505,    147,\n",
       "          825,   1434,    179,   3141,    579,   4719,   1436,    855,\n",
       "          775,  20744,   1856,    290,   1509,    124,   1281,   7244,\n",
       "        11351,   7062,    333,    902,    146,   3453,    252,   3073,\n",
       "         3829,   1653,  17724,   1908,    196,  13051,   1108,   1608,\n",
       "        10727,   2093,    410,   1261,    490,    213,    189,    314,\n",
       "          752,    822,   1091,    826,   3009,  47854,    908,    590,\n",
       "          984,    422,   4976,    525,    149,    662,    607,  11838,\n",
       "          288,    511,    551,    395,  20956,  52399,    121,  14641,\n",
       "         3013,    663,    473,    557,    650,    646,    245,    916,\n",
       "          501,   2067,   1860,   1997,    343,    307,    838,    144,\n",
       "         6934,  16481,    447,    375,  13480,    502,   1373,    345,\n",
       "         2032,    199,   2057,    864,   1405,   1193,    568,    988,\n",
       "          256,   2603,    308,    883,   1590,   2250,    755,    353,\n",
       "         2387,   2432,   8624,   1460,  20328,    188,  11827,   2507,\n",
       "          246,   1521,   1387,    739,   4313,    497,    910,   2599,\n",
       "         3463,    652,    321,    670,   3742,   1255,   9445,    634,\n",
       "         2095,   4331,    887,    404,    576,   1003,   5163,   2058,\n",
       "         2622,   1500,    299,    418,  20707,   1094,    268,    971,\n",
       "         1918,   5720,   4210,   1667,    621,    455,   1685,    273,\n",
       "          278,    219,   1783,   1838,   4091,   1097,    790,    608,\n",
       "        13361,   3840,    226,    355,  31731,    425,   2953,    356,\n",
       "        14106,   1334,    597,    339,  30303,   4619,    462,  11667,\n",
       "         7172,   1560,  22602,    766,   3564,   5968,    586,   1723,\n",
       "          377,   2818,    841,   1898,    522,    344,   2351,    888,\n",
       "          591,   1536,   1446,  17359,   2572,  15716,    336,   1307,\n",
       "         2085,    548, 113715,   9277,   5155,    172,   4225,  11519,\n",
       "          593,   2034,    784,    207,  47197,    578,   2498,  14357,\n",
       "          699,   2466,    412,    751,   1218,    372,   2535,   9115,\n",
       "         7300,  13365,    326,   3954,    788,  11634,  25824,   3701,\n",
       "        19078,    451,  13849,    351,   7351,    500,   1204,  21553,\n",
       "         5245,    303,    358,    206,   2304,   2612,   1100,   3467,\n",
       "         1366,   1613,   1208,   3116,   3154,   1260,    193,  15265,\n",
       "         2868,  21522,  51930,    421,   2077,  17166,   1492,   3173,\n",
       "         9461,    737,   2587,   1569,   1206,   1773,    871,    665,\n",
       "         1630,    778,   2415,  14495,   8081,    185,    615,   2753,\n",
       "         2532,    359,   1102,   1767,    176,   1904,   1585,   1993,\n",
       "          660,   1256,   2078,   2529,   6972,   1263,    556,   3345,\n",
       "         3031,    667,   9707,  16802,   1951,   3831,    963,    480,\n",
       "         1751,   1162,    677,  13479,  15661,    718,    780,   3122,\n",
       "         5254,    368,    577,   4190,    614,   1082,   1083,   3264,\n",
       "         9880,   5580,    952,   1383,    513,     78,   1611,   1935,\n",
       "         4503,   1092,   9483,   1973,   1036,    681,  13022,    165,\n",
       "         1717,    861,    443,    691,   4122,   6328,    431,   1167,\n",
       "          843,   1079,    302,    464,  27654,   5973,   1549,    394,\n",
       "         4569,    204,   1299,    242,   1662,   1897,    612,   2049,\n",
       "          364,    958,   3748,   2043,  10158,   1730,   5258,   4472,\n",
       "         2298,   2742,    907,  33127, 111934,    694,   1759,   6314,\n",
       "         2938,  42606,  61761,    304,    388,   1351,    676,   4319,\n",
       "         1125,    496,   7902,   1052,   1019,   1784,  18069,   1393,\n",
       "          720,    648,   9230,    669,   3197,   3718,   2713,    263,\n",
       "         2866,   1942,   5076,    461,    433,   2068,   1075,    602,\n",
       "         1542,  13406,   9609,    495,    546,    210,   6561,    397,\n",
       "          761,    706,    426,   1852,    909,   3912,   7540,   1316,\n",
       "         1356,    618,    405,   2968,   4325,   1182,    541,    386,\n",
       "         1194,   7110,   2016,    671,  66061,   2588,  43471,   3128,\n",
       "        64102,   1785,    549,   1395,   2596,    449,   1269,   1114,\n",
       "          987,  21770,  15720,    514,    240,    827,    785,   1254,\n",
       "         1486,  10196,    711,    251,    284,    791, 230284,   1074,\n",
       "         5904,   3644,   5627,    393,  18177,   3696,    274,   4682,\n",
       "          623,  12867,    850,    924,  19383,    990,   5719,   1846,\n",
       "         4799,    354,  21334,  10541,    399,   2828,    506,    325,\n",
       "         2510,   7100,   2478,   1741,    929,   1733,    800,   2962,\n",
       "         2781,   2468,   2213,    828,   3739,    977,   2463,    486,\n",
       "         4253,   1792,   4039,   2011,   2650, 261312,    392,    542,\n",
       "          280,    753,    742, 183367,  32807,   7969,    516,  31300,\n",
       "       740452,  45655,  57023,   4794,    725,   1705,  24064,   3627,\n",
       "         1507,   5540,   6670,   3274,  10006,    469,   1727,   9305,\n",
       "          877,    346,   1284,    348,   1467,   1169,    619,    643,\n",
       "         1863,    756,  52431,   8805,   4803,   3267,   9736,  49822,\n",
       "         2540,   1231,   1138,    818,    332,    944,   6468,    904,\n",
       "         6413,   1881,    759,   2109,   1245,   2249,   2260,  10251,\n",
       "         1107,   2005,   2973,   2737,   1955,  10408,   6426,   1906,\n",
       "         1095,    414,   1005,   3850,    592,   9451,    244,   3391,\n",
       "         3271,   7178,  38991,   9777,   1482,   1264,    849,   2356,\n",
       "          713,  24829,  22161,   3549,    588,    922,   1282,   9044,\n",
       "          853,   1441,   7404,    398,    905,   1832,   1357,   2729,\n",
       "          253,  12526,    833,   5259,    482,   1189,   1475,   5462,\n",
       "          350,    889,   2001,    530,   8268,    839,    997,   2156,\n",
       "        22337,   2215,   1137,   1048,  75009,   1650,  58964,   8334,\n",
       "          312,   4141,   4345, 123297,   7158,   2191,   1071,   6113,\n",
       "        10604,   3616,   1932,   8420,   3225,    688,  49588,  21038,\n",
       "         1669,    575,    192,    519,  69012,    463,   4183,    476,\n",
       "         3036,   8733,  14399,   2714,   9003,    527,   1861,   1516,\n",
       "         6947,  11658,   7023,  24491,   4621,   1909,    661,    338,\n",
       "         1018,  73410,   1037,   4475,    769,   3733,    834,   9073,\n",
       "         2160,    420,    845,   3443,    585,   7167,   4771,  11771,\n",
       "         3588,   5700,   8394,   4510,   6177,   1589,   1212,    708,\n",
       "         8913,    830,   2038,    468,   2425,    439,  24320,   1289,\n",
       "          466,  17950,   1606,  43375,    673,  12141,    550,   8755,\n",
       "         1576,    489,    633,   3539,    617,   2698,  12386,  16484,\n",
       "          950,   5261,    750,    911,   9234,   4939,    635,   2184,\n",
       "         8754,  11797,    401,   3670,   1423,   1432,    235,   1199,\n",
       "         1077,    690,  11426,  76549,   7628,   3988,   2190,   8788,\n",
       "         2743,   1230,   1934,   1456,   3510,    298,   1214,   2268,\n",
       "         2065,   2438,   3253,  13066,    436,   3902,   1815,    938,\n",
       "         1116, 199575,   4951,   1857,   3134,   1742,   4249,    472,\n",
       "         3425,    396,   2048,   1851,   1920,   1657,   1055,   1597,\n",
       "         1093,    611,   1011,  10920,  11480,   1054,    570,    653,\n",
       "        18904,   1085,   1124,   1200,  14497,    366,   6703,   1867,\n",
       "         1599,   1099,   2094,    682,    445,   2246,   1508,    599,\n",
       "         1553,   1895,   9233,  26193,   4300,   5323,   4045,    400,\n",
       "        39806,    297,   2108,   2024,   1894,   1459,    435,   1819,\n",
       "         2723,   9778,    561,   4707,   1379,   2299,   1135,    233,\n",
       "         5850,  10557,   2251,  10683,   1034,  13511,   4755,    430,\n",
       "         3503,   3875,   6193,   4933,    793,   8176,    684,    555,\n",
       "        17621,   1763,    724,  29340,   1562,   1268,  10746,   3695,\n",
       "         1370,    477,    622,  45015,   7548,   4202,   4051,   1921,\n",
       "         2817,    792,   3372,   3119,  55197,   4913,   1029,    655,\n",
       "         5013,    807,   1158,    657,  38926,   5672,   1067,  24797,\n",
       "          249,   2696,   2838,   1042,  42742,   1006,    859,    994,\n",
       "        14593,    609,   1040,   3337,  10537,   2255,   4522,   1144,\n",
       "        12683,   3865,   1531,   2384,   1566,  11293,   2986,   1127,\n",
       "         3770,    442,    381,  11140,    560,   4282,  49430,   3329,\n",
       "          728,   1478,   1519,    779,   1023,   2070,   3986,    947,\n",
       "         2301,    776,   5287,   1839,   2399,    340,   1327,   2322,\n",
       "          456,   1515,   1111,   5644,   2609,   1377,   2207,    757,\n",
       "         2103,  14621,   5910,  20121,    323,   1069,    832,   5320,\n",
       "         9117,   1588,   5056,    573,   1595,   1178,    474,  27615,\n",
       "         3905,   7487,    719,  14115,  10934,   1565,   1690,    846,\n",
       "         5671,    891,    378,   4670,   1252,   6479,  11176,    928,\n",
       "        21674,   1286,   3775,  10791,   4318,   9100,  28050,   3438,\n",
       "         1319,  22461,    983,   2245,   6230,    745,   5266,    315,\n",
       "         1541,   7693,    881,    857,   1660,   4711,   1326,   4661,\n",
       "       161162,   6682,    300,   1051,   3316,   1776,    781,   5313,\n",
       "        77732,    767,  40026,   1701,    689,    457,   1342,    806,\n",
       "         5542,   6249,   7054,   5269,   7032,   4909,   4795,  39457,\n",
       "          581,    411,   3548,   3932,    974,   2072,   1213,   2369,\n",
       "        51357,   6081,   2140,   7008,    918,    357,   1983,   1823,\n",
       "         4727,   1722,   1957,   1431,   2312,   4712,  26949,  21624,\n",
       "         8526,   1878,   2381,    644,   3744,    808,  12065,   1403,\n",
       "          866,   1820,  14319,   1744,   2146,    717,   2946,   2392,\n",
       "         8542,    510,    993,    512,  20957,   4386,   4589,  32596,\n",
       "         1012,   1098,    543,  15554,   3885, 113442, 205758,    770,\n",
       "         2777,  10477,    467,    600,    369,   1007,   1388,   2393,\n",
       "         6233,    347,   7254,   5446,  17261,   1394,    389,   2762,\n",
       "        10806,  25248,   5763,    605,    709,   2135,   5418,   1103,\n",
       "         2763,   2826,   3396,    820,   1142,   2278,   1663,   1694,\n",
       "          854,  31886,   1929,   6532,  29628,   1136,    955,   5918,\n",
       "         5654,   1572,   4195,   1617,   2442,   2800,  37685,   1752,\n",
       "         5639,  22033,   3068,   7963,   3436,   4123,  13836,   5467,\n",
       "         1584, 172948,   4692,   6352,   5179,    868,    632,    867,\n",
       "          700,  11025,   4844,   3187,   2628, 113190,   1062,    842,\n",
       "          423,   3923,    569,   2441,   2820,   4346,    919,  33611,\n",
       "       104399,    452,   2541,   4179,    649,   8064,   3849,  48211,\n",
       "         3148,   2581,    772,   1914,    553,    951,    642,  21355,\n",
       "        11862,   2398,   5613,   1977,  18931,  11825,  19804,   1233,\n",
       "          373,    831,   4453,   5582,   4740,  13444,   9535,   4281,\n",
       "        10883,   1692,    318,   1376,   1417,  10398,   2914,   1306,\n",
       "         3971,   1919,  16834,    639,  51574,   4474,   1781,  73169,\n",
       "         9229,   3297,   5971,    749,   1272,   2042,   5629,  26904,\n",
       "        10792,    932,   8306,   3976,  23555,    933,   2785,   4109,\n",
       "         1602,    574,   1422,    714,  18122,   7591,   2163,  15066,\n",
       "         1915,  92640,    610,    695,   2023,   6345, 229488,   1956,\n",
       "        65524,   5299,  22536,   2759,    538,   1251,   8664,  49431,\n",
       "          921,   4001,    453,    873,   5390,   3728,   1241,   2151,\n",
       "        49735,   4991,    598,  16008,   2083,  12255,   4983,   1266,\n",
       "          696,   3215,   2558,   7654,   1053,  11499,   8631,   1505,\n",
       "          701,   7272,   1262,   1964,   5843,   2212,   2937,   4972,\n",
       "        13635,   2071,   8014,   2876,   1369,  13616,   1930,   1001,\n",
       "         6998,   1440,    809,   5752,   6396,    409,   7035,    746,\n",
       "        19325,   1948,   1738,   1837,   1799,   1247,  10814,   1890,\n",
       "        17573,  15413,  16501,    636,  17005,    470,   4436,  13046,\n",
       "         7472,  11937,   5846,   6789,   5018,   1129,   8791,   2773,\n",
       "         2467,  76689,   1134,  24205,   3924,  16986,   3852,   1173,\n",
       "         2709,  44315,   1916,   1205,  15075,   5783,   3277,   2647,\n",
       "          659,   1015,  43571,   2767,   9963,  12595,   2794,  10749,\n",
       "         8262,  14946,   1371,    374,   6020,  15049,   3987,   1793,\n",
       "         2481,   1484,   1513,    531,  15197,   1385,    596,    572,\n",
       "         3403,   8814,   1355,   2906,   5537,   4980, 275912,   1464,\n",
       "        13185,    956,  50882,    814,   1756,   1554,   1502,   1057,\n",
       "         3351,    360,   1413,   2259,   3882,   1105,  15852,    959,\n",
       "         3322,   1197, 894336,   9238,   1185,    565,    969,   3535,\n",
       "         1498,    856,    380,   9782,   3393,   4858,   7242,   1257,\n",
       "         2385,   2834,  74422,  18533,  10229,   8571,   3213,   9290,\n",
       "         2013,   2688,   2755,   1886,  24531,   2643,   7713,   3668,\n",
       "         2235,  13194,   3091,  10190,    729,   2296,    763,   3993,\n",
       "         1517,   1871,  29333,   2054,   1749,   7661,   5509,   2655,\n",
       "         5291,   1693,   1499,   2313,    799,   6825,   3570,    566,\n",
       "          879,   8723,   3465,   1996,   1634,   2187,   3003,   9428,\n",
       "          980,   5405,   6859,   3204,    620,   2527,   6569,    835,\n",
       "        14772,    613,  72760,  23813,   2856,  83925,   7130,  13368,\n",
       "         1943,    606,  33990,    675,   2325,   2574,   1911,    601,\n",
       "        21008,  13217,   2424,   1386,   1293,   1503,   2873,  19673,\n",
       "         6902,   3776,   1076,  44391,   4709,   3142,   2287,   7445,\n",
       "         3012,   5940,   2174,  22352,    819,   1191,   2977,   2480,\n",
       "         6103,   6578,   1274,  40066,   4549,   1030,   3317,    693,\n",
       "        40082,   3096,   3837,    912,   2701,   1270,   2053,   4216,\n",
       "         1535,   1510,   4931,   2699,  33582,   5244,   3800,    626,\n",
       "         1328,   1775,   3694,  18688,   1450,  11295,    914,   6818,\n",
       "         2518,    801,   7070,   1070,    931,    979,    536,  15006,\n",
       "         4705,   1768,   1581,   2553,   1465,   6605,   2610,   3547,\n",
       "       261311,   3490,   1518,  45185,   1207,   1032,  13456,   9899,\n",
       "         5176,  30179,   8259,   1681,   3826,   2857,   1468,  10112,\n",
       "         6429,   1858,  22223,   2426,   2559,   3947,   6301,   1869,\n",
       "         3430,  12587,   7705,   2105,    897,   1520,  17924,    518,\n",
       "         6907,   2389,   4344,    999,   2503,   4866,   1211,   1770,\n",
       "        13390,    654,    726,    703,    715,   2314,   1833,   1276,\n",
       "         2976,   1491,   9348,  58387,   1195,   8396,   1396,  20925,\n",
       "         1171,   2912,   4938,    692,  24153,   2675,  11600,   5139,\n",
       "          658,   3411,   2091,  11580,    878,  11553,  51830,  10122,\n",
       "         2597,   3112,   2277,    481,   5579,   5616,   2886,    965,\n",
       "          794,   5229,  26967,   1636,   5980,   3477,   2803,  26510,\n",
       "        18687,   3450,   1683,   1430,   3072,   2127,   3903,  15028,\n",
       "         3936,   1804,  18412,   1010,   2712,   5391,  66057,  25608,\n",
       "         5583,   3011,  38544,   4117,   4283,   4753,  22950,   4869,\n",
       "         1228,   8946,   3437,   6285,    680,  13330, 126553,   5128,\n",
       "         2100,   2808,   6291,   2531,   1891,    515,   3004,   9624,\n",
       "         1148,   1039,   8073,   2352,   1677,   3995,   2668,   2265,\n",
       "         4339,   4635,   1153,   1616,   2846,   1190,   2128,   2807,\n",
       "        28662,  24385,    668,   4047,   1668,  28705,    860,   3819,\n",
       "         3606,   2173,   8736,  13622,   2239,    488,    771,  11210,\n",
       "         2862,   2772,  25905,   1684,   9981,   6263,   1406,   1853,\n",
       "        22852,  13550,   3953,  15048,    674,   3021,    949,  40702,\n",
       "         5154,   1155,  11885,    540,   2689,   1579,   4391, 351187,\n",
       "         2534,  11566,   2221,   2348,  10405,   4069,   1050,  14406,\n",
       "         4552,    943,   4742,    526,   8879,  36521,   8511,   2530,\n",
       "         1830,   1184,  73408,   1824,   2593,   1201,  14638,   8853,\n",
       "        19427,   2477,   2445,  15071,   3736,   4783,  12272,   1056,\n",
       "         6656,  38913,   2967,   5878,   1112,   1249,   3921,   1907,\n",
       "         2062,   4689,   1787,  84087,   2514,  13994,   4829,   7509,\n",
       "         7259,   2217,   5080,    851,   9795,   8694,  13549,    710,\n",
       "         2751,   7195,   5067,  11859,   3970,   1333,   3464,    862,\n",
       "         2376,    672,   1365,  18909,  14070,   1550,  19134,   1753,\n",
       "         5640,  53259,   3530,  23680,   2715,  28998,    847,   2657,\n",
       "         1021,  17172,  24296,   3008,   5994,   1875,   4798,    735,\n",
       "          892,   6992,   2584,   2835,   1224,   2999,    973,   1900,\n",
       "         9287,   3824,   2638,   2044,   7097,    817,   7128,   4816,\n",
       "         3693,    341,   6130,   4929,    823,  10419,   8455,   1295,\n",
       "         7521,  21904,   1244,   4340,   7298,  28048,  23557,   1571,\n",
       "         6660,  48292,   4877,  34442,   2014,  10426,   2309,   4113,\n",
       "         3604,   1941,   1695,    520,   4623,  12901,  29746,   4928,\n",
       "        12142,   2848,   4126,   7828,   1290,   2949,  11638,   1648,\n",
       "         1927,   1209,  11393,   1358,   2286,    982,   2050,   1301,\n",
       "         5824,   1627,   1978,   1170,   5096,   1104,   1731,   3517,\n",
       "         1643,  15271,   1558,   9273,   9783,   1133,   1109,   2216,\n",
       "         2047,   7948,   1675,    765,   1060,   8940,  34672,  12410,\n",
       "         2331,    986,   1661,   3649,   3181,   6461,  18976,   1176,\n",
       "          946,   1203,    872,   1984,   1800,   7772,   2629,   2861,\n",
       "         7911,   2546,   4302,   2073,   5669,   1748,   3492,   6004,\n",
       "        15584,   1600,   2074,  28124,   2361,   1772,  11308,   2732,\n",
       "        11662,   4175,   2607,  16546,  13945,   5202,   7967,    968,\n",
       "        11768,    991,  12903,   2253,  12585,   2061,   5865,    774,\n",
       "         8078,   2214,   1089,  15913,  22484,  17042,   2119,  48588,\n",
       "        17051,   4579,   1654,   4948, 106128,    925,   2395,  99537,\n",
       "         2003,  57938,   3920,   3064,  11954,   6297,   1632,  19252,\n",
       "         1556,  29858,   2363,  32628,  13680,   2454,   5870,   4078,\n",
       "          874,   2845,   3762,   1641,    629,   2579,   2226,   8200,\n",
       "        12571,   1364,   1073,   1609,   1564,   1821,    760,   1179,\n",
       "         1765,  10223,  26196,   5774,   6398,   6181,   1563,  61263,\n",
       "        15351,   4410,   2761,    927,  16540,   1046,   4061,   1747,\n",
       "         6499,   2039,   1905,  74793,   3726,   3377,    885,   2990,\n",
       "         5017,   3017,   1479,  18524,  67444,   2564,   1876,  28969,\n",
       "         2203,   2979,    768,  13517,   1280,  18471,   2405,   2198,\n",
       "         8321,   1375,  27533, 105140,  10446,   5734,  10546,   3891,\n",
       "         1524,   1447,  12002,   3050,  34723,  22205,  20418,   5975,\n",
       "         4184,    786,   1338,   8550,   2006,  21458,   3853,   1341,\n",
       "         1745,  12447,   4636,    387,   3288,   1397,   1096,   3542,\n",
       "         2702,  11093,   4458,   6896,   3255,   2232,   4211,  35428,\n",
       "        13993,   1219,   1889,   3575,   7102,   5203,   4646,   3156,\n",
       "         2110,   3167,   2790,   2126, 165617,   1335,   3675,   2972,\n",
       "         6323,    744,   8845,   3344,   1903,   1714,  31663,   1457,\n",
       "         2745,    754,   8314,   1933,   1910,   3404,  18433,   5892,\n",
       "        11019,   1497,   2178,    975,    961,   1831,   7483,   2008,\n",
       "         2276,   1802,    903,   1734,   4432,   4271,   2606,    821,\n",
       "         1253,   5548,   1314,   9538,   2645,  55387,  45536,  21461,\n",
       "         4605,  16829,   2324, 152301,   1014,  18556,  10947,  13007,\n",
       "         4988,  10682,   1372,   3030,   5961,    567,   1321,   1557,\n",
       "        11950,   2018,    884,   1628,   1186,   2305,  19102,   6186,\n",
       "         2616,  23723,   2795,   6526,  12812,   4304,   2220,   2017,\n",
       "         1716,   1180,   3046,    603,   2542,    978,   2357,   4762,\n",
       "         3801,   1130,   7525,   2443,    882,   4950,    813,   1849,\n",
       "          798,   5071,   3341,   1812,   4693,   1304,   1119,   2123,\n",
       "         2145,   3611,   8470,   1644,   2475,  11616,   4293,   4558,\n",
       "        17728,   2176,   1664,   3967,    844,  13929,   6205,  13747,\n",
       "         2086,    796,   4467,  64195,   3093,   5574,   1297,   2774,\n",
       "         1655,  13363,   1674,   7183,   1317,   2586,   6707,    802,\n",
       "         4097,  23977,  23116,  14083,   2458,   1359,   1912,   1273,\n",
       "         6839,   5178,   9615,   3171,   2600,   1177,   2528,  27030,\n",
       "         1999,  53247,   4521,  11621,   1687,   1514,   6088,    848,\n",
       "         3871,  38690,   4820,  20587,   1923,  16102])"
      ]
     },
     "execution_count": 208,
     "metadata": {},
     "output_type": "execute_result"
    }
   ],
   "source": [
    "df_movie[\"Votes\"].unique()"
   ]
  },
  {
   "cell_type": "markdown",
   "metadata": {},
   "source": [
    "#### Genre column"
   ]
  },
  {
   "cell_type": "code",
   "execution_count": 209,
   "metadata": {},
   "outputs": [
    {
     "data": {
      "text/plain": [
       "array(['Comedy, Musical, Romance', nan, 'Comedy, Drama, Family',\n",
       "       'Thriller', 'Drama', 'Biography, Drama, History', 'Action',\n",
       "       'Comedy', 'Short, Music', 'Biography, History', 'Action, Thriller',\n",
       "       'Comedy, Drama, Romance', 'Crime, Drama, Romance', 'Documentary',\n",
       "       'Romance', 'Horror', 'Action, Crime, Musical', 'Family, Romance',\n",
       "       'Action, Crime, Drama', 'Drama, Romance', 'Comedy, Drama',\n",
       "       'Action, Comedy, Fantasy', 'Musical', 'Drama, Musical',\n",
       "       'Short, Drama, Thriller', 'Action, Comedy, Mystery',\n",
       "       'Musical, Romance', 'Action, Comedy, Drama',\n",
       "       'Drama, Family, Fantasy', 'Action, Comedy',\n",
       "       'Action, Drama, Thriller', 'Drama, Musical, Romance',\n",
       "       'Action, Romance', 'Action, Drama', 'Fantasy', 'Short, Thriller',\n",
       "       'Comedy, Thriller', 'Drama, Romance, Thriller', 'Crime, Drama',\n",
       "       'Comedy, Romance', 'Drama, Family, Musical', 'Drama, Family',\n",
       "       'Crime, Mystery, Thriller', 'Action, Crime',\n",
       "       'Drama, Family, Mystery', 'Animation, Drama, Musical',\n",
       "       'Short, Drama', 'Drama, Horror', 'Drama, Thriller',\n",
       "       'Action, Adventure, Comedy', 'History', 'Drama, History',\n",
       "       'Comedy, Crime, Mystery', 'Documentary, Music', 'Biography',\n",
       "       'Biography, Drama, Sport', 'Short, Comedy',\n",
       "       'Drama, Fantasy, Horror', 'Family', 'Family, Drama',\n",
       "       'Action, Adventure, Thriller', 'Short, Family',\n",
       "       'Crime, Drama, Mystery', 'Documentary, Short, Family',\n",
       "       'Adventure, Fantasy', 'Adventure, Thriller', 'Musical, Action',\n",
       "       'Short, Horror', 'Short, Fantasy', 'Action, Drama, Romance',\n",
       "       'Drama, Sport', 'Action, Drama, Sci-Fi', 'Action, Crime, Thriller',\n",
       "       'Action, Comedy, Crime', 'Crime', 'Action, Comedy, Family',\n",
       "       'Action, Adventure, Drama', 'Action, Comedy, Romance',\n",
       "       'Drama, Mystery, Thriller', 'Documentary, Short',\n",
       "       'Biography, Comedy, Drama', 'Comedy, Drama, Musical',\n",
       "       'Biography, Drama, Thriller', 'Comedy, Fantasy',\n",
       "       'Comedy, Crime, Drama', 'Drama, Family, History',\n",
       "       'Action, Drama, Family', 'Animation, Action', 'Biography, Drama',\n",
       "       'Action, Crime, Mystery', 'Horror, Thriller', 'Horror, Mystery',\n",
       "       'Drama, Music, Romance', 'Animation, Drama, Romance',\n",
       "       'Action, Adventure, Sci-Fi', 'Short, Mystery',\n",
       "       'Crime, Romance, Thriller', 'Comedy, Musical', 'Drama, Fantasy',\n",
       "       'Musical, Drama', 'War', 'Action, Drama, History', 'Music',\n",
       "       'Short, Romance', 'Documentary, Short, Drama',\n",
       "       'Short, Comedy, Drama', 'Musical, Drama, Romance',\n",
       "       'Action, Fantasy', 'Animation, Short', 'Crime, Drama, Thriller',\n",
       "       'Short, Crime, Drama', 'Comedy, Crime, Romance',\n",
       "       'Animation, Drama, Family', 'Comedy, Drama, Sport',\n",
       "       'Animation, Adventure, Fantasy', 'Mystery', 'Short',\n",
       "       'Drama, Family, Romance', 'Drama, Mystery',\n",
       "       'Comedy, Drama, Mystery', 'Action, Drama, Sport',\n",
       "       'Crime, Thriller', 'Documentary, War',\n",
       "       'Mystery, Romance, Thriller', 'Music, Romance',\n",
       "       'Mystery, Musical, Romance', 'Animation, Action, Adventure',\n",
       "       'Short, Adventure', 'Short, Musical', 'Adventure, Drama, Mystery',\n",
       "       'Drama, Sport, Thriller', 'Adventure, Fantasy, Mystery',\n",
       "       'Drama, Fantasy, Mystery', 'Sci-Fi, Thriller', 'Comedy, Horror',\n",
       "       'Drama, Mystery, Romance', 'Animation, Adventure, Biography',\n",
       "       'Family, Thriller', 'Horror, Mystery, Romance',\n",
       "       'Drama, History, War', 'Reality-TV', 'Animation',\n",
       "       'Documentary, Adventure, Drama', 'Musical, Drama, Fantasy',\n",
       "       'Short, Action', 'Drama, Horror, Thriller',\n",
       "       'Adventure, Crime, Thriller', 'Action, Adventure, Fantasy',\n",
       "       'Action, Drama, Fantasy', 'Drama, Music', 'Short, Drama, Fantasy',\n",
       "       'Action, Musical, Romance', 'Family, Mystery',\n",
       "       'Action, Adventure, Crime', 'Comedy, Family, Fantasy',\n",
       "       'Action, Adventure', 'Comedy, Family, Romance',\n",
       "       'Animation, Comedy, Drama', 'Adventure', 'Action, Drama, Mystery',\n",
       "       'Comedy, Romance, Thriller', 'Mystery, Thriller',\n",
       "       'Fantasy, Thriller', 'Short, Drama, Mystery',\n",
       "       'Short, Drama, Romance', 'Short, Drama, Family',\n",
       "       'Comedy, Family, Thriller', 'Documentary, History',\n",
       "       'Adventure, Comedy, Drama', 'Drama, Action, Romance',\n",
       "       'Action, Sci-Fi, Thriller', 'Sci-Fi', 'Crime, Drama, Family',\n",
       "       'Romance, Action, Crime', 'Romance, Thriller',\n",
       "       'Drama, Romance, War', 'Short, Drama, Horror',\n",
       "       'Action, Comedy, Musical', 'Adventure, Family, Fantasy',\n",
       "       'Action, Romance, Thriller', 'Drama, War', 'Adventure, Romance',\n",
       "       'Action, Fantasy, Sci-Fi', 'Action, Drama, War',\n",
       "       'Adventure, Comedy, Family', 'Comedy, Family',\n",
       "       'Action, Comedy, Horror', 'Short, Crime, Mystery',\n",
       "       'Music, Talk-Show', 'Drama, Fantasy, Musical',\n",
       "       'Horror, Mystery, Thriller', 'Comedy, Talk-Show',\n",
       "       'Documentary, Family', 'Fantasy, Horror',\n",
       "       'Adventure, Drama, Family', 'Action, Drama, Musical',\n",
       "       'Drama, History, Romance', 'Action, Adventure, Family',\n",
       "       'Action, Biography, History', 'Comedy, Drama, Fantasy',\n",
       "       'Short, Action, Crime', 'Action, Family, Drama',\n",
       "       'Adventure, Comedy, Crime', 'Adventure, Drama, Romance',\n",
       "       'Adventure, Comedy, Musical', 'Drama, Horror, Mystery',\n",
       "       'Action, Mystery, Thriller', 'Comedy, Fantasy, Horror',\n",
       "       'Documentary, Drama', 'Comedy, Family, Musical',\n",
       "       'Biography, Drama, News', 'Crime, Mystery', 'Sport',\n",
       "       'Fantasy, Musical, Romance', 'Documentary, Short, Sport',\n",
       "       'Action, Biography, Drama', 'Talk-Show', 'Family, War',\n",
       "       'Game-Show, Music, Reality-TV', 'Comedy, Mystery, Romance',\n",
       "       'Short, History', 'Family, Musical', 'Comedy, Crime',\n",
       "       'Adventure, History, Thriller', 'Comedy, Crime, Musical',\n",
       "       'Comedy, Sci-Fi', 'Action, Romance, Drama',\n",
       "       'Animation, Adventure, Family', 'Biography, Family, Musical',\n",
       "       'Animation, Family, Musical', 'Adventure, Horror, Mystery',\n",
       "       'Comedy, Mystery, Thriller', 'Reality-TV, Sport',\n",
       "       'Family, Musical, Romance', 'Comedy, Drama, Thriller',\n",
       "       'Musical, Drama, Family', 'Adventure, Drama, Fantasy',\n",
       "       'Biography, Drama, Family', 'Action, Biography, Crime',\n",
       "       'Short, Biography', 'Action, Family', 'Drama, Fantasy, History',\n",
       "       'Adventure, Horror, Thriller', 'Action, Romance, Sport',\n",
       "       'Fantasy, History, Musical', 'Action, History', 'Action, Sci-Fi',\n",
       "       'Drama, Family, Music', 'Comedy, Drama, Music', 'Short, News',\n",
       "       'Action, Crime, Family', 'Drama, Fantasy, Sci-Fi',\n",
       "       'Short, Comedy, Thriller', 'Drama, Romance, Musical',\n",
       "       'Adventure, Comedy', 'Action, Family, Thriller', 'Crime, Romance',\n",
       "       'Comedy, Mystery', 'Short, Comedy, Mystery',\n",
       "       'Action, Musical, Thriller', 'Drama, Fantasy, Romance',\n",
       "       'Comedy, Fantasy, Romance', 'Crime, Drama, Fantasy',\n",
       "       'Adventure, Fantasy, Horror', 'Drama, Action, Crime',\n",
       "       'Short, Mystery, Romance', 'Drama, Musical, Mystery',\n",
       "       'Drama, Family, Sport', 'Drama, Fantasy, Thriller',\n",
       "       'Action, Comedy, Thriller', 'Crime, Drama, Musical',\n",
       "       'Animation, Short, Family', 'Game-Show', 'Romance, Drama, Family',\n",
       "       'Animation, Biography, Drama', 'Comedy, Horror, Mystery',\n",
       "       'Animation, Comedy, Family', 'Comedy, Musical, News',\n",
       "       'Animation, Family', 'Musical, Romance, Drama',\n",
       "       'Documentary, Drama, Family', 'Action, Biography, Thriller',\n",
       "       'Romance, Drama', 'Action, Drama, Horror',\n",
       "       'Romance, Thriller, Mystery', 'Action, Crime, Romance',\n",
       "       'Action, Crime, Horror', 'Drama, Romance, Family',\n",
       "       'Short, Comedy, Horror', 'Adventure, Fantasy, Thriller',\n",
       "       'Action, Crime, Sci-Fi', 'Short, Crime, Fantasy',\n",
       "       'Drama, Family, Thriller', 'Action, Romance, War', 'Drama, Short',\n",
       "       'Action, Drama, Music', 'Adventure, Drama', 'Short, War',\n",
       "       'Short, Music, Romance', 'Adventure, Comedy, Fantasy',\n",
       "       'Short, Reality-TV', 'Musical, Mystery, Thriller',\n",
       "       'Animation, Adventure, Comedy', 'Mystery, Sci-Fi',\n",
       "       'Fantasy, History', 'Action, Adventure, Musical',\n",
       "       'Adventure, Mystery', 'Adventure, Family',\n",
       "       'Adventure, Drama, Sci-Fi', 'Musical, Family, Drama',\n",
       "       'Fantasy, Horror, Thriller', 'Short, Adventure, Drama',\n",
       "       'Short, Crime', 'Action, Adventure, Horror',\n",
       "       'Biography, Drama, Mystery', 'Comedy, Romance, Sci-Fi',\n",
       "       'Action, Mystery', 'Short, Drama, History',\n",
       "       'Short, Adventure, Family', 'Action, Mystery, Sci-Fi',\n",
       "       'History, Musical, Romance', 'News', 'Crime, Drama, History',\n",
       "       'Short, Mystery, Thriller', 'Game-Show, Reality-TV',\n",
       "       'Animation, Adventure, Drama', 'Drama, Adventure, Action',\n",
       "       'Action, Family, Mystery', 'Romance, War', 'Drama, Thriller, War',\n",
       "       'Short, Fantasy, War', 'Short, Action, Adventure',\n",
       "       'Adventure, Romance, Thriller', 'Action, Crime, History',\n",
       "       'Short, Sci-Fi', 'Drama, History, Musical',\n",
       "       'Adventure, Crime, Family', 'Short, Action, Thriller',\n",
       "       'Drama, Crime, Family', 'Musical, Thriller',\n",
       "       'Adventure, Fantasy, Musical', 'Musical, Comedy, Drama',\n",
       "       'Horror, Romance', 'Drama, Documentary, Mystery',\n",
       "       'Action, Biography', 'Adventure, Biography, Drama',\n",
       "       'Short, Horror, Drama', 'Drama, Romance, Sport',\n",
       "       'Drama, Family, Comedy', 'Adventure, Crime, Drama',\n",
       "       'Comedy, Short', 'Short, Drama, Music',\n",
       "       'Documentary, Short, Adventure', 'Drama, Comedy, Family',\n",
       "       'Drama, Music, Musical', 'Biography, Musical',\n",
       "       'Action, Family, Sport', 'Biography, Drama, Musical',\n",
       "       'Thriller, Action', 'Biography, Family', 'Fantasy, Drama',\n",
       "       'Musical, Action, Drama', 'Animation, Action, Sci-Fi',\n",
       "       'Action, Sport', 'Fantasy, Musical', 'Family, Drama, Thriller',\n",
       "       'Comedy, Crime, Horror', 'Biography, Fantasy',\n",
       "       'Drama, Family, Horror', 'Mystery, Romance, Musical',\n",
       "       'Action, Adventure, Mystery', 'Adventure, Drama, Thriller',\n",
       "       'Crime, Drama, Horror', 'Drama, History, Thriller',\n",
       "       'Family, Drama, Musical', 'Drama, Sci-Fi', 'Comedy, Drama, Horror',\n",
       "       'Animation, Short, Mystery', 'Comedy, Crime, Family',\n",
       "       'Comedy, Romance, Drama', 'Documentary, Biography',\n",
       "       'Romance, Comedy, Drama', 'Comedy, Horror, Thriller',\n",
       "       'Family, Fantasy, Romance', 'Crime, Family, Drama',\n",
       "       'Drama, Comedy', 'Biography, Drama, Romance',\n",
       "       'Comedy, Crime, Thriller', 'Action, Romance, Western',\n",
       "       'Horror, War', 'Drama, Fantasy, War', 'Animation, Adventure',\n",
       "       'Action, Romance, Comedy', 'Drama, Horror, Romance',\n",
       "       'Action, Adventure, Romance', 'Action, Family, Romance',\n",
       "       'Short, Adventure, Comedy', 'Short, Biography, Family',\n",
       "       'Crime, Horror, Mystery', 'History, Romance, Thriller',\n",
       "       'Action, Horror, Thriller', 'Documentary, Short, News',\n",
       "       'Short, Family, Music', 'Drama, Action, Musical',\n",
       "       'Adventure, Mystery, Thriller', 'Fantasy, Sci-Fi',\n",
       "       'Drama, Crime, Mystery', 'Action, History, Romance',\n",
       "       'Family, Drama, Action', 'Adventure, History, War',\n",
       "       'Drama, Musical, Family', 'Short, Music, Musical',\n",
       "       'Documentary, Crime, News', 'Drama, History, Mystery',\n",
       "       'Thriller, Mystery', 'Comedy, Drama, Sci-Fi', 'History, Romance',\n",
       "       'Action, Fantasy, Horror', 'Drama, Action',\n",
       "       'Adventure, Comedy, Romance', 'Crime, Mystery, Romance',\n",
       "       'Adventure, Drama, History', 'Adventure, Drama, Musical',\n",
       "       'Adventure, Sci-Fi', 'Comedy, History', 'Fantasy, Romance',\n",
       "       'Biography, Crime, Drama', 'Documentary, Drama, News',\n",
       "       'Biography, History, Romance', 'Documentary, Adventure, History',\n",
       "       'Comedy, Horror, Music', 'Horror, Romance, Thriller',\n",
       "       'Musical, Romance, Thriller', 'Crime, Action', 'Comedy, War',\n",
       "       'Drama, Action, Horror', 'Documentary, Musical',\n",
       "       'Crime, Drama, Music', 'Documentary, Adventure',\n",
       "       'Short, Thriller, Drama', 'Action, Fantasy, Thriller',\n",
       "       'Documentary, Short, Music', 'Documentary, Short, Biography',\n",
       "       'Adventure, Fantasy, History', 'Adventure, Sport',\n",
       "       'Comedy, Drama, History', 'Fantasy, Music, Romance',\n",
       "       'Biography, Drama, Music', 'Short, Comedy, Sci-Fi',\n",
       "       'Short, Horror, Mystery', 'Music, Musical',\n",
       "       'Action, Thriller, War', 'Short, Fantasy, Horror',\n",
       "       'Adventure, Family, Mystery', 'Fantasy, Mystery, Thriller',\n",
       "       'Drama, Family, War', 'Adventure, Biography, History',\n",
       "       'Action, Mystery, Romance', 'Documentary, Short, Musical',\n",
       "       'History, War', 'Action, Fantasy, Musical', 'Action, Musical',\n",
       "       'Short, Fantasy, Romance', 'Comedy, Romance, Musical',\n",
       "       'Short, Drama, War', 'Drama, Family, Action',\n",
       "       'Action, Horror, Sci-Fi', 'Animation, Biography',\n",
       "       'Animation, Drama, History', 'Crime, Drama, Sport',\n",
       "       'Family, Music, Romance', 'Comedy, Musical, Mystery',\n",
       "       'Musical, Drama, Comedy', 'Comedy, Action', 'Comedy, Music',\n",
       "       'Short, Documentary', 'Adventure, History, Romance',\n",
       "       'Comedy, Sci-Fi, Thriller', 'Documentary, History, War',\n",
       "       'Short, Crime, Thriller', 'Adventure, Crime, Romance',\n",
       "       'Documentary, Short, Action', 'Action, Drama, Western',\n",
       "       'Fantasy, Horror, Romance', 'Mystery, Romance',\n",
       "       'Musical, Comedy, Romance', 'Documentary, Biography, News',\n",
       "       'Action, Drama, Adventure', 'Thriller, Musical, Mystery',\n",
       "       'Fantasy, Mystery', 'Documentary, Short, War',\n",
       "       'Biography, Crime, Thriller', 'Short, Talk-Show',\n",
       "       'Documentary, Sci-Fi', 'Animation, Adventure, History',\n",
       "       'Action, Fantasy, Romance', 'Biography, History, War',\n",
       "       'Horror, Romance, Sci-Fi', 'Drama, Mystery, Sci-Fi',\n",
       "       'Comedy, Romance, Sport', 'Fantasy, Musical, Mystery',\n",
       "       'Romance, Musical, Drama', 'Comedy, Music, Romance',\n",
       "       'Drama, Musical, Thriller', 'Action, Family, Musical',\n",
       "       'Action, Horror, Romance', 'Horror, Sci-Fi, Thriller',\n",
       "       'Musical, Mystery, Romance', 'Documentary, Drama, History',\n",
       "       'Comedy, Fantasy, Musical', 'Short, Action, Comedy',\n",
       "       'Crime, Musical, Thriller', 'Action, Drama, Crime',\n",
       "       'Short, Biography, Drama', 'Short, Crime, Family',\n",
       "       'Drama, Action, Comedy', 'Musical, Adventure, Drama',\n",
       "       'Biography, Drama, War', 'Action, Thriller, Western',\n",
       "       'Action, Drama, Comedy', 'Fantasy, Horror, Mystery',\n",
       "       'Family, Comedy, Drama', 'Crime, Horror, Thriller',\n",
       "       'Short, Musical, Romance', 'Horror, Sci-Fi', 'Action, War',\n",
       "       'Comedy, Family, Sci-Fi', 'Documentary, Family, Musical',\n",
       "       'Comedy, Sport', 'Biography, Music', 'Crime, Drama, War',\n",
       "       'Documentary, Comedy', 'Animation, Action, Comedy',\n",
       "       'Drama, Sci-Fi, Thriller', 'Drama, Comedy, Action',\n",
       "       'Family, Musical, Sport', 'Adventure, Horror',\n",
       "       'Documentary, Biography, Family', 'Short, Fantasy, Mystery',\n",
       "       'Adventure, Fantasy, Romance', 'Short, Drama, Musical',\n",
       "       'Horror, Crime, Thriller', 'Romance, Thriller, War',\n",
       "       'Comedy, Horror, Romance', 'Documentary, Sport',\n",
       "       'Animation, History', 'Short, Romance, Thriller',\n",
       "       'Comedy, Musical, Family', 'Music, Reality-TV', 'Romance, Action',\n",
       "       'Animation, Action, Crime', 'Animation, Short, Action',\n",
       "       'Musical, Mystery', 'Short, Sport', 'Action, History, War',\n",
       "       'Drama, Horror, Musical', 'Short, Romance, War',\n",
       "       'Comedy, Drama, Action', 'Action, Horror, Mystery',\n",
       "       'Adventure, Musical, Romance', 'Musical, Romance, Sport',\n",
       "       'Action, Biography, Musical', 'Documentary, News',\n",
       "       'Adventure, Horror, Romance', 'Short, Comedy, Family',\n",
       "       'Musical, Thriller, Mystery', 'Fantasy, Musical, Drama',\n",
       "       'Action, Musical, Sci-Fi', 'Fantasy, Mystery, Romance',\n",
       "       'Drama, History, Music', 'Documentary, Biography, Drama',\n",
       "       'Short, Music, Sport', 'Mystery, Sci-Fi, Thriller',\n",
       "       'Adventure, Comedy, Horror', 'Crime, Fantasy, Horror',\n",
       "       'Animation, Short, Thriller', 'Animation, Family, History',\n",
       "       'Action, Comedy, War', 'Documentary, Biography, War',\n",
       "       'Adventure, Comedy, Sci-Fi', 'Action, Adventure, History',\n",
       "       'Adventure, Crime', 'Animation, Short, Comedy',\n",
       "       'Short, Drama, Sci-Fi', 'Drama, Comedy, Romance',\n",
       "       'Family, Music, Musical', 'Documentary, Crime',\n",
       "       'Action, Fantasy, Mystery', 'Action, History, Thriller',\n",
       "       'Musical, Family, Romance', 'Animation, Action, Drama',\n",
       "       'Musical, Mystery, Drama', 'Reality-TV, Romance', 'Crime, Family',\n",
       "       'Adventure, Drama, Music', 'Documentary, Short, History',\n",
       "       'Fantasy, Horror, Sci-Fi', 'Short, Mystery, Sci-Fi',\n",
       "       'Action, Western', 'Musical, Drama, Action',\n",
       "       'Action, Thriller, Romance', 'Crime, Game-Show',\n",
       "       'Biography, History, Thriller', 'News, Reality-TV, Talk-Show',\n",
       "       'Romance, Family, Drama', 'Musical, Drama, Crime',\n",
       "       'Biography, Music, Romance', 'Animation, Comedy, Horror',\n",
       "       'Comedy, Musical, Drama', 'Musical, Fantasy',\n",
       "       'Short, Fantasy, Music', 'Thriller, Mystery, Family',\n",
       "       'Crime, Fantasy, Romance', 'Romance, Musical, Action',\n",
       "       'Drama, Action, Family', 'Documentary, Biography, History',\n",
       "       'Short, Adventure, Musical', 'Horror, Musical',\n",
       "       'Comedy, Musical, Action', 'Drama, Family, Adventure',\n",
       "       'Action, Adventure, Western', 'Family, History, Musical',\n",
       "       'Short, Biography, Comedy', 'Animation, Short, Sci-Fi',\n",
       "       'Biography, Family, History', 'Adventure, Western',\n",
       "       'Romance, Musical, Comedy', 'Short, Comedy, Romance',\n",
       "       'Animation, Short, Music', 'Comedy, Horror, Musical',\n",
       "       'Action, Drama, News', 'Action, Thriller, Mystery',\n",
       "       'Horror, Musical, Romance', 'Adventure, Crime, Mystery',\n",
       "       'Action, Biography, Family', 'Music, Sport',\n",
       "       'Action, Musical, War', 'Family, Fantasy',\n",
       "       'Short, Fantasy, Thriller', 'Documentary, Drama, Thriller',\n",
       "       'Drama, Thriller, Action', 'Adventure, Crime, Horror',\n",
       "       'Musical, Drama, Horror', 'Action, Drama, Game-Show',\n",
       "       'Action, Fantasy, History', 'Action, Comedy, Sci-Fi',\n",
       "       'Documentary, Biography, Crime', 'Romance, Comedy',\n",
       "       'Music, Mystery', 'Comedy, Sport, Thriller',\n",
       "       'Musical, Action, Comedy', 'Animation, Action, War',\n",
       "       'Romance, Action, Drama', 'Crime, Musical, Mystery',\n",
       "       'Family, Drama, Romance', 'Family, Game-Show',\n",
       "       'Romance, Sci-Fi, Thriller', 'Drama, History, Sport',\n",
       "       'Family, Romance, Drama', 'Animation, Short, History',\n",
       "       'Action, Comedy, Music', 'Drama, Musical, Sport',\n",
       "       'Short, Action, Drama', 'Crime, Fantasy, Mystery',\n",
       "       'Crime, Drama, Reality-TV', 'Short, Musical, Thriller',\n",
       "       'Animation, Documentary, Short', 'Family, Musical, Comedy',\n",
       "       'Animation, Drama, Fantasy', 'Action, Music', 'Drama, Crime',\n",
       "       'Romance, Sport', 'History, Music', 'Adventure, Musical',\n",
       "       'Action, History, Musical', 'Family, Comedy', 'Animation, Drama',\n",
       "       'Short, Comedy, Crime', 'Action, Romance, Sci-Fi',\n",
       "       'Documentary, Biography, Music', 'Romance, Drama, Action',\n",
       "       'Crime, Musical, Romance', 'Musical, Action, Thriller',\n",
       "       'Action, Thriller, Crime', 'Documentary, History, Sport',\n",
       "       'Action, Adventure, Biography', 'Short, Horror, Thriller',\n",
       "       'Fantasy, Thriller, Action', 'Family, Drama, Comedy',\n",
       "       'Animation, Short, Drama', 'News, Talk-Show', 'Biography, Romance',\n",
       "       'Horror, Drama, Mystery', 'Short, Biography, History',\n",
       "       'Short, Romance, Sci-Fi', 'Comedy, Reality-TV',\n",
       "       'Crime, Action, Drama', 'Drama, Adventure', 'Biography, Sport',\n",
       "       'Sci-Fi, Fantasy', 'Family, Romance, Sci-Fi',\n",
       "       'Musical, Action, Crime'], dtype=object)"
      ]
     },
     "execution_count": 209,
     "metadata": {},
     "output_type": "execute_result"
    }
   ],
   "source": [
    "df_movie[\"Genre\"].unique()"
   ]
  },
  {
   "cell_type": "markdown",
   "metadata": {},
   "source": [
    "The genre column has multiple genre values for some rows and unique() is showing all these permutations and combinations as a unique set of value. \n",
    "\n",
    "We can create a separate column with all actual unique genre or we can create a separate row for each genre value for columns that have multiple genres."
   ]
  },
  {
   "cell_type": "markdown",
   "metadata": {},
   "source": [
    "Let's check the actual number of unique genres to decide which route to take."
   ]
  },
  {
   "cell_type": "code",
   "execution_count": 210,
   "metadata": {},
   "outputs": [
    {
     "name": "stdout",
     "output_type": "stream",
     "text": [
      "Total unique genres:  26\n",
      "Unique genres:  {'Romance', 'History', 'Animation', 'Crime', 'Reality-TV', 'Thriller', 'Music', 'Western', 'Comedy', 'Sci-Fi', 'Fantasy', 'War', 'Adventure', 'Drama', 'Sport', 'Talk-Show', 'Biography', 'News', 'Family', 'Game-Show', 'Mystery', 'Horror', 'Musical', 'Action', 'Documentary', 'Short'}\n"
     ]
    }
   ],
   "source": [
    "unique_genres = set()\n",
    "for genres in df_movie[\"Genre\"].unique():\n",
    "    if not genres != genres:\n",
    "        for genre in genres.split(\",\"):\n",
    "            genre = genre.strip()\n",
    "            unique_genres.add(genre)\n",
    "    \n",
    "print(\"Total unique genres: \", len(unique_genres))\n",
    "print(\"Unique genres: \", unique_genres)"
   ]
  },
  {
   "cell_type": "markdown",
   "metadata": {},
   "source": [
    "Since there are 26 unique values creating dummy columns and doing one hot encoding would result is a very sparse dataset or we can instead create a separate row for each unique genre."
   ]
  },
  {
   "cell_type": "markdown",
   "metadata": {},
   "source": [
    "#### Deleting rows with Nan values for Genre column"
   ]
  },
  {
   "cell_type": "code",
   "execution_count": 216,
   "metadata": {},
   "outputs": [
    {
     "data": {
      "text/plain": [
       "np.int64(2517)"
      ]
     },
     "execution_count": 216,
     "metadata": {},
     "output_type": "execute_result"
    }
   ],
   "source": [
    "df_movie.Genre.isna().sum()"
   ]
  },
  {
   "cell_type": "markdown",
   "metadata": {},
   "source": [
    "2517 will be deleted"
   ]
  },
  {
   "cell_type": "code",
   "execution_count": 219,
   "metadata": {},
   "outputs": [
    {
     "name": "stdout",
     "output_type": "stream",
     "text": [
      "Rows before removing nan genre:  42305\n"
     ]
    }
   ],
   "source": [
    "print(\"Rows before removing nan genre: \",df_movie.shape[0])"
   ]
  },
  {
   "cell_type": "code",
   "execution_count": 220,
   "metadata": {},
   "outputs": [],
   "source": [
    "df_movie.dropna(axis=0, subset=[\"Genre\"], inplace=True)"
   ]
  },
  {
   "cell_type": "code",
   "execution_count": 221,
   "metadata": {},
   "outputs": [
    {
     "name": "stdout",
     "output_type": "stream",
     "text": [
      "Rows after removing nan genre:  39788\n"
     ]
    }
   ],
   "source": [
    "print(\"Rows after removing nan genre: \", df_movie.shape[0])"
   ]
  },
  {
   "cell_type": "markdown",
   "metadata": {},
   "source": [
    "Now let's split and explode the dataset"
   ]
  },
  {
   "cell_type": "code",
   "execution_count": 222,
   "metadata": {},
   "outputs": [],
   "source": [
    "df_movie['Genre'] = df_movie['Genre'].str.split(',')"
   ]
  },
  {
   "cell_type": "code",
   "execution_count": 223,
   "metadata": {},
   "outputs": [
    {
     "data": {
      "text/html": [
       "<div>\n",
       "<style scoped>\n",
       "    .dataframe tbody tr th:only-of-type {\n",
       "        vertical-align: middle;\n",
       "    }\n",
       "\n",
       "    .dataframe tbody tr th {\n",
       "        vertical-align: top;\n",
       "    }\n",
       "\n",
       "    .dataframe thead th {\n",
       "        text-align: right;\n",
       "    }\n",
       "</style>\n",
       "<table border=\"1\" class=\"dataframe\">\n",
       "  <thead>\n",
       "    <tr style=\"text-align: right;\">\n",
       "      <th></th>\n",
       "      <th>ID</th>\n",
       "      <th>Movie Name</th>\n",
       "      <th>Year</th>\n",
       "      <th>Timing(min)</th>\n",
       "      <th>Rating(10)</th>\n",
       "      <th>Votes</th>\n",
       "      <th>Genre</th>\n",
       "      <th>Language</th>\n",
       "    </tr>\n",
       "  </thead>\n",
       "  <tbody>\n",
       "    <tr>\n",
       "      <th>31530</th>\n",
       "      <td>tt11855674</td>\n",
       "      <td>Wa Pailwan</td>\n",
       "      <td>2020</td>\n",
       "      <td>158</td>\n",
       "      <td>0.0</td>\n",
       "      <td>0</td>\n",
       "      <td>[Drama]</td>\n",
       "      <td>marathi</td>\n",
       "    </tr>\n",
       "    <tr>\n",
       "      <th>33611</th>\n",
       "      <td>tt8811388</td>\n",
       "      <td>Pinni</td>\n",
       "      <td>1973</td>\n",
       "      <td>130</td>\n",
       "      <td>0.0</td>\n",
       "      <td>0</td>\n",
       "      <td>[Drama]</td>\n",
       "      <td>telugu</td>\n",
       "    </tr>\n",
       "    <tr>\n",
       "      <th>14340</th>\n",
       "      <td>tt10162704</td>\n",
       "      <td>Pick Pocket</td>\n",
       "      <td>1989</td>\n",
       "      <td>0</td>\n",
       "      <td>0.0</td>\n",
       "      <td>0</td>\n",
       "      <td>[Drama]</td>\n",
       "      <td>tamil</td>\n",
       "    </tr>\n",
       "    <tr>\n",
       "      <th>12451</th>\n",
       "      <td>tt10731688</td>\n",
       "      <td>Breed</td>\n",
       "      <td>2020</td>\n",
       "      <td>0</td>\n",
       "      <td>9.7</td>\n",
       "      <td>42</td>\n",
       "      <td>[Drama]</td>\n",
       "      <td>hindi</td>\n",
       "    </tr>\n",
       "    <tr>\n",
       "      <th>2970</th>\n",
       "      <td>tt3696192</td>\n",
       "      <td>Singh Is Bliing</td>\n",
       "      <td>2015</td>\n",
       "      <td>141</td>\n",
       "      <td>5.0</td>\n",
       "      <td>7695</td>\n",
       "      <td>[Action,  Comedy]</td>\n",
       "      <td>hindi</td>\n",
       "    </tr>\n",
       "    <tr>\n",
       "      <th>45327</th>\n",
       "      <td>tt2338151</td>\n",
       "      <td>PK</td>\n",
       "      <td>2014</td>\n",
       "      <td>153</td>\n",
       "      <td>8.1</td>\n",
       "      <td>165617</td>\n",
       "      <td>[Comedy,  Drama,  Musical]</td>\n",
       "      <td>hindi</td>\n",
       "    </tr>\n",
       "    <tr>\n",
       "      <th>19909</th>\n",
       "      <td>tt0298579</td>\n",
       "      <td>Trimurti</td>\n",
       "      <td>1974</td>\n",
       "      <td>0</td>\n",
       "      <td>6.0</td>\n",
       "      <td>20</td>\n",
       "      <td>[Crime,  Drama]</td>\n",
       "      <td>hindi</td>\n",
       "    </tr>\n",
       "    <tr>\n",
       "      <th>17987</th>\n",
       "      <td>tt0286942</td>\n",
       "      <td>Sardari Begum</td>\n",
       "      <td>1996</td>\n",
       "      <td>116</td>\n",
       "      <td>6.6</td>\n",
       "      <td>187</td>\n",
       "      <td>[Drama]</td>\n",
       "      <td>urdu</td>\n",
       "    </tr>\n",
       "    <tr>\n",
       "      <th>49701</th>\n",
       "      <td>tt5724684</td>\n",
       "      <td>Tum Mere Ho</td>\n",
       "      <td>1968</td>\n",
       "      <td>0</td>\n",
       "      <td>0.0</td>\n",
       "      <td>0</td>\n",
       "      <td>[Drama]</td>\n",
       "      <td>urdu</td>\n",
       "    </tr>\n",
       "    <tr>\n",
       "      <th>48620</th>\n",
       "      <td>tt1194104</td>\n",
       "      <td>Bujjigaadu: Made in Chennai</td>\n",
       "      <td>2008</td>\n",
       "      <td>150</td>\n",
       "      <td>6.4</td>\n",
       "      <td>2086</td>\n",
       "      <td>[Action,  Drama,  Romance]</td>\n",
       "      <td>telugu</td>\n",
       "    </tr>\n",
       "    <tr>\n",
       "      <th>36223</th>\n",
       "      <td>tt0213966</td>\n",
       "      <td>Oonchi Haveli</td>\n",
       "      <td>1955</td>\n",
       "      <td>0</td>\n",
       "      <td>0.0</td>\n",
       "      <td>0</td>\n",
       "      <td>[Action,  Adventure]</td>\n",
       "      <td>hindi</td>\n",
       "    </tr>\n",
       "    <tr>\n",
       "      <th>23826</th>\n",
       "      <td>tt3880494</td>\n",
       "      <td>Bhimavaram Bullodu</td>\n",
       "      <td>2014</td>\n",
       "      <td>153</td>\n",
       "      <td>4.6</td>\n",
       "      <td>26</td>\n",
       "      <td>[Comedy]</td>\n",
       "      <td>telugu</td>\n",
       "    </tr>\n",
       "    <tr>\n",
       "      <th>25897</th>\n",
       "      <td>tt6059800</td>\n",
       "      <td>Seerhiyaan</td>\n",
       "      <td>2008</td>\n",
       "      <td>50</td>\n",
       "      <td>0.0</td>\n",
       "      <td>0</td>\n",
       "      <td>[Horror]</td>\n",
       "      <td>urdu</td>\n",
       "    </tr>\n",
       "    <tr>\n",
       "      <th>19542</th>\n",
       "      <td>tt3746546</td>\n",
       "      <td>Shaitani Jadu Tona</td>\n",
       "      <td>2000</td>\n",
       "      <td>0</td>\n",
       "      <td>0.0</td>\n",
       "      <td>0</td>\n",
       "      <td>[Horror]</td>\n",
       "      <td>hindi</td>\n",
       "    </tr>\n",
       "    <tr>\n",
       "      <th>18011</th>\n",
       "      <td>tt11952022</td>\n",
       "      <td>Afsana</td>\n",
       "      <td>1970</td>\n",
       "      <td>0</td>\n",
       "      <td>0.0</td>\n",
       "      <td>0</td>\n",
       "      <td>[Musical,  Romance]</td>\n",
       "      <td>urdu</td>\n",
       "    </tr>\n",
       "    <tr>\n",
       "      <th>5063</th>\n",
       "      <td>tt0234542</td>\n",
       "      <td>Purab Aur Pachhim</td>\n",
       "      <td>1970</td>\n",
       "      <td>142</td>\n",
       "      <td>7.4</td>\n",
       "      <td>855</td>\n",
       "      <td>[Drama,  Romance]</td>\n",
       "      <td>hindi</td>\n",
       "    </tr>\n",
       "    <tr>\n",
       "      <th>1217</th>\n",
       "      <td>tt7254796</td>\n",
       "      <td>Black</td>\n",
       "      <td>2015</td>\n",
       "      <td>137</td>\n",
       "      <td>4.2</td>\n",
       "      <td>56</td>\n",
       "      <td>[Action]</td>\n",
       "      <td>bengali</td>\n",
       "    </tr>\n",
       "    <tr>\n",
       "      <th>10517</th>\n",
       "      <td>tt2854934</td>\n",
       "      <td>Etwa</td>\n",
       "      <td>1988</td>\n",
       "      <td>0</td>\n",
       "      <td>0.0</td>\n",
       "      <td>0</td>\n",
       "      <td>[Drama]</td>\n",
       "      <td>bengali</td>\n",
       "    </tr>\n",
       "    <tr>\n",
       "      <th>17278</th>\n",
       "      <td>tt0246184</td>\n",
       "      <td>Raja Vikramarka</td>\n",
       "      <td>1990</td>\n",
       "      <td>153</td>\n",
       "      <td>6.6</td>\n",
       "      <td>112</td>\n",
       "      <td>[Action,  Comedy,  Family]</td>\n",
       "      <td>telugu</td>\n",
       "    </tr>\n",
       "    <tr>\n",
       "      <th>1322</th>\n",
       "      <td>tt8758148</td>\n",
       "      <td>Manushulu Mamathalu</td>\n",
       "      <td>1965</td>\n",
       "      <td>170</td>\n",
       "      <td>0.0</td>\n",
       "      <td>0</td>\n",
       "      <td>[Drama]</td>\n",
       "      <td>telugu</td>\n",
       "    </tr>\n",
       "  </tbody>\n",
       "</table>\n",
       "</div>"
      ],
      "text/plain": [
       "               ID                   Movie Name  Year  Timing(min)  Rating(10)   Votes                       Genre Language\n",
       "31530  tt11855674                   Wa Pailwan  2020          158         0.0       0                     [Drama]  marathi\n",
       "33611   tt8811388                        Pinni  1973          130         0.0       0                     [Drama]   telugu\n",
       "14340  tt10162704                  Pick Pocket  1989            0         0.0       0                     [Drama]    tamil\n",
       "12451  tt10731688                        Breed  2020            0         9.7      42                     [Drama]    hindi\n",
       "2970    tt3696192              Singh Is Bliing  2015          141         5.0    7695           [Action,  Comedy]    hindi\n",
       "45327   tt2338151                           PK  2014          153         8.1  165617  [Comedy,  Drama,  Musical]    hindi\n",
       "19909   tt0298579                     Trimurti  1974            0         6.0      20             [Crime,  Drama]    hindi\n",
       "17987   tt0286942                Sardari Begum  1996          116         6.6     187                     [Drama]     urdu\n",
       "49701   tt5724684                  Tum Mere Ho  1968            0         0.0       0                     [Drama]     urdu\n",
       "48620   tt1194104  Bujjigaadu: Made in Chennai  2008          150         6.4    2086  [Action,  Drama,  Romance]   telugu\n",
       "36223   tt0213966                Oonchi Haveli  1955            0         0.0       0        [Action,  Adventure]    hindi\n",
       "23826   tt3880494           Bhimavaram Bullodu  2014          153         4.6      26                    [Comedy]   telugu\n",
       "25897   tt6059800                   Seerhiyaan  2008           50         0.0       0                    [Horror]     urdu\n",
       "19542   tt3746546           Shaitani Jadu Tona  2000            0         0.0       0                    [Horror]    hindi\n",
       "18011  tt11952022                       Afsana  1970            0         0.0       0         [Musical,  Romance]     urdu\n",
       "5063    tt0234542            Purab Aur Pachhim  1970          142         7.4     855           [Drama,  Romance]    hindi\n",
       "1217    tt7254796                        Black  2015          137         4.2      56                    [Action]  bengali\n",
       "10517   tt2854934                         Etwa  1988            0         0.0       0                     [Drama]  bengali\n",
       "17278   tt0246184              Raja Vikramarka  1990          153         6.6     112  [Action,  Comedy,  Family]   telugu\n",
       "1322    tt8758148          Manushulu Mamathalu  1965          170         0.0       0                     [Drama]   telugu"
      ]
     },
     "execution_count": 223,
     "metadata": {},
     "output_type": "execute_result"
    }
   ],
   "source": [
    "df_movie.sample(20)"
   ]
  },
  {
   "cell_type": "code",
   "execution_count": 224,
   "metadata": {},
   "outputs": [],
   "source": [
    "df_exploded = df_movie.explode('Genre', ignore_index=True)"
   ]
  },
  {
   "cell_type": "code",
   "execution_count": 225,
   "metadata": {},
   "outputs": [
    {
     "data": {
      "text/html": [
       "<div>\n",
       "<style scoped>\n",
       "    .dataframe tbody tr th:only-of-type {\n",
       "        vertical-align: middle;\n",
       "    }\n",
       "\n",
       "    .dataframe tbody tr th {\n",
       "        vertical-align: top;\n",
       "    }\n",
       "\n",
       "    .dataframe thead th {\n",
       "        text-align: right;\n",
       "    }\n",
       "</style>\n",
       "<table border=\"1\" class=\"dataframe\">\n",
       "  <thead>\n",
       "    <tr style=\"text-align: right;\">\n",
       "      <th></th>\n",
       "      <th>ID</th>\n",
       "      <th>Movie Name</th>\n",
       "      <th>Year</th>\n",
       "      <th>Timing(min)</th>\n",
       "      <th>Rating(10)</th>\n",
       "      <th>Votes</th>\n",
       "      <th>Genre</th>\n",
       "      <th>Language</th>\n",
       "    </tr>\n",
       "  </thead>\n",
       "  <tbody>\n",
       "    <tr>\n",
       "      <th>25937</th>\n",
       "      <td>tt11423424</td>\n",
       "      <td>Alif Laila</td>\n",
       "      <td>1997</td>\n",
       "      <td>0</td>\n",
       "      <td>0.0</td>\n",
       "      <td>0</td>\n",
       "      <td>Fantasy</td>\n",
       "      <td>urdu</td>\n",
       "    </tr>\n",
       "    <tr>\n",
       "      <th>46734</th>\n",
       "      <td>tt3781576</td>\n",
       "      <td>Kala Bazar</td>\n",
       "      <td>1975</td>\n",
       "      <td>0</td>\n",
       "      <td>0.0</td>\n",
       "      <td>0</td>\n",
       "      <td>Action</td>\n",
       "      <td>hindi</td>\n",
       "    </tr>\n",
       "    <tr>\n",
       "      <th>39519</th>\n",
       "      <td>tt7842912</td>\n",
       "      <td>Burka Avenger</td>\n",
       "      <td>2013</td>\n",
       "      <td>0</td>\n",
       "      <td>0.0</td>\n",
       "      <td>0</td>\n",
       "      <td>Adventure</td>\n",
       "      <td>urdu</td>\n",
       "    </tr>\n",
       "    <tr>\n",
       "      <th>23444</th>\n",
       "      <td>tt1584054</td>\n",
       "      <td>Kanamachi</td>\n",
       "      <td>1961</td>\n",
       "      <td>0</td>\n",
       "      <td>0.0</td>\n",
       "      <td>0</td>\n",
       "      <td>Drama</td>\n",
       "      <td>bengali</td>\n",
       "    </tr>\n",
       "    <tr>\n",
       "      <th>18393</th>\n",
       "      <td>tt2963024</td>\n",
       "      <td>Mera Faisla</td>\n",
       "      <td>2005</td>\n",
       "      <td>0</td>\n",
       "      <td>4.0</td>\n",
       "      <td>7</td>\n",
       "      <td>Action</td>\n",
       "      <td>hindi</td>\n",
       "    </tr>\n",
       "    <tr>\n",
       "      <th>30867</th>\n",
       "      <td>tt5906482</td>\n",
       "      <td>Atithi</td>\n",
       "      <td>1973</td>\n",
       "      <td>0</td>\n",
       "      <td>0.0</td>\n",
       "      <td>0</td>\n",
       "      <td>Drama</td>\n",
       "      <td>bengali</td>\n",
       "    </tr>\n",
       "    <tr>\n",
       "      <th>61276</th>\n",
       "      <td>tt12229398</td>\n",
       "      <td>Diyalee</td>\n",
       "      <td>2012</td>\n",
       "      <td>0</td>\n",
       "      <td>0.0</td>\n",
       "      <td>0</td>\n",
       "      <td>Short</td>\n",
       "      <td>nepali</td>\n",
       "    </tr>\n",
       "    <tr>\n",
       "      <th>44849</th>\n",
       "      <td>tt0479807</td>\n",
       "      <td>Abhishapt</td>\n",
       "      <td>2011</td>\n",
       "      <td>0</td>\n",
       "      <td>7.0</td>\n",
       "      <td>6</td>\n",
       "      <td>Drama</td>\n",
       "      <td>hindi</td>\n",
       "    </tr>\n",
       "    <tr>\n",
       "      <th>38182</th>\n",
       "      <td>tt2640640</td>\n",
       "      <td>Coolie</td>\n",
       "      <td>1997</td>\n",
       "      <td>0</td>\n",
       "      <td>6.7</td>\n",
       "      <td>17</td>\n",
       "      <td>Romance</td>\n",
       "      <td>bengali</td>\n",
       "    </tr>\n",
       "    <tr>\n",
       "      <th>55479</th>\n",
       "      <td>tt0292036</td>\n",
       "      <td>Kabhi Ajnabi Thé</td>\n",
       "      <td>1985</td>\n",
       "      <td>0</td>\n",
       "      <td>5.1</td>\n",
       "      <td>13</td>\n",
       "      <td>Romance</td>\n",
       "      <td>hindi</td>\n",
       "    </tr>\n",
       "    <tr>\n",
       "      <th>28487</th>\n",
       "      <td>tt13070568</td>\n",
       "      <td>Manaivi Amaivathellam</td>\n",
       "      <td>2014</td>\n",
       "      <td>106</td>\n",
       "      <td>0.0</td>\n",
       "      <td>0</td>\n",
       "      <td>Drama</td>\n",
       "      <td>tamil</td>\n",
       "    </tr>\n",
       "    <tr>\n",
       "      <th>28650</th>\n",
       "      <td>tt2848824</td>\n",
       "      <td>Bajatey Raho</td>\n",
       "      <td>2013</td>\n",
       "      <td>110</td>\n",
       "      <td>5.3</td>\n",
       "      <td>725</td>\n",
       "      <td>Comedy</td>\n",
       "      <td>hindi</td>\n",
       "    </tr>\n",
       "    <tr>\n",
       "      <th>38938</th>\n",
       "      <td>tt0113457</td>\n",
       "      <td>Janam Kundli</td>\n",
       "      <td>1995</td>\n",
       "      <td>157</td>\n",
       "      <td>4.1</td>\n",
       "      <td>25</td>\n",
       "      <td>Action</td>\n",
       "      <td>hindi</td>\n",
       "    </tr>\n",
       "    <tr>\n",
       "      <th>33003</th>\n",
       "      <td>tt0348656</td>\n",
       "      <td>Khushi</td>\n",
       "      <td>2003</td>\n",
       "      <td>161</td>\n",
       "      <td>4.4</td>\n",
       "      <td>1554</td>\n",
       "      <td>Drama</td>\n",
       "      <td>hindi</td>\n",
       "    </tr>\n",
       "    <tr>\n",
       "      <th>7925</th>\n",
       "      <td>tt3119050</td>\n",
       "      <td>Sweety Nanna Jodi</td>\n",
       "      <td>2013</td>\n",
       "      <td>0</td>\n",
       "      <td>6.5</td>\n",
       "      <td>8</td>\n",
       "      <td>Drama</td>\n",
       "      <td>kannada</td>\n",
       "    </tr>\n",
       "    <tr>\n",
       "      <th>8826</th>\n",
       "      <td>tt5321784</td>\n",
       "      <td>Mujhko Teri Kasam</td>\n",
       "      <td>1999</td>\n",
       "      <td>0</td>\n",
       "      <td>0.0</td>\n",
       "      <td>0</td>\n",
       "      <td>Romance</td>\n",
       "      <td>hindi</td>\n",
       "    </tr>\n",
       "    <tr>\n",
       "      <th>51854</th>\n",
       "      <td>tt13478562</td>\n",
       "      <td>Padagasalai</td>\n",
       "      <td>2010</td>\n",
       "      <td>135</td>\n",
       "      <td>0.0</td>\n",
       "      <td>0</td>\n",
       "      <td>Drama</td>\n",
       "      <td>tamil</td>\n",
       "    </tr>\n",
       "    <tr>\n",
       "      <th>10904</th>\n",
       "      <td>tt5242172</td>\n",
       "      <td>Kahi Hai Woh Aas Pass</td>\n",
       "      <td>2007</td>\n",
       "      <td>0</td>\n",
       "      <td>0.0</td>\n",
       "      <td>0</td>\n",
       "      <td>Mystery</td>\n",
       "      <td>hindi</td>\n",
       "    </tr>\n",
       "    <tr>\n",
       "      <th>10931</th>\n",
       "      <td>tt12213088</td>\n",
       "      <td>Odahuttidavaru</td>\n",
       "      <td>1994</td>\n",
       "      <td>140</td>\n",
       "      <td>8.1</td>\n",
       "      <td>8</td>\n",
       "      <td>Drama</td>\n",
       "      <td>kannada</td>\n",
       "    </tr>\n",
       "    <tr>\n",
       "      <th>40046</th>\n",
       "      <td>tt5606132</td>\n",
       "      <td>IDI: Inspector Dawood Ibrahim</td>\n",
       "      <td>2016</td>\n",
       "      <td>127</td>\n",
       "      <td>4.6</td>\n",
       "      <td>343</td>\n",
       "      <td>Comedy</td>\n",
       "      <td>malayalam</td>\n",
       "    </tr>\n",
       "  </tbody>\n",
       "</table>\n",
       "</div>"
      ],
      "text/plain": [
       "               ID                     Movie Name  Year  Timing(min)  Rating(10)  Votes       Genre   Language\n",
       "25937  tt11423424                     Alif Laila  1997            0         0.0      0     Fantasy       urdu\n",
       "46734   tt3781576                     Kala Bazar  1975            0         0.0      0      Action      hindi\n",
       "39519   tt7842912                  Burka Avenger  2013            0         0.0      0   Adventure       urdu\n",
       "23444   tt1584054                      Kanamachi  1961            0         0.0      0       Drama    bengali\n",
       "18393   tt2963024                    Mera Faisla  2005            0         4.0      7      Action      hindi\n",
       "30867   tt5906482                         Atithi  1973            0         0.0      0       Drama    bengali\n",
       "61276  tt12229398                        Diyalee  2012            0         0.0      0       Short     nepali\n",
       "44849   tt0479807                      Abhishapt  2011            0         7.0      6       Drama      hindi\n",
       "38182   tt2640640                         Coolie  1997            0         6.7     17     Romance    bengali\n",
       "55479   tt0292036               Kabhi Ajnabi Thé  1985            0         5.1     13     Romance      hindi\n",
       "28487  tt13070568          Manaivi Amaivathellam  2014          106         0.0      0       Drama      tamil\n",
       "28650   tt2848824                   Bajatey Raho  2013          110         5.3    725      Comedy      hindi\n",
       "38938   tt0113457                   Janam Kundli  1995          157         4.1     25      Action      hindi\n",
       "33003   tt0348656                         Khushi  2003          161         4.4   1554       Drama      hindi\n",
       "7925    tt3119050              Sweety Nanna Jodi  2013            0         6.5      8       Drama    kannada\n",
       "8826    tt5321784              Mujhko Teri Kasam  1999            0         0.0      0     Romance      hindi\n",
       "51854  tt13478562                    Padagasalai  2010          135         0.0      0       Drama      tamil\n",
       "10904   tt5242172          Kahi Hai Woh Aas Pass  2007            0         0.0      0     Mystery      hindi\n",
       "10931  tt12213088                 Odahuttidavaru  1994          140         8.1      8       Drama    kannada\n",
       "40046   tt5606132  IDI: Inspector Dawood Ibrahim  2016          127         4.6    343      Comedy  malayalam"
      ]
     },
     "execution_count": 225,
     "metadata": {},
     "output_type": "execute_result"
    }
   ],
   "source": [
    "df_exploded.sample(20)"
   ]
  },
  {
   "cell_type": "code",
   "execution_count": 226,
   "metadata": {},
   "outputs": [],
   "source": [
    "df_exploded[\"Genre\"] = df_exploded[\"Genre\"].str.strip()"
   ]
  },
  {
   "cell_type": "code",
   "execution_count": 227,
   "metadata": {},
   "outputs": [
    {
     "data": {
      "text/plain": [
       "(63203, 8)"
      ]
     },
     "execution_count": 227,
     "metadata": {},
     "output_type": "execute_result"
    }
   ],
   "source": [
    "df_exploded.shape"
   ]
  },
  {
   "cell_type": "code",
   "execution_count": 228,
   "metadata": {},
   "outputs": [
    {
     "data": {
      "text/plain": [
       "array(['Comedy', 'Musical', 'Romance', 'Drama', 'Family', 'Thriller',\n",
       "       'Biography', 'History', 'Action', 'Short', 'Music', 'Crime',\n",
       "       'Documentary', 'Horror', 'Fantasy', 'Mystery', 'Animation',\n",
       "       'Adventure', 'Sport', 'Sci-Fi', 'War', 'Reality-TV', 'Talk-Show',\n",
       "       'News', 'Game-Show', 'Western'], dtype=object)"
      ]
     },
     "execution_count": 228,
     "metadata": {},
     "output_type": "execute_result"
    }
   ],
   "source": [
    "df_exploded[\"Genre\"].unique()"
   ]
  },
  {
   "cell_type": "code",
   "execution_count": 229,
   "metadata": {},
   "outputs": [
    {
     "data": {
      "text/plain": [
       "26"
      ]
     },
     "execution_count": 229,
     "metadata": {},
     "output_type": "execute_result"
    }
   ],
   "source": [
    "len(df_exploded[\"Genre\"].unique())"
   ]
  },
  {
   "cell_type": "code",
   "execution_count": 46,
   "metadata": {},
   "outputs": [],
   "source": [
    "# df_movie = df_exploded"
   ]
  },
  {
   "cell_type": "markdown",
   "metadata": {},
   "source": [
    "#### Language"
   ]
  },
  {
   "cell_type": "code",
   "execution_count": 230,
   "metadata": {},
   "outputs": [
    {
     "data": {
      "text/plain": [
       "array(['hindi', 'urdu', 'bengali', 'telugu', 'nepali', 'sanskrit',\n",
       "       'tamil', 'kannada', 'marathi', 'malayalam', 'bhojpuri', 'gujarati',\n",
       "       'oriya', 'punjabi', 'assamese', 'rajastani', 'kashmiri', 'konkani',\n",
       "       'tulu'], dtype=object)"
      ]
     },
     "execution_count": 230,
     "metadata": {},
     "output_type": "execute_result"
    }
   ],
   "source": [
    "df_exploded[\"Language\"].unique()"
   ]
  },
  {
   "cell_type": "markdown",
   "metadata": {},
   "source": [
    "#### Checking missing values after cleaning"
   ]
  },
  {
   "cell_type": "markdown",
   "metadata": {},
   "source": [
    "Replacing zeroes with NaN again for better computation by built-in functions and visualizations"
   ]
  },
  {
   "cell_type": "code",
   "execution_count": 231,
   "metadata": {},
   "outputs": [],
   "source": [
    "df_movie = df_movie.apply(lambda x: x.replace(0, np.nan))"
   ]
  },
  {
   "cell_type": "code",
   "execution_count": 232,
   "metadata": {},
   "outputs": [],
   "source": [
    "df_exploded = df_exploded.apply(lambda x: x.replace(0, np.nan))"
   ]
  },
  {
   "cell_type": "code",
   "execution_count": 233,
   "metadata": {},
   "outputs": [
    {
     "name": "stdout",
     "output_type": "stream",
     "text": [
      "Column\t\tNull objects\tNull %\n",
      "------\t\t------------\t------\n",
      "ID              156             0.39      \n",
      "Movie Name      0               0.0       \n",
      "Year            31              0.08      \n",
      "Timing(min)     16863           42.38     \n",
      "Rating(10)      17756           44.63     \n",
      "Votes           17756           44.63     \n",
      "Genre           0               0.0       \n",
      "Language        0               0.0       \n"
     ]
    }
   ],
   "source": [
    "print(\"Column\\t\\tNull objects\\tNull %\")\n",
    "print(\"------\\t\\t------------\\t------\")\n",
    "for column in df_movie.columns:\n",
    "    na_count = 0\n",
    "    na_count += df_movie[column].isna().sum()\n",
    "    na_count += (df_movie[column]==0).sum()\n",
    "    print(f\"{column:<15} {na_count:<15} {round(na_count*100.0/df_movie.shape[0],2):<10}\")\n"
   ]
  },
  {
   "cell_type": "code",
   "execution_count": 234,
   "metadata": {},
   "outputs": [
    {
     "name": "stdout",
     "output_type": "stream",
     "text": [
      "Column\t\tNull objects\tNull %\n",
      "------\t\t------------\t------\n",
      "ID              257             0.41      \n",
      "Movie Name      0               0.0       \n",
      "Year            46              0.07      \n",
      "Timing(min)     22865           36.18     \n",
      "Rating(10)      22624           35.8      \n",
      "Votes           22624           35.8      \n",
      "Genre           0               0.0       \n",
      "Language        0               0.0       \n"
     ]
    }
   ],
   "source": [
    "print(\"Column\\t\\tNull objects\\tNull %\")\n",
    "print(\"------\\t\\t------------\\t------\")\n",
    "for column in df_exploded.columns:\n",
    "    na_count = 0\n",
    "    na_count += df_exploded[column].isna().sum()\n",
    "    na_count += (df_exploded[column]==0).sum()\n",
    "    print(f\"{column:<15} {na_count:<15} {round(na_count*100.0/df_exploded.shape[0],2):<10}\")\n"
   ]
  },
  {
   "cell_type": "markdown",
   "metadata": {},
   "source": [
    "Seems like about 35% of the values for Timing, Rating and Votes are missing."
   ]
  },
  {
   "cell_type": "code",
   "execution_count": 235,
   "metadata": {},
   "outputs": [
    {
     "name": "stdout",
     "output_type": "stream",
     "text": [
      "<class 'pandas.core.frame.DataFrame'>\n",
      "RangeIndex: 63203 entries, 0 to 63202\n",
      "Data columns (total 8 columns):\n",
      " #   Column       Non-Null Count  Dtype  \n",
      "---  ------       --------------  -----  \n",
      " 0   ID           62946 non-null  object \n",
      " 1   Movie Name   63203 non-null  object \n",
      " 2   Year         63157 non-null  float64\n",
      " 3   Timing(min)  40338 non-null  float64\n",
      " 4   Rating(10)   40579 non-null  float64\n",
      " 5   Votes        40579 non-null  float64\n",
      " 6   Genre        63203 non-null  object \n",
      " 7   Language     63203 non-null  object \n",
      "dtypes: float64(4), object(4)\n",
      "memory usage: 3.9+ MB\n"
     ]
    }
   ],
   "source": [
    "df_exploded.info()"
   ]
  },
  {
   "cell_type": "markdown",
   "metadata": {},
   "source": [
    "the datatypes have also been corrected."
   ]
  },
  {
   "cell_type": "code",
   "execution_count": 236,
   "metadata": {},
   "outputs": [
    {
     "data": {
      "text/html": [
       "<div>\n",
       "<style scoped>\n",
       "    .dataframe tbody tr th:only-of-type {\n",
       "        vertical-align: middle;\n",
       "    }\n",
       "\n",
       "    .dataframe tbody tr th {\n",
       "        vertical-align: top;\n",
       "    }\n",
       "\n",
       "    .dataframe thead th {\n",
       "        text-align: right;\n",
       "    }\n",
       "</style>\n",
       "<table border=\"1\" class=\"dataframe\">\n",
       "  <thead>\n",
       "    <tr style=\"text-align: right;\">\n",
       "      <th></th>\n",
       "      <th>Year</th>\n",
       "      <th>Timing(min)</th>\n",
       "      <th>Rating(10)</th>\n",
       "      <th>Votes</th>\n",
       "    </tr>\n",
       "  </thead>\n",
       "  <tbody>\n",
       "    <tr>\n",
       "      <th>count</th>\n",
       "      <td>63157.000000</td>\n",
       "      <td>40338.000000</td>\n",
       "      <td>40579.000000</td>\n",
       "      <td>40579.000000</td>\n",
       "    </tr>\n",
       "    <tr>\n",
       "      <th>mean</th>\n",
       "      <td>1999.498060</td>\n",
       "      <td>124.279042</td>\n",
       "      <td>6.255674</td>\n",
       "      <td>2046.719362</td>\n",
       "    </tr>\n",
       "    <tr>\n",
       "      <th>std</th>\n",
       "      <td>19.814603</td>\n",
       "      <td>47.247098</td>\n",
       "      <td>1.421037</td>\n",
       "      <td>18783.371250</td>\n",
       "    </tr>\n",
       "    <tr>\n",
       "      <th>min</th>\n",
       "      <td>1917.000000</td>\n",
       "      <td>1.000000</td>\n",
       "      <td>1.000000</td>\n",
       "      <td>5.000000</td>\n",
       "    </tr>\n",
       "    <tr>\n",
       "      <th>25%</th>\n",
       "      <td>1988.000000</td>\n",
       "      <td>112.000000</td>\n",
       "      <td>5.400000</td>\n",
       "      <td>19.000000</td>\n",
       "    </tr>\n",
       "    <tr>\n",
       "      <th>50%</th>\n",
       "      <td>2007.000000</td>\n",
       "      <td>132.000000</td>\n",
       "      <td>6.400000</td>\n",
       "      <td>75.000000</td>\n",
       "    </tr>\n",
       "    <tr>\n",
       "      <th>75%</th>\n",
       "      <td>2016.000000</td>\n",
       "      <td>148.000000</td>\n",
       "      <td>7.300000</td>\n",
       "      <td>440.000000</td>\n",
       "    </tr>\n",
       "    <tr>\n",
       "      <th>max</th>\n",
       "      <td>2022.000000</td>\n",
       "      <td>2565.000000</td>\n",
       "      <td>10.000000</td>\n",
       "      <td>954861.000000</td>\n",
       "    </tr>\n",
       "  </tbody>\n",
       "</table>\n",
       "</div>"
      ],
      "text/plain": [
       "               Year   Timing(min)    Rating(10)          Votes\n",
       "count  63157.000000  40338.000000  40579.000000   40579.000000\n",
       "mean    1999.498060    124.279042      6.255674    2046.719362\n",
       "std       19.814603     47.247098      1.421037   18783.371250\n",
       "min     1917.000000      1.000000      1.000000       5.000000\n",
       "25%     1988.000000    112.000000      5.400000      19.000000\n",
       "50%     2007.000000    132.000000      6.400000      75.000000\n",
       "75%     2016.000000    148.000000      7.300000     440.000000\n",
       "max     2022.000000   2565.000000     10.000000  954861.000000"
      ]
     },
     "execution_count": 236,
     "metadata": {},
     "output_type": "execute_result"
    }
   ],
   "source": [
    "df_exploded.describe()"
   ]
  },
  {
   "cell_type": "markdown",
   "metadata": {},
   "source": [
    "### Task 3: Univariate Analysis"
   ]
  },
  {
   "cell_type": "markdown",
   "metadata": {},
   "source": [
    "#### 1. Analyzing the distribution of ratings."
   ]
  },
  {
   "cell_type": "code",
   "execution_count": 243,
   "metadata": {},
   "outputs": [
    {
     "data": {
      "text/plain": [
       "<Axes: xlabel='Rating(10)', ylabel='Count'>"
      ]
     },
     "execution_count": 243,
     "metadata": {},
     "output_type": "execute_result"
    },
    {
     "data": {
      "image/png": "[encoded data removed]",
      "text/plain": [
       "<Figure size 640x480 with 1 Axes>"
      ]
     },
     "metadata": {},
     "output_type": "display_data"
    }
   ],
   "source": [
    "sns.histplot(data=df_exploded, x=\"Rating(10)\", binwidth=0.5)"
   ]
  },
  {
   "cell_type": "markdown",
   "metadata": {},
   "source": [
    "Seems like ratings follow a normal distribution and most common ratings are between 6.5-7, 7-7.5 and 6-6.5 in that order."
   ]
  },
  {
   "cell_type": "markdown",
   "metadata": {},
   "source": [
    "#### 2. Calculating the most common rating given by users:"
   ]
  },
  {
   "cell_type": "code",
   "execution_count": 238,
   "metadata": {},
   "outputs": [],
   "source": [
    "counts = df_exploded[\"Rating(10)\"].value_counts()"
   ]
  },
  {
   "cell_type": "code",
   "execution_count": 239,
   "metadata": {},
   "outputs": [
    {
     "name": "stdout",
     "output_type": "stream",
     "text": [
      "Most common rating: 7.2, count = 1342\n"
     ]
    }
   ],
   "source": [
    "print(\"Most common rating: {0}, count = {1}\".format(counts.index[0], counts.iloc[0]))"
   ]
  },
  {
   "cell_type": "markdown",
   "metadata": {},
   "source": [
    "#### 3. Analyze the genre distribution (if the dataset contains genres)."
   ]
  },
  {
   "cell_type": "code",
   "execution_count": 251,
   "metadata": {},
   "outputs": [
    {
     "data": {
      "image/png": "[encoded data removed]",
      "text/plain": [
       "<Figure size 1500x500 with 1 Axes>"
      ]
     },
     "metadata": {},
     "output_type": "display_data"
    }
   ],
   "source": [
    "plt.figure(figsize=(15, 5))\n",
    "sns.countplot(df_exploded, x=\"Genre\", stat=\"percent\")\n",
    "plt.xticks(rotation=90)\n",
    "plt.show()"
   ]
  },
  {
   "cell_type": "markdown",
   "metadata": {},
   "source": [
    "The most common genre clearly seems to be \"DRAMA\" followed by \"Action\", \"Comedy\" and \"Romance\""
   ]
  },
  {
   "cell_type": "markdown",
   "metadata": {},
   "source": [
    "### Task 4: Bivariate and Multivariate Analysis"
   ]
  },
  {
   "cell_type": "markdown",
   "metadata": {},
   "source": [
    "#### Explore the relationship between user demographics (age, gender) and ratings. \n",
    "For example:\n",
    "\n",
    "Are certain age groups more likely to rate higher or lower?\n",
    "\n",
    "Do male and female users rate movies differently?"
   ]
  },
  {
   "cell_type": "code",
   "execution_count": 245,
   "metadata": {},
   "outputs": [],
   "source": [
    "# There's no such column in the dataset"
   ]
  },
  {
   "cell_type": "markdown",
   "metadata": {},
   "source": [
    "#### Investigate how genre preferences vary by user demographics (age, gender)."
   ]
  },
  {
   "cell_type": "code",
   "execution_count": 246,
   "metadata": {},
   "outputs": [],
   "source": [
    "# There's no such column in the dataset"
   ]
  },
  {
   "cell_type": "markdown",
   "metadata": {},
   "source": [
    "#### Explore correlations between movie ratings and genres"
   ]
  },
  {
   "cell_type": "code",
   "execution_count": 254,
   "metadata": {},
   "outputs": [
    {
     "data": {
      "image/png": "[encoded data removed]",
      "text/plain": [
       "<Figure size 1000x1000 with 1 Axes>"
      ]
     },
     "metadata": {},
     "output_type": "display_data"
    }
   ],
   "source": [
    "plt.figure(figsize=(10,10))\n",
    "sns.boxplot(y=df_exploded.Genre, x=df_exploded[\"Rating(10)\"])\n",
    "plt.show()"
   ]
  },
  {
   "cell_type": "markdown",
   "metadata": {},
   "source": [
    "### Task 5: Popular Movies and Trends"
   ]
  },
  {
   "cell_type": "markdown",
   "metadata": {},
   "source": [
    "#### Identify the top 10 highest-rated movies"
   ]
  },
  {
   "cell_type": "code",
   "execution_count": 255,
   "metadata": {},
   "outputs": [],
   "source": [
    "df_sorted = df_movie.sort_values(by=\"Rating(10)\", ascending=False)"
   ]
  },
  {
   "cell_type": "code",
   "execution_count": 256,
   "metadata": {},
   "outputs": [],
   "source": [
    "# df_sorted[\"Movie Name\"] = df_sorted[\"Movie Name\"].drop_duplicates()"
   ]
  },
  {
   "cell_type": "code",
   "execution_count": 257,
   "metadata": {},
   "outputs": [
    {
     "data": {
      "text/html": [
       "<div>\n",
       "<style scoped>\n",
       "    .dataframe tbody tr th:only-of-type {\n",
       "        vertical-align: middle;\n",
       "    }\n",
       "\n",
       "    .dataframe tbody tr th {\n",
       "        vertical-align: top;\n",
       "    }\n",
       "\n",
       "    .dataframe thead th {\n",
       "        text-align: right;\n",
       "    }\n",
       "</style>\n",
       "<table border=\"1\" class=\"dataframe\">\n",
       "  <thead>\n",
       "    <tr style=\"text-align: right;\">\n",
       "      <th></th>\n",
       "      <th>ID</th>\n",
       "      <th>Movie Name</th>\n",
       "      <th>Year</th>\n",
       "      <th>Timing(min)</th>\n",
       "      <th>Rating(10)</th>\n",
       "      <th>Votes</th>\n",
       "      <th>Genre</th>\n",
       "      <th>Language</th>\n",
       "    </tr>\n",
       "  </thead>\n",
       "  <tbody>\n",
       "    <tr>\n",
       "      <th>23887</th>\n",
       "      <td>tt13223848</td>\n",
       "      <td>Marasim - Beyond Borders</td>\n",
       "      <td>2020.0</td>\n",
       "      <td>10.0</td>\n",
       "      <td>10.0</td>\n",
       "      <td>37.0</td>\n",
       "      <td>[Short]</td>\n",
       "      <td>urdu</td>\n",
       "    </tr>\n",
       "    <tr>\n",
       "      <th>7812</th>\n",
       "      <td>tt11230970</td>\n",
       "      <td>Ilu-Ilu</td>\n",
       "      <td>2020.0</td>\n",
       "      <td>130.0</td>\n",
       "      <td>10.0</td>\n",
       "      <td>5.0</td>\n",
       "      <td>[Drama]</td>\n",
       "      <td>marathi</td>\n",
       "    </tr>\n",
       "    <tr>\n",
       "      <th>34577</th>\n",
       "      <td>tt13559990</td>\n",
       "      <td>An Extraordinary Journey</td>\n",
       "      <td>2018.0</td>\n",
       "      <td>37.0</td>\n",
       "      <td>10.0</td>\n",
       "      <td>5.0</td>\n",
       "      <td>[Documentary,  Short]</td>\n",
       "      <td>nepali</td>\n",
       "    </tr>\n",
       "    <tr>\n",
       "      <th>23850</th>\n",
       "      <td>tt13951808</td>\n",
       "      <td>Bihari Binani</td>\n",
       "      <td>2021.0</td>\n",
       "      <td>NaN</td>\n",
       "      <td>10.0</td>\n",
       "      <td>6.0</td>\n",
       "      <td>[Short,  Comedy]</td>\n",
       "      <td>rajastani</td>\n",
       "    </tr>\n",
       "    <tr>\n",
       "      <th>31301</th>\n",
       "      <td>tt14496528</td>\n",
       "      <td>Harsukh</td>\n",
       "      <td>2021.0</td>\n",
       "      <td>43.0</td>\n",
       "      <td>10.0</td>\n",
       "      <td>9.0</td>\n",
       "      <td>[Documentary,  Short]</td>\n",
       "      <td>urdu</td>\n",
       "    </tr>\n",
       "    <tr>\n",
       "      <th>30151</th>\n",
       "      <td>tt13223848</td>\n",
       "      <td>Marasim - Beyond Borders</td>\n",
       "      <td>2020.0</td>\n",
       "      <td>10.0</td>\n",
       "      <td>10.0</td>\n",
       "      <td>37.0</td>\n",
       "      <td>[Short]</td>\n",
       "      <td>oriya</td>\n",
       "    </tr>\n",
       "    <tr>\n",
       "      <th>39105</th>\n",
       "      <td>tt14496528</td>\n",
       "      <td>Harsukh</td>\n",
       "      <td>2021.0</td>\n",
       "      <td>43.0</td>\n",
       "      <td>10.0</td>\n",
       "      <td>9.0</td>\n",
       "      <td>[Documentary,  Short]</td>\n",
       "      <td>oriya</td>\n",
       "    </tr>\n",
       "    <tr>\n",
       "      <th>32076</th>\n",
       "      <td>tt7142142</td>\n",
       "      <td>Ashi Fasli Nanachi Tang</td>\n",
       "      <td>2011.0</td>\n",
       "      <td>109.0</td>\n",
       "      <td>10.0</td>\n",
       "      <td>5.0</td>\n",
       "      <td>[Comedy]</td>\n",
       "      <td>marathi</td>\n",
       "    </tr>\n",
       "    <tr>\n",
       "      <th>42441</th>\n",
       "      <td>tt12504298</td>\n",
       "      <td>Antak</td>\n",
       "      <td>2019.0</td>\n",
       "      <td>6.0</td>\n",
       "      <td>10.0</td>\n",
       "      <td>7.0</td>\n",
       "      <td>[Short]</td>\n",
       "      <td>nepali</td>\n",
       "    </tr>\n",
       "    <tr>\n",
       "      <th>11575</th>\n",
       "      <td>tt7598716</td>\n",
       "      <td>Maassab (The Teacher)</td>\n",
       "      <td>2021.0</td>\n",
       "      <td>116.0</td>\n",
       "      <td>9.9</td>\n",
       "      <td>104.0</td>\n",
       "      <td>[Drama]</td>\n",
       "      <td>hindi</td>\n",
       "    </tr>\n",
       "  </tbody>\n",
       "</table>\n",
       "</div>"
      ],
      "text/plain": [
       "               ID                Movie Name    Year  Timing(min)  Rating(10)  Votes                  Genre   Language\n",
       "23887  tt13223848  Marasim - Beyond Borders  2020.0         10.0        10.0   37.0                [Short]       urdu\n",
       "7812   tt11230970                   Ilu-Ilu  2020.0        130.0        10.0    5.0                [Drama]    marathi\n",
       "34577  tt13559990  An Extraordinary Journey  2018.0         37.0        10.0    5.0  [Documentary,  Short]     nepali\n",
       "23850  tt13951808             Bihari Binani  2021.0          NaN        10.0    6.0       [Short,  Comedy]  rajastani\n",
       "31301  tt14496528                   Harsukh  2021.0         43.0        10.0    9.0  [Documentary,  Short]       urdu\n",
       "30151  tt13223848  Marasim - Beyond Borders  2020.0         10.0        10.0   37.0                [Short]      oriya\n",
       "39105  tt14496528                   Harsukh  2021.0         43.0        10.0    9.0  [Documentary,  Short]      oriya\n",
       "32076   tt7142142   Ashi Fasli Nanachi Tang  2011.0        109.0        10.0    5.0               [Comedy]    marathi\n",
       "42441  tt12504298                     Antak  2019.0          6.0        10.0    7.0                [Short]     nepali\n",
       "11575   tt7598716     Maassab (The Teacher)  2021.0        116.0         9.9  104.0                [Drama]      hindi"
      ]
     },
     "execution_count": 257,
     "metadata": {},
     "output_type": "execute_result"
    }
   ],
   "source": [
    "df_sorted.head(10)"
   ]
  },
  {
   "cell_type": "code",
   "execution_count": 258,
   "metadata": {},
   "outputs": [],
   "source": [
    "# print(\"Top 10 movies are : \")\n",
    "# print(f\"{'Movie Name':<25} {'Rating(10)':<10} {'Votes':<6}\")\n",
    "# count=1\n",
    "# for id in df_sorted[\"ID\"].unique():\n",
    "#     if(count>10):\n",
    "#         break\n",
    "#     # print(df_sorted[df_sorted[\"ID\"]==id])\n",
    "#     print(f\"{df_sorted[df_sorted['ID']==id]['Movie Name'].unique()[0]:<25} {df_sorted[df_sorted['ID']==id]['Rating(10)'].unique()[0]:<10} {df_sorted[df_sorted['ID']==id]['Votes'].unique()[0]:<6}\")\n",
    "#     count+=1"
   ]
  },
  {
   "cell_type": "code",
   "execution_count": 259,
   "metadata": {},
   "outputs": [],
   "source": [
    "df_top_10 = df_sorted.drop_duplicates(subset='Movie Name', keep='first').head(10)"
   ]
  },
  {
   "cell_type": "code",
   "execution_count": 260,
   "metadata": {},
   "outputs": [
    {
     "name": "stdout",
     "output_type": "stream",
     "text": [
      "Top 10 movies are:\n",
      "Movie Name                Rating(10) Votes \n",
      "Marasim - Beyond Borders  10.0       37.0  \n",
      "Ilu-Ilu                   10.0       5.0   \n",
      "An Extraordinary Journey  10.0       5.0   \n",
      "Bihari Binani             10.0       6.0   \n",
      "Harsukh                   10.0       9.0   \n",
      "Ashi Fasli Nanachi Tang   10.0       5.0   \n",
      "Antak                     10.0       7.0   \n",
      "Maassab (The Teacher)     9.9        104.0 \n",
      "The Survivor              9.9        7.0   \n",
      "The Invisible Humans      9.9        8.0   \n"
     ]
    }
   ],
   "source": [
    "print(\"Top 10 movies are:\")\n",
    "print(f\"{'Movie Name':<25} {'Rating(10)':<10} {'Votes':<6}\")\n",
    "\n",
    "# Iterate over the top 10 movies and print their details\n",
    "for _, row in df_top_10.iterrows():\n",
    "    print(f\"{row['Movie Name']:<25} {row['Rating(10)']:<10} {row['Votes']:<6}\")"
   ]
  },
  {
   "cell_type": "markdown",
   "metadata": {},
   "source": [
    "#### Find the top 10 most-watched movies (by the number of ratings)"
   ]
  },
  {
   "cell_type": "code",
   "execution_count": 261,
   "metadata": {},
   "outputs": [],
   "source": [
    "df_sorted = df_movie.sort_values(by=\"Votes\", ascending=False)"
   ]
  },
  {
   "cell_type": "code",
   "execution_count": 262,
   "metadata": {},
   "outputs": [
    {
     "data": {
      "text/html": [
       "<div>\n",
       "<style scoped>\n",
       "    .dataframe tbody tr th:only-of-type {\n",
       "        vertical-align: middle;\n",
       "    }\n",
       "\n",
       "    .dataframe tbody tr th {\n",
       "        vertical-align: top;\n",
       "    }\n",
       "\n",
       "    .dataframe thead th {\n",
       "        text-align: right;\n",
       "    }\n",
       "</style>\n",
       "<table border=\"1\" class=\"dataframe\">\n",
       "  <thead>\n",
       "    <tr style=\"text-align: right;\">\n",
       "      <th></th>\n",
       "      <th>ID</th>\n",
       "      <th>Movie Name</th>\n",
       "      <th>Year</th>\n",
       "      <th>Timing(min)</th>\n",
       "      <th>Rating(10)</th>\n",
       "      <th>Votes</th>\n",
       "      <th>Genre</th>\n",
       "      <th>Language</th>\n",
       "    </tr>\n",
       "  </thead>\n",
       "  <tbody>\n",
       "    <tr>\n",
       "      <th>471</th>\n",
       "      <td>tt0371746</td>\n",
       "      <td>Iron Man</td>\n",
       "      <td>2008.0</td>\n",
       "      <td>126.0</td>\n",
       "      <td>7.9</td>\n",
       "      <td>954861.0</td>\n",
       "      <td>[Action,  Adventure,  Sci-Fi]</td>\n",
       "      <td>urdu</td>\n",
       "    </tr>\n",
       "    <tr>\n",
       "      <th>13822</th>\n",
       "      <td>tt0371746</td>\n",
       "      <td>Iron Man</td>\n",
       "      <td>2008.0</td>\n",
       "      <td>126.0</td>\n",
       "      <td>7.9</td>\n",
       "      <td>954861.0</td>\n",
       "      <td>[Action,  Adventure,  Sci-Fi]</td>\n",
       "      <td>oriya</td>\n",
       "    </tr>\n",
       "    <tr>\n",
       "      <th>26732</th>\n",
       "      <td>tt0082971</td>\n",
       "      <td>Indiana Jones and the Raiders of the Lost Ark</td>\n",
       "      <td>1981.0</td>\n",
       "      <td>115.0</td>\n",
       "      <td>8.4</td>\n",
       "      <td>894336.0</td>\n",
       "      <td>[Action,  Adventure]</td>\n",
       "      <td>nepali</td>\n",
       "    </tr>\n",
       "    <tr>\n",
       "      <th>11493</th>\n",
       "      <td>tt0120915</td>\n",
       "      <td>Star Wars: Episode I - The Phantom Menace</td>\n",
       "      <td>1999.0</td>\n",
       "      <td>136.0</td>\n",
       "      <td>6.5</td>\n",
       "      <td>740452.0</td>\n",
       "      <td>[Action,  Adventure,  Fantasy]</td>\n",
       "      <td>sanskrit</td>\n",
       "    </tr>\n",
       "    <tr>\n",
       "      <th>35212</th>\n",
       "      <td>tt1187043</td>\n",
       "      <td>3 Idiots</td>\n",
       "      <td>2009.0</td>\n",
       "      <td>170.0</td>\n",
       "      <td>8.4</td>\n",
       "      <td>351187.0</td>\n",
       "      <td>[Comedy,  Drama]</td>\n",
       "      <td>hindi</td>\n",
       "    </tr>\n",
       "    <tr>\n",
       "      <th>26330</th>\n",
       "      <td>tt1790885</td>\n",
       "      <td>Zero Dark Thirty</td>\n",
       "      <td>2012.0</td>\n",
       "      <td>157.0</td>\n",
       "      <td>7.4</td>\n",
       "      <td>275912.0</td>\n",
       "      <td>[Drama,  History,  Thriller]</td>\n",
       "      <td>oriya</td>\n",
       "    </tr>\n",
       "    <tr>\n",
       "      <th>37398</th>\n",
       "      <td>tt1790885</td>\n",
       "      <td>Zero Dark Thirty</td>\n",
       "      <td>2012.0</td>\n",
       "      <td>157.0</td>\n",
       "      <td>7.4</td>\n",
       "      <td>275912.0</td>\n",
       "      <td>[Drama,  History,  Thriller]</td>\n",
       "      <td>urdu</td>\n",
       "    </tr>\n",
       "    <tr>\n",
       "      <th>17587</th>\n",
       "      <td>tt3040964</td>\n",
       "      <td>The Jungle Book</td>\n",
       "      <td>2016.0</td>\n",
       "      <td>106.0</td>\n",
       "      <td>7.4</td>\n",
       "      <td>261319.0</td>\n",
       "      <td>[Adventure,  Drama,  Family]</td>\n",
       "      <td>urdu</td>\n",
       "    </tr>\n",
       "    <tr>\n",
       "      <th>2122</th>\n",
       "      <td>tt3040964</td>\n",
       "      <td>The Jungle Book</td>\n",
       "      <td>2016.0</td>\n",
       "      <td>106.0</td>\n",
       "      <td>7.4</td>\n",
       "      <td>261319.0</td>\n",
       "      <td>[Adventure,  Drama,  Family]</td>\n",
       "      <td>oriya</td>\n",
       "    </tr>\n",
       "    <tr>\n",
       "      <th>48165</th>\n",
       "      <td>tt3040964</td>\n",
       "      <td>The Jungle Book</td>\n",
       "      <td>2016.0</td>\n",
       "      <td>106.0</td>\n",
       "      <td>7.4</td>\n",
       "      <td>261319.0</td>\n",
       "      <td>[Adventure,  Drama,  Family]</td>\n",
       "      <td>tamil</td>\n",
       "    </tr>\n",
       "  </tbody>\n",
       "</table>\n",
       "</div>"
      ],
      "text/plain": [
       "              ID                                     Movie Name    Year  Timing(min)  Rating(10)     Votes                           Genre  Language\n",
       "471    tt0371746                                       Iron Man  2008.0        126.0         7.9  954861.0   [Action,  Adventure,  Sci-Fi]      urdu\n",
       "13822  tt0371746                                       Iron Man  2008.0        126.0         7.9  954861.0   [Action,  Adventure,  Sci-Fi]     oriya\n",
       "26732  tt0082971  Indiana Jones and the Raiders of the Lost Ark  1981.0        115.0         8.4  894336.0            [Action,  Adventure]    nepali\n",
       "11493  tt0120915      Star Wars: Episode I - The Phantom Menace  1999.0        136.0         6.5  740452.0  [Action,  Adventure,  Fantasy]  sanskrit\n",
       "35212  tt1187043                                       3 Idiots  2009.0        170.0         8.4  351187.0                [Comedy,  Drama]     hindi\n",
       "26330  tt1790885                               Zero Dark Thirty  2012.0        157.0         7.4  275912.0    [Drama,  History,  Thriller]     oriya\n",
       "37398  tt1790885                               Zero Dark Thirty  2012.0        157.0         7.4  275912.0    [Drama,  History,  Thriller]      urdu\n",
       "17587  tt3040964                                The Jungle Book  2016.0        106.0         7.4  261319.0    [Adventure,  Drama,  Family]      urdu\n",
       "2122   tt3040964                                The Jungle Book  2016.0        106.0         7.4  261319.0    [Adventure,  Drama,  Family]     oriya\n",
       "48165  tt3040964                                The Jungle Book  2016.0        106.0         7.4  261319.0    [Adventure,  Drama,  Family]     tamil"
      ]
     },
     "execution_count": 262,
     "metadata": {},
     "output_type": "execute_result"
    }
   ],
   "source": [
    "df_sorted.head(10)"
   ]
  },
  {
   "cell_type": "code",
   "execution_count": 263,
   "metadata": {},
   "outputs": [],
   "source": [
    "df_top_10 = df_sorted.drop_duplicates(subset='Movie Name', keep='first').head(10)"
   ]
  },
  {
   "cell_type": "code",
   "execution_count": 265,
   "metadata": {},
   "outputs": [
    {
     "name": "stdout",
     "output_type": "stream",
     "text": [
      "Top 10 movies are:\n",
      "Movie Name                                         Votes     \n",
      "Iron Man                                           954861.0  \n",
      "Indiana Jones and the Raiders of the Lost Ark      894336.0  \n",
      "Star Wars: Episode I - The Phantom Menace          740452.0  \n",
      "3 Idiots                                           351187.0  \n",
      "Zero Dark Thirty                                   275912.0  \n",
      "The Jungle Book                                    261319.0  \n",
      "Eastern Promises                                   230284.0  \n",
      "Escape Plan                                        229488.0  \n",
      "Get Smart                                          205758.0  \n",
      "A Good Day to Die Hard                             199575.0  \n"
     ]
    }
   ],
   "source": [
    "print(\"Top 10 movies are:\")\n",
    "print(f\"{'Movie Name':<50} {'Votes':<10}\")\n",
    "\n",
    "# Iterate over the top 10 movies and print their details\n",
    "for _, row in df_top_10.iterrows():\n",
    "    print(f\"{row['Movie Name']:<50} {row['Votes']:<10}\")"
   ]
  },
  {
   "cell_type": "markdown",
   "metadata": {},
   "source": [
    "#### Explore if certain movie genres have higher average ratings"
   ]
  },
  {
   "cell_type": "code",
   "execution_count": 266,
   "metadata": {},
   "outputs": [
    {
     "data": {
      "image/png": "[encoded data removed]",
      "text/plain": [
       "<Figure size 1500x1000 with 1 Axes>"
      ]
     },
     "metadata": {},
     "output_type": "display_data"
    }
   ],
   "source": [
    "plt.figure(figsize=(15,10))\n",
    "sns.boxplot(x=df_exploded.Genre, y=df_exploded[\"Rating(10)\"], showmeans=True, meanprops={\"marker\": \"+\",\n",
    "                       \"markeredgecolor\": \"cyan\",\n",
    "                       \"markersize\": \"10\"})\n",
    "plt.xticks(rotation=90)\n",
    "plt.show()"
   ]
  },
  {
   "cell_type": "code",
   "execution_count": 267,
   "metadata": {},
   "outputs": [],
   "source": [
    "df_grouped_genres = df_exploded[[\"Rating(10)\", \"Genre\"]].groupby(by=\"Genre\").mean()"
   ]
  },
  {
   "cell_type": "code",
   "execution_count": 268,
   "metadata": {},
   "outputs": [],
   "source": [
    "df_grouped_genres = df_grouped_genres.sort_values(by=\"Rating(10)\", ascending=False)"
   ]
  },
  {
   "cell_type": "code",
   "execution_count": 269,
   "metadata": {},
   "outputs": [
    {
     "data": {
      "text/html": [
       "<div>\n",
       "<style scoped>\n",
       "    .dataframe tbody tr th:only-of-type {\n",
       "        vertical-align: middle;\n",
       "    }\n",
       "\n",
       "    .dataframe tbody tr th {\n",
       "        vertical-align: top;\n",
       "    }\n",
       "\n",
       "    .dataframe thead th {\n",
       "        text-align: right;\n",
       "    }\n",
       "</style>\n",
       "<table border=\"1\" class=\"dataframe\">\n",
       "  <thead>\n",
       "    <tr style=\"text-align: right;\">\n",
       "      <th></th>\n",
       "      <th>Rating(10)</th>\n",
       "    </tr>\n",
       "    <tr>\n",
       "      <th>Genre</th>\n",
       "      <th></th>\n",
       "    </tr>\n",
       "  </thead>\n",
       "  <tbody>\n",
       "    <tr>\n",
       "      <th>Short</th>\n",
       "      <td>7.912538</td>\n",
       "    </tr>\n",
       "    <tr>\n",
       "      <th>Documentary</th>\n",
       "      <td>7.638679</td>\n",
       "    </tr>\n",
       "    <tr>\n",
       "      <th>Talk-Show</th>\n",
       "      <td>7.609091</td>\n",
       "    </tr>\n",
       "    <tr>\n",
       "      <th>News</th>\n",
       "      <td>7.311765</td>\n",
       "    </tr>\n",
       "    <tr>\n",
       "      <th>History</th>\n",
       "      <td>7.127200</td>\n",
       "    </tr>\n",
       "    <tr>\n",
       "      <th>Biography</th>\n",
       "      <td>7.034304</td>\n",
       "    </tr>\n",
       "    <tr>\n",
       "      <th>War</th>\n",
       "      <td>6.910769</td>\n",
       "    </tr>\n",
       "    <tr>\n",
       "      <th>Music</th>\n",
       "      <td>6.805023</td>\n",
       "    </tr>\n",
       "    <tr>\n",
       "      <th>Family</th>\n",
       "      <td>6.538617</td>\n",
       "    </tr>\n",
       "    <tr>\n",
       "      <th>Sport</th>\n",
       "      <td>6.503731</td>\n",
       "    </tr>\n",
       "    <tr>\n",
       "      <th>Musical</th>\n",
       "      <td>6.456938</td>\n",
       "    </tr>\n",
       "    <tr>\n",
       "      <th>Drama</th>\n",
       "      <td>6.442843</td>\n",
       "    </tr>\n",
       "    <tr>\n",
       "      <th>Adventure</th>\n",
       "      <td>6.426568</td>\n",
       "    </tr>\n",
       "    <tr>\n",
       "      <th>Animation</th>\n",
       "      <td>6.389103</td>\n",
       "    </tr>\n",
       "    <tr>\n",
       "      <th>Mystery</th>\n",
       "      <td>6.314911</td>\n",
       "    </tr>\n",
       "    <tr>\n",
       "      <th>Romance</th>\n",
       "      <td>6.209292</td>\n",
       "    </tr>\n",
       "    <tr>\n",
       "      <th>Fantasy</th>\n",
       "      <td>6.197582</td>\n",
       "    </tr>\n",
       "    <tr>\n",
       "      <th>Crime</th>\n",
       "      <td>6.110622</td>\n",
       "    </tr>\n",
       "    <tr>\n",
       "      <th>Comedy</th>\n",
       "      <td>6.042760</td>\n",
       "    </tr>\n",
       "    <tr>\n",
       "      <th>Thriller</th>\n",
       "      <td>6.034237</td>\n",
       "    </tr>\n",
       "    <tr>\n",
       "      <th>Sci-Fi</th>\n",
       "      <td>5.964815</td>\n",
       "    </tr>\n",
       "    <tr>\n",
       "      <th>Reality-TV</th>\n",
       "      <td>5.878571</td>\n",
       "    </tr>\n",
       "    <tr>\n",
       "      <th>Action</th>\n",
       "      <td>5.831006</td>\n",
       "    </tr>\n",
       "    <tr>\n",
       "      <th>Western</th>\n",
       "      <td>5.825000</td>\n",
       "    </tr>\n",
       "    <tr>\n",
       "      <th>Horror</th>\n",
       "      <td>5.311606</td>\n",
       "    </tr>\n",
       "    <tr>\n",
       "      <th>Game-Show</th>\n",
       "      <td>4.780000</td>\n",
       "    </tr>\n",
       "  </tbody>\n",
       "</table>\n",
       "</div>"
      ],
      "text/plain": [
       "             Rating(10)\n",
       "Genre                  \n",
       "Short          7.912538\n",
       "Documentary    7.638679\n",
       "Talk-Show      7.609091\n",
       "News           7.311765\n",
       "History        7.127200\n",
       "Biography      7.034304\n",
       "War            6.910769\n",
       "Music          6.805023\n",
       "Family         6.538617\n",
       "Sport          6.503731\n",
       "Musical        6.456938\n",
       "Drama          6.442843\n",
       "Adventure      6.426568\n",
       "Animation      6.389103\n",
       "Mystery        6.314911\n",
       "Romance        6.209292\n",
       "Fantasy        6.197582\n",
       "Crime          6.110622\n",
       "Comedy         6.042760\n",
       "Thriller       6.034237\n",
       "Sci-Fi         5.964815\n",
       "Reality-TV     5.878571\n",
       "Action         5.831006\n",
       "Western        5.825000\n",
       "Horror         5.311606\n",
       "Game-Show      4.780000"
      ]
     },
     "execution_count": 269,
     "metadata": {},
     "output_type": "execute_result"
    }
   ],
   "source": [
    "df_grouped_genres"
   ]
  },
  {
   "cell_type": "markdown",
   "metadata": {},
   "source": [
    "This also confirms the same thing as the visualization. The top 3 Genres are \"Short\", \"Documentary\" and \"Talk-Show\" in descending order."
   ]
  },
  {
   "cell_type": "markdown",
   "metadata": {},
   "source": [
    "### Task 6: Time-Based Analysis"
   ]
  },
  {
   "cell_type": "markdown",
   "metadata": {},
   "source": [
    "#### Perform an analysis to see how ratings have changed over time (using the timestamp)"
   ]
  },
  {
   "cell_type": "code",
   "execution_count": 270,
   "metadata": {},
   "outputs": [],
   "source": [
    "# no such column"
   ]
  },
  {
   "cell_type": "markdown",
   "metadata": {},
   "source": [
    "#### Investigate if there are particular years or seasons where movies receive higher ratings"
   ]
  },
  {
   "cell_type": "code",
   "execution_count": 271,
   "metadata": {},
   "outputs": [
    {
     "data": {
      "text/html": [
       "<div>\n",
       "<style scoped>\n",
       "    .dataframe tbody tr th:only-of-type {\n",
       "        vertical-align: middle;\n",
       "    }\n",
       "\n",
       "    .dataframe tbody tr th {\n",
       "        vertical-align: top;\n",
       "    }\n",
       "\n",
       "    .dataframe thead th {\n",
       "        text-align: right;\n",
       "    }\n",
       "</style>\n",
       "<table border=\"1\" class=\"dataframe\">\n",
       "  <thead>\n",
       "    <tr style=\"text-align: right;\">\n",
       "      <th></th>\n",
       "      <th>ID</th>\n",
       "      <th>Movie Name</th>\n",
       "      <th>Year</th>\n",
       "      <th>Timing(min)</th>\n",
       "      <th>Rating(10)</th>\n",
       "      <th>Votes</th>\n",
       "      <th>Genre</th>\n",
       "      <th>Language</th>\n",
       "    </tr>\n",
       "  </thead>\n",
       "  <tbody>\n",
       "    <tr>\n",
       "      <th>19012</th>\n",
       "      <td>tt13045454</td>\n",
       "      <td>Paranjothi</td>\n",
       "      <td>2015.0</td>\n",
       "      <td>NaN</td>\n",
       "      <td>NaN</td>\n",
       "      <td>NaN</td>\n",
       "      <td>[Drama]</td>\n",
       "      <td>tamil</td>\n",
       "    </tr>\n",
       "    <tr>\n",
       "      <th>8398</th>\n",
       "      <td>tt0064506</td>\n",
       "      <td>Ittefaq</td>\n",
       "      <td>1969.0</td>\n",
       "      <td>104.0</td>\n",
       "      <td>7.4</td>\n",
       "      <td>963.0</td>\n",
       "      <td>[Crime,  Mystery,  Thriller]</td>\n",
       "      <td>hindi</td>\n",
       "    </tr>\n",
       "    <tr>\n",
       "      <th>8800</th>\n",
       "      <td>tt0107060</td>\n",
       "      <td>Gumrah</td>\n",
       "      <td>1993.0</td>\n",
       "      <td>149.0</td>\n",
       "      <td>6.2</td>\n",
       "      <td>691.0</td>\n",
       "      <td>[Action,  Crime,  Drama]</td>\n",
       "      <td>hindi</td>\n",
       "    </tr>\n",
       "    <tr>\n",
       "      <th>28989</th>\n",
       "      <td>tt0091512</td>\n",
       "      <td>Mera Dharam</td>\n",
       "      <td>1986.0</td>\n",
       "      <td>NaN</td>\n",
       "      <td>4.1</td>\n",
       "      <td>8.0</td>\n",
       "      <td>[Action,  Thriller]</td>\n",
       "      <td>hindi</td>\n",
       "    </tr>\n",
       "    <tr>\n",
       "      <th>21140</th>\n",
       "      <td>tt0854121</td>\n",
       "      <td>Chikkadu Dorakadu</td>\n",
       "      <td>1967.0</td>\n",
       "      <td>163.0</td>\n",
       "      <td>7.0</td>\n",
       "      <td>20.0</td>\n",
       "      <td>[Action,  Adventure,  Drama]</td>\n",
       "      <td>telugu</td>\n",
       "    </tr>\n",
       "    <tr>\n",
       "      <th>27157</th>\n",
       "      <td>tt0158144</td>\n",
       "      <td>Ranur Pratham Bhag</td>\n",
       "      <td>1974.0</td>\n",
       "      <td>NaN</td>\n",
       "      <td>7.2</td>\n",
       "      <td>8.0</td>\n",
       "      <td>[Drama]</td>\n",
       "      <td>bengali</td>\n",
       "    </tr>\n",
       "    <tr>\n",
       "      <th>23071</th>\n",
       "      <td>tt11596782</td>\n",
       "      <td>Mann Fakiraa</td>\n",
       "      <td>2020.0</td>\n",
       "      <td>133.0</td>\n",
       "      <td>7.8</td>\n",
       "      <td>23.0</td>\n",
       "      <td>[Comedy,  Drama,  Romance]</td>\n",
       "      <td>marathi</td>\n",
       "    </tr>\n",
       "    <tr>\n",
       "      <th>49115</th>\n",
       "      <td>tt2187114</td>\n",
       "      <td>Samar</td>\n",
       "      <td>2013.0</td>\n",
       "      <td>157.0</td>\n",
       "      <td>5.4</td>\n",
       "      <td>756.0</td>\n",
       "      <td>[Action,  Adventure,  Thriller]</td>\n",
       "      <td>tamil</td>\n",
       "    </tr>\n",
       "    <tr>\n",
       "      <th>293</th>\n",
       "      <td>tt4604852</td>\n",
       "      <td>Diyar Bhojai</td>\n",
       "      <td>1980.0</td>\n",
       "      <td>NaN</td>\n",
       "      <td>NaN</td>\n",
       "      <td>NaN</td>\n",
       "      <td>[Romance]</td>\n",
       "      <td>gujarati</td>\n",
       "    </tr>\n",
       "    <tr>\n",
       "      <th>9122</th>\n",
       "      <td>tt2202481</td>\n",
       "      <td>Mera Punjab</td>\n",
       "      <td>1994.0</td>\n",
       "      <td>158.0</td>\n",
       "      <td>5.8</td>\n",
       "      <td>5.0</td>\n",
       "      <td>[Action]</td>\n",
       "      <td>punjabi</td>\n",
       "    </tr>\n",
       "  </tbody>\n",
       "</table>\n",
       "</div>"
      ],
      "text/plain": [
       "               ID          Movie Name    Year  Timing(min)  Rating(10)  Votes                            Genre  Language\n",
       "19012  tt13045454          Paranjothi  2015.0          NaN         NaN    NaN                          [Drama]     tamil\n",
       "8398    tt0064506             Ittefaq  1969.0        104.0         7.4  963.0     [Crime,  Mystery,  Thriller]     hindi\n",
       "8800    tt0107060              Gumrah  1993.0        149.0         6.2  691.0         [Action,  Crime,  Drama]     hindi\n",
       "28989   tt0091512         Mera Dharam  1986.0          NaN         4.1    8.0              [Action,  Thriller]     hindi\n",
       "21140   tt0854121   Chikkadu Dorakadu  1967.0        163.0         7.0   20.0     [Action,  Adventure,  Drama]    telugu\n",
       "27157   tt0158144  Ranur Pratham Bhag  1974.0          NaN         7.2    8.0                          [Drama]   bengali\n",
       "23071  tt11596782        Mann Fakiraa  2020.0        133.0         7.8   23.0       [Comedy,  Drama,  Romance]   marathi\n",
       "49115   tt2187114               Samar  2013.0        157.0         5.4  756.0  [Action,  Adventure,  Thriller]     tamil\n",
       "293     tt4604852        Diyar Bhojai  1980.0          NaN         NaN    NaN                        [Romance]  gujarati\n",
       "9122    tt2202481         Mera Punjab  1994.0        158.0         5.8    5.0                         [Action]   punjabi"
      ]
     },
     "execution_count": 271,
     "metadata": {},
     "output_type": "execute_result"
    }
   ],
   "source": [
    "df_movie.sample(10)"
   ]
  },
  {
   "cell_type": "code",
   "execution_count": 272,
   "metadata": {},
   "outputs": [
    {
     "data": {
      "text/plain": [
       "<Axes: xlabel='Year', ylabel='Rating(10)'>"
      ]
     },
     "execution_count": 272,
     "metadata": {},
     "output_type": "execute_result"
    },
    {
     "data": {
      "image/png": "[encoded data removed]",
      "text/plain": [
       "<Figure size 640x480 with 1 Axes>"
      ]
     },
     "metadata": {},
     "output_type": "display_data"
    }
   ],
   "source": [
    "sns.scatterplot(x=df_movie[\"Year\"], y=df_movie[\"Rating(10)\"])"
   ]
  },
  {
   "cell_type": "markdown",
   "metadata": {},
   "source": [
    "Seems like with increasing years the movies have been getting more and more lower ratings."
   ]
  },
  {
   "cell_type": "markdown",
   "metadata": {},
   "source": [
    "#### Task 7: Visualizations"
   ]
  },
  {
   "cell_type": "markdown",
   "metadata": {},
   "source": [
    "* Provide relevant visualizations (histograms, bar plots, heatmaps, etc.) to supportyour findings.\n",
    "\n",
    "\n",
    "* Visualize trends such as the distribution of ratings across different genres or userdemographics"
   ]
  },
  {
   "cell_type": "code",
   "execution_count": 273,
   "metadata": {},
   "outputs": [],
   "source": [
    "# Already done above"
   ]
  },
  {
   "cell_type": "markdown",
   "metadata": {},
   "source": [
    "#### Task 8: Conclusion"
   ]
  },
  {
   "cell_type": "markdown",
   "metadata": {},
   "source": [
    "##### Key Findings:\n",
    "* The Movie ratings dataset seemed to a lot of invalid and missing data initially.\n",
    "\n",
    "* The most watched movie is \"Iron man\" with around 954861.0 votes.\n",
    "\n",
    "* The highly rated movies are following 7 with a rating of 10/10 :\n",
    "    1. Marasim - Beyond Borders\n",
    "    2. Ilu-Ilu\n",
    "    3. An Extraordinary Journey\n",
    "    4. Bihari Binani \n",
    "    5. Harsukh \n",
    "    6. Ashi Fasli Nanachi Tang\n",
    "    7. Antak \n",
    "\n",
    "* The top 3 Genres are \"Short\", \"Documentary\" and \"Talk-Show\" in descending order.\n",
    "\n",
    "##### Future:\n",
    "* The unique ID seems to be IMDB id and we can get the missing values from imdb api in future in we wanted to."
   ]
  },
  {
   "cell_type": "markdown",
   "metadata": {},
   "source": []
  }
 ],
 "metadata": {
  "kernelspec": {
   "display_name": "Python 3",
   "language": "python",
   "name": "python3"
  },
  "language_info": {
   "codemirror_mode": {
    "name": "ipython",
    "version": 3
   },
   "file_extension": ".py",
   "mimetype": "text/x-python",
   "name": "python",
   "nbconvert_exporter": "python",
   "pygments_lexer": "ipython3",
   "version": "3.9.6"
  }
 },
 "nbformat": 4,
 "nbformat_minor": 2
}
