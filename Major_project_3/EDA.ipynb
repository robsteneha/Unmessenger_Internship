{
 "cells": [
  {
   "cell_type": "code",
   "execution_count": 1,
   "metadata": {},
   "outputs": [],
   "source": [
    "import numpy as np\n",
    "import pandas as pd\n",
    "import matplotlib.pyplot as plt"
   ]
  },
  {
   "cell_type": "code",
   "execution_count": 2,
   "metadata": {},
   "outputs": [],
   "source": [
    "pd.set_option(\"display.max_columns\", 5000)\n",
    "pd.set_option(\"display.max_rows\", 5000)\n",
    "pd.set_option(\"display.width\", 5000)"
   ]
  },
  {
   "cell_type": "code",
   "execution_count": 3,
   "metadata": {},
   "outputs": [
    {
     "data": {
      "text/html": [
       "<div>\n",
       "<style scoped>\n",
       "    .dataframe tbody tr th:only-of-type {\n",
       "        vertical-align: middle;\n",
       "    }\n",
       "\n",
       "    .dataframe tbody tr th {\n",
       "        vertical-align: top;\n",
       "    }\n",
       "\n",
       "    .dataframe thead th {\n",
       "        text-align: right;\n",
       "    }\n",
       "</style>\n",
       "<table border=\"1\" class=\"dataframe\">\n",
       "  <thead>\n",
       "    <tr style=\"text-align: right;\">\n",
       "      <th></th>\n",
       "      <th>Province/State</th>\n",
       "      <th>Country/Region</th>\n",
       "      <th>Lat</th>\n",
       "      <th>Long</th>\n",
       "      <th>Date</th>\n",
       "      <th>Confirmed</th>\n",
       "      <th>Deaths</th>\n",
       "      <th>Recovered</th>\n",
       "      <th>Active</th>\n",
       "      <th>WHO Region</th>\n",
       "    </tr>\n",
       "  </thead>\n",
       "  <tbody>\n",
       "    <tr>\n",
       "      <th>35755</th>\n",
       "      <td>NaN</td>\n",
       "      <td>Tajikistan</td>\n",
       "      <td>38.861000</td>\n",
       "      <td>71.276100</td>\n",
       "      <td>2020-06-06</td>\n",
       "      <td>4453</td>\n",
       "      <td>48</td>\n",
       "      <td>2583</td>\n",
       "      <td>1822</td>\n",
       "      <td>Europe</td>\n",
       "    </tr>\n",
       "    <tr>\n",
       "      <th>18441</th>\n",
       "      <td>NaN</td>\n",
       "      <td>Nigeria</td>\n",
       "      <td>9.082000</td>\n",
       "      <td>8.675300</td>\n",
       "      <td>2020-04-01</td>\n",
       "      <td>174</td>\n",
       "      <td>2</td>\n",
       "      <td>9</td>\n",
       "      <td>163</td>\n",
       "      <td>Africa</td>\n",
       "    </tr>\n",
       "    <tr>\n",
       "      <th>17098</th>\n",
       "      <td>NaN</td>\n",
       "      <td>Ireland</td>\n",
       "      <td>53.142400</td>\n",
       "      <td>-7.692100</td>\n",
       "      <td>2020-03-27</td>\n",
       "      <td>2121</td>\n",
       "      <td>22</td>\n",
       "      <td>5</td>\n",
       "      <td>2094</td>\n",
       "      <td>Europe</td>\n",
       "    </tr>\n",
       "    <tr>\n",
       "      <th>37877</th>\n",
       "      <td>NaN</td>\n",
       "      <td>Cabo Verde</td>\n",
       "      <td>16.538800</td>\n",
       "      <td>-23.041800</td>\n",
       "      <td>2020-06-15</td>\n",
       "      <td>760</td>\n",
       "      <td>7</td>\n",
       "      <td>340</td>\n",
       "      <td>413</td>\n",
       "      <td>Africa</td>\n",
       "    </tr>\n",
       "    <tr>\n",
       "      <th>16058</th>\n",
       "      <td>NaN</td>\n",
       "      <td>Japan</td>\n",
       "      <td>36.204824</td>\n",
       "      <td>138.252924</td>\n",
       "      <td>2020-03-23</td>\n",
       "      <td>1144</td>\n",
       "      <td>41</td>\n",
       "      <td>235</td>\n",
       "      <td>868</td>\n",
       "      <td>Western Pacific</td>\n",
       "    </tr>\n",
       "  </tbody>\n",
       "</table>\n",
       "</div>"
      ],
      "text/plain": [
       "      Province/State Country/Region        Lat        Long        Date  Confirmed  Deaths  Recovered  Active       WHO Region\n",
       "35755            NaN     Tajikistan  38.861000   71.276100  2020-06-06       4453      48       2583    1822           Europe\n",
       "18441            NaN        Nigeria   9.082000    8.675300  2020-04-01        174       2          9     163           Africa\n",
       "17098            NaN        Ireland  53.142400   -7.692100  2020-03-27       2121      22          5    2094           Europe\n",
       "37877            NaN     Cabo Verde  16.538800  -23.041800  2020-06-15        760       7        340     413           Africa\n",
       "16058            NaN          Japan  36.204824  138.252924  2020-03-23       1144      41        235     868  Western Pacific"
      ]
     },
     "execution_count": 3,
     "metadata": {},
     "output_type": "execute_result"
    }
   ],
   "source": [
    "# dataset link: https://www.kaggle.com/datasets/imdevskp/corona-virus-report?select=covid_19_clean_complete.csv\n",
    "df_covid = pd.read_csv(\"/Users/neha.p/Desktop/Unmessenger_Internship/Major_project_3/covid_19_dataset/covid_19_clean_complete.csv\")\n",
    "df_covid.sample(5)"
   ]
  },
  {
   "cell_type": "code",
   "execution_count": 4,
   "metadata": {},
   "outputs": [
    {
     "data": {
      "text/plain": [
       "(49068, 10)"
      ]
     },
     "execution_count": 4,
     "metadata": {},
     "output_type": "execute_result"
    }
   ],
   "source": [
    "df_covid.shape"
   ]
  },
  {
   "cell_type": "code",
   "execution_count": 5,
   "metadata": {},
   "outputs": [
    {
     "name": "stdout",
     "output_type": "stream",
     "text": [
      "<class 'pandas.core.frame.DataFrame'>\n",
      "RangeIndex: 49068 entries, 0 to 49067\n",
      "Data columns (total 10 columns):\n",
      " #   Column          Non-Null Count  Dtype  \n",
      "---  ------          --------------  -----  \n",
      " 0   Province/State  14664 non-null  object \n",
      " 1   Country/Region  49068 non-null  object \n",
      " 2   Lat             49068 non-null  float64\n",
      " 3   Long            49068 non-null  float64\n",
      " 4   Date            49068 non-null  object \n",
      " 5   Confirmed       49068 non-null  int64  \n",
      " 6   Deaths          49068 non-null  int64  \n",
      " 7   Recovered       49068 non-null  int64  \n",
      " 8   Active          49068 non-null  int64  \n",
      " 9   WHO Region      49068 non-null  object \n",
      "dtypes: float64(2), int64(4), object(4)\n",
      "memory usage: 3.7+ MB\n"
     ]
    }
   ],
   "source": [
    "df_covid.info()"
   ]
  },
  {
   "cell_type": "markdown",
   "metadata": {},
   "source": [
    "The data types seems to be correct. The \"Province/State\" seems to be mostly empty."
   ]
  },
  {
   "cell_type": "code",
   "execution_count": 6,
   "metadata": {},
   "outputs": [
    {
     "data": {
      "text/html": [
       "<div>\n",
       "<style scoped>\n",
       "    .dataframe tbody tr th:only-of-type {\n",
       "        vertical-align: middle;\n",
       "    }\n",
       "\n",
       "    .dataframe tbody tr th {\n",
       "        vertical-align: top;\n",
       "    }\n",
       "\n",
       "    .dataframe thead th {\n",
       "        text-align: right;\n",
       "    }\n",
       "</style>\n",
       "<table border=\"1\" class=\"dataframe\">\n",
       "  <thead>\n",
       "    <tr style=\"text-align: right;\">\n",
       "      <th></th>\n",
       "      <th>Lat</th>\n",
       "      <th>Long</th>\n",
       "      <th>Confirmed</th>\n",
       "      <th>Deaths</th>\n",
       "      <th>Recovered</th>\n",
       "      <th>Active</th>\n",
       "    </tr>\n",
       "  </thead>\n",
       "  <tbody>\n",
       "    <tr>\n",
       "      <th>count</th>\n",
       "      <td>49068.000000</td>\n",
       "      <td>49068.000000</td>\n",
       "      <td>4.906800e+04</td>\n",
       "      <td>49068.000000</td>\n",
       "      <td>4.906800e+04</td>\n",
       "      <td>4.906800e+04</td>\n",
       "    </tr>\n",
       "    <tr>\n",
       "      <th>mean</th>\n",
       "      <td>21.433730</td>\n",
       "      <td>23.528236</td>\n",
       "      <td>1.688490e+04</td>\n",
       "      <td>884.179160</td>\n",
       "      <td>7.915713e+03</td>\n",
       "      <td>8.085012e+03</td>\n",
       "    </tr>\n",
       "    <tr>\n",
       "      <th>std</th>\n",
       "      <td>24.950320</td>\n",
       "      <td>70.442740</td>\n",
       "      <td>1.273002e+05</td>\n",
       "      <td>6313.584411</td>\n",
       "      <td>5.480092e+04</td>\n",
       "      <td>7.625890e+04</td>\n",
       "    </tr>\n",
       "    <tr>\n",
       "      <th>min</th>\n",
       "      <td>-51.796300</td>\n",
       "      <td>-135.000000</td>\n",
       "      <td>0.000000e+00</td>\n",
       "      <td>0.000000</td>\n",
       "      <td>0.000000e+00</td>\n",
       "      <td>-1.400000e+01</td>\n",
       "    </tr>\n",
       "    <tr>\n",
       "      <th>25%</th>\n",
       "      <td>7.873054</td>\n",
       "      <td>-15.310100</td>\n",
       "      <td>4.000000e+00</td>\n",
       "      <td>0.000000</td>\n",
       "      <td>0.000000e+00</td>\n",
       "      <td>0.000000e+00</td>\n",
       "    </tr>\n",
       "    <tr>\n",
       "      <th>50%</th>\n",
       "      <td>23.634500</td>\n",
       "      <td>21.745300</td>\n",
       "      <td>1.680000e+02</td>\n",
       "      <td>2.000000</td>\n",
       "      <td>2.900000e+01</td>\n",
       "      <td>2.600000e+01</td>\n",
       "    </tr>\n",
       "    <tr>\n",
       "      <th>75%</th>\n",
       "      <td>41.204380</td>\n",
       "      <td>80.771797</td>\n",
       "      <td>1.518250e+03</td>\n",
       "      <td>30.000000</td>\n",
       "      <td>6.660000e+02</td>\n",
       "      <td>6.060000e+02</td>\n",
       "    </tr>\n",
       "    <tr>\n",
       "      <th>max</th>\n",
       "      <td>71.706900</td>\n",
       "      <td>178.065000</td>\n",
       "      <td>4.290259e+06</td>\n",
       "      <td>148011.000000</td>\n",
       "      <td>1.846641e+06</td>\n",
       "      <td>2.816444e+06</td>\n",
       "    </tr>\n",
       "  </tbody>\n",
       "</table>\n",
       "</div>"
      ],
      "text/plain": [
       "                Lat          Long     Confirmed         Deaths     Recovered        Active\n",
       "count  49068.000000  49068.000000  4.906800e+04   49068.000000  4.906800e+04  4.906800e+04\n",
       "mean      21.433730     23.528236  1.688490e+04     884.179160  7.915713e+03  8.085012e+03\n",
       "std       24.950320     70.442740  1.273002e+05    6313.584411  5.480092e+04  7.625890e+04\n",
       "min      -51.796300   -135.000000  0.000000e+00       0.000000  0.000000e+00 -1.400000e+01\n",
       "25%        7.873054    -15.310100  4.000000e+00       0.000000  0.000000e+00  0.000000e+00\n",
       "50%       23.634500     21.745300  1.680000e+02       2.000000  2.900000e+01  2.600000e+01\n",
       "75%       41.204380     80.771797  1.518250e+03      30.000000  6.660000e+02  6.060000e+02\n",
       "max       71.706900    178.065000  4.290259e+06  148011.000000  1.846641e+06  2.816444e+06"
      ]
     },
     "execution_count": 6,
     "metadata": {},
     "output_type": "execute_result"
    }
   ],
   "source": [
    "df_covid.describe()"
   ]
  },
  {
   "cell_type": "code",
   "execution_count": 7,
   "metadata": {},
   "outputs": [],
   "source": [
    "df_covid[\"active cases\"] = df_covid[\"Confirmed\"] - df_covid[\"Deaths\"] - df_covid[\"Recovered\"]"
   ]
  },
  {
   "cell_type": "code",
   "execution_count": 8,
   "metadata": {},
   "outputs": [
    {
     "data": {
      "text/html": [
       "<div>\n",
       "<style scoped>\n",
       "    .dataframe tbody tr th:only-of-type {\n",
       "        vertical-align: middle;\n",
       "    }\n",
       "\n",
       "    .dataframe tbody tr th {\n",
       "        vertical-align: top;\n",
       "    }\n",
       "\n",
       "    .dataframe thead th {\n",
       "        text-align: right;\n",
       "    }\n",
       "</style>\n",
       "<table border=\"1\" class=\"dataframe\">\n",
       "  <thead>\n",
       "    <tr style=\"text-align: right;\">\n",
       "      <th></th>\n",
       "      <th>Province/State</th>\n",
       "      <th>Country/Region</th>\n",
       "      <th>Lat</th>\n",
       "      <th>Long</th>\n",
       "      <th>Date</th>\n",
       "      <th>Confirmed</th>\n",
       "      <th>Deaths</th>\n",
       "      <th>Recovered</th>\n",
       "      <th>Active</th>\n",
       "      <th>WHO Region</th>\n",
       "      <th>active cases</th>\n",
       "    </tr>\n",
       "  </thead>\n",
       "  <tbody>\n",
       "    <tr>\n",
       "      <th>17925</th>\n",
       "      <td>NaN</td>\n",
       "      <td>Papua New Guinea</td>\n",
       "      <td>-6.314993</td>\n",
       "      <td>143.95555</td>\n",
       "      <td>2020-03-30</td>\n",
       "      <td>1</td>\n",
       "      <td>0</td>\n",
       "      <td>0</td>\n",
       "      <td>1</td>\n",
       "      <td>Western Pacific</td>\n",
       "      <td>1</td>\n",
       "    </tr>\n",
       "    <tr>\n",
       "      <th>37096</th>\n",
       "      <td>NaN</td>\n",
       "      <td>Cameroon</td>\n",
       "      <td>3.848000</td>\n",
       "      <td>11.50210</td>\n",
       "      <td>2020-06-12</td>\n",
       "      <td>8681</td>\n",
       "      <td>212</td>\n",
       "      <td>4836</td>\n",
       "      <td>3633</td>\n",
       "      <td>Africa</td>\n",
       "      <td>3633</td>\n",
       "    </tr>\n",
       "    <tr>\n",
       "      <th>23653</th>\n",
       "      <td>NaN</td>\n",
       "      <td>Nepal</td>\n",
       "      <td>28.166700</td>\n",
       "      <td>84.25000</td>\n",
       "      <td>2020-04-21</td>\n",
       "      <td>43</td>\n",
       "      <td>0</td>\n",
       "      <td>4</td>\n",
       "      <td>39</td>\n",
       "      <td>South-East Asia</td>\n",
       "      <td>39</td>\n",
       "    </tr>\n",
       "    <tr>\n",
       "      <th>23635</th>\n",
       "      <td>NaN</td>\n",
       "      <td>Lebanon</td>\n",
       "      <td>33.854700</td>\n",
       "      <td>35.86230</td>\n",
       "      <td>2020-04-21</td>\n",
       "      <td>677</td>\n",
       "      <td>21</td>\n",
       "      <td>108</td>\n",
       "      <td>548</td>\n",
       "      <td>Eastern Mediterranean</td>\n",
       "      <td>548</td>\n",
       "    </tr>\n",
       "    <tr>\n",
       "      <th>40280</th>\n",
       "      <td>NaN</td>\n",
       "      <td>Croatia</td>\n",
       "      <td>45.100000</td>\n",
       "      <td>15.20000</td>\n",
       "      <td>2020-06-24</td>\n",
       "      <td>2388</td>\n",
       "      <td>107</td>\n",
       "      <td>2145</td>\n",
       "      <td>136</td>\n",
       "      <td>Europe</td>\n",
       "      <td>136</td>\n",
       "    </tr>\n",
       "  </tbody>\n",
       "</table>\n",
       "</div>"
      ],
      "text/plain": [
       "      Province/State    Country/Region        Lat       Long        Date  Confirmed  Deaths  Recovered  Active             WHO Region  active cases\n",
       "17925            NaN  Papua New Guinea  -6.314993  143.95555  2020-03-30          1       0          0       1        Western Pacific             1\n",
       "37096            NaN          Cameroon   3.848000   11.50210  2020-06-12       8681     212       4836    3633                 Africa          3633\n",
       "23653            NaN             Nepal  28.166700   84.25000  2020-04-21         43       0          4      39        South-East Asia            39\n",
       "23635            NaN           Lebanon  33.854700   35.86230  2020-04-21        677      21        108     548  Eastern Mediterranean           548\n",
       "40280            NaN           Croatia  45.100000   15.20000  2020-06-24       2388     107       2145     136                 Europe           136"
      ]
     },
     "execution_count": 8,
     "metadata": {},
     "output_type": "execute_result"
    }
   ],
   "source": [
    "df_covid.sample(5)"
   ]
  },
  {
   "cell_type": "code",
   "execution_count": 9,
   "metadata": {},
   "outputs": [
    {
     "data": {
      "text/plain": [
       "(0, 11)"
      ]
     },
     "execution_count": 9,
     "metadata": {},
     "output_type": "execute_result"
    }
   ],
   "source": [
    "df_covid[df_covid[\"Active\"]!=df_covid[\"active cases\"]].shape"
   ]
  },
  {
   "cell_type": "markdown",
   "metadata": {},
   "source": [
    "Seems like all the values in active cases are correct meaning we can remove this column"
   ]
  },
  {
   "cell_type": "code",
   "execution_count": 19,
   "metadata": {},
   "outputs": [],
   "source": [
    "df_covid.drop([\"active cases\"], axis=1, inplace=True)"
   ]
  },
  {
   "cell_type": "code",
   "execution_count": 11,
   "metadata": {},
   "outputs": [
    {
     "name": "stdout",
     "output_type": "stream",
     "text": [
      "Unique values in column Province/State: 79\n",
      "Unique values in column Country/Region: 187\n",
      "Unique values in column Lat: 260\n",
      "Unique values in column Long: 261\n",
      "Unique values in column Date: 188\n",
      "Unique values in column Confirmed: 10861\n",
      "Unique values in column Deaths: 3640\n",
      "Unique values in column Recovered: 7609\n",
      "Unique values in column Active: 8641\n",
      "Unique values in column WHO Region: 6\n",
      "['Eastern Mediterranean' 'Europe' 'Africa' 'Americas' 'Western Pacific'\n",
      " 'South-East Asia']\n",
      "Unique values in column active cases: 8641\n"
     ]
    }
   ],
   "source": [
    "for column in df_covid.columns:\n",
    "    print(\"Unique values in column {0}: {1}\".format(column,len(df_covid[column].unique())))\n",
    "    if(len(df_covid[column].unique())<20):\n",
    "        print(df_covid[column].unique())"
   ]
  },
  {
   "cell_type": "code",
   "execution_count": 13,
   "metadata": {},
   "outputs": [
    {
     "data": {
      "text/plain": [
       "Province/State        0\n",
       "Country/Region        0\n",
       "Lat                   0\n",
       "Long                  0\n",
       "Date                  0\n",
       "Confirmed         10059\n",
       "Deaths            20167\n",
       "Recovered         16659\n",
       "Active            14151\n",
       "WHO Region            0\n",
       "active cases      14151\n",
       "dtype: int64"
      ]
     },
     "execution_count": 13,
     "metadata": {},
     "output_type": "execute_result"
    }
   ],
   "source": [
    "(df_covid==0).sum(axis=0)"
   ]
  },
  {
   "cell_type": "markdown",
   "metadata": {},
   "source": [
    "The dataset doesn't need any further cleaning"
   ]
  },
  {
   "cell_type": "code",
   "execution_count": null,
   "metadata": {},
   "outputs": [],
   "source": []
  }
 ],
 "metadata": {
  "kernelspec": {
   "display_name": "Python 3",
   "language": "python",
   "name": "python3"
  },
  "language_info": {
   "codemirror_mode": {
    "name": "ipython",
    "version": 3
   },
   "file_extension": ".py",
   "mimetype": "text/x-python",
   "name": "python",
   "nbconvert_exporter": "python",
   "pygments_lexer": "ipython3",
   "version": "3.9.6"
  }
 },
 "nbformat": 4,
 "nbformat_minor": 2
}
